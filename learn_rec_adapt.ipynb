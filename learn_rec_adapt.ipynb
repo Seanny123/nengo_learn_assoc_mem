{
 "cells": [
  {
   "cell_type": "code",
   "execution_count": 1,
   "metadata": {},
   "outputs": [],
   "source": [
    "import nengo\n",
    "\n",
    "import numpy as np\n",
    "import matplotlib.pyplot as plt\n",
    "%matplotlib inline"
   ]
  },
  {
   "cell_type": "code",
   "execution_count": null,
   "metadata": {},
   "outputs": [],
   "source": [
    "class RecAdapt(nengo.Network):\n",
    "\n",
    "    def __init__(self, n_neurons: int, start_weights: np.ndarray,\n",
    "                 learning_rate=1e-9, threshold=150, theta_tau=1.0,\n",
    "                 sample_every=0.1, dt=0.001,\n",
    "                 label=None, seed=None, add_to_container=None):\n",
    "        super().__init__(label, seed, add_to_container)\n",
    "\n",
    "        self.kappa = learning_rate * dt\n",
    "        self.weights = start_weights.copy()\n",
    "        self.n_nrns = n_neurons\n",
    "        self.max_inhib = max_inhib\n",
    "\n",
    "        self.dt = dt\n",
    "        self.period = sample_every / dt\n",
    "        self.weight_history = []\n",
    "        self.lowpass = nengo.Lowpass(theta_tau).make_step(n_neurons, n_neurons, dt, None)\n",
    "\n",
    "        self.in_rates = np.zeros(n_neurons)\n",
    "        self.enabled = 0.\n",
    "\n",
    "        self.in_neurons = nengo.Node(self.set_in_rates, size_in=n_neurons)\n",
    "        self.out_neurons = nengo.Node(self.set_out_rates, size_in=n_neurons)\n",
    "        self.enable = nengo.Node(self.set_enabled, size_in=1)\n",
    "        self.output = nengo.Node(self.bcm_func, size_out=n_neurons)\n",
    "\n",
    "    def set_in_rates(self, t, x):\n",
    "        self.in_rates = x\n",
    "\n",
    "    def set_out_rates(self, t, x):\n",
    "        self.out_rates = x\n",
    "\n",
    "    def set_enabled(self, t, x):\n",
    "        self.enabled = x\n",
    "\n",
    "    def bcm_func(self, t):\n",
    "        theta = self.lowpass(t, self.out_rates)\n",
    "\n",
    "        self.in_rates[self.in_rates < self.thresh] = 0.\n",
    "        self.weights += np.outer(self.kappa * theta, self.in_rates) * self.enabled\n",
    "        self.weights[self.weights < self.max_inhib] = self.max_inhib\n",
    "\n",
    "        np.fill_diagonal(self.weights, 0)\n",
    "\n",
    "        if ((t - self.dt) / self.dt % self.period) < 1:\n",
    "            self.weight_history.append(self.weights.copy())\n",
    "\n",
    "        return np.dot(self.weights, self.in_rates)"
   ]
  },
  {
   "cell_type": "code",
   "execution_count": 2,
   "metadata": {},
   "outputs": [],
   "source": [
    "def stim_func(t):\n",
    "    if t < 0.5:\n",
    "        return 0.3\n",
    "    elif 1.0 < t < 1.5:\n",
    "        return 0.3\n",
    "    else:\n",
    "        return -0.3"
   ]
  },
  {
   "cell_type": "code",
   "execution_count": 3,
   "metadata": {},
   "outputs": [],
   "source": [
    "ens_params = dict(encoders=[[1], [1], [-1], [-1]], intercepts=[-0.5, -0.1, -0.1, -0.5], max_rates=[250, 300, 300, 250])"
   ]
  },
  {
   "cell_type": "code",
   "execution_count": null,
   "metadata": {},
   "outputs": [],
   "source": [
    "n_neurons = 4\n",
    "\n",
    "with nengo.Network() as model:\n",
    "    stim = nengo.Node(stim_func)\n",
    "\n",
    "    ens = nengo.Ensemble(n_neurons, 1, neuron_type=nengo.LIFRate(), **ens_params)\n",
    "    rec_learn = RecAdapt(n_neurons, rec_inhib, learning_rate=bcm_lr,\n",
    "                         max_inhib=-0.05, sample_every=t_each / sample_freq)\n",
    "    \n",
    "    nengo.Connection(stim, ens)\n",
    "    nengo.Connection(ens.neurons, rec_learn.in_neurons, synapse=0.01)\n",
    "    nengo.Connection(rec_learn.output, ens.neurons, synapse=None)\n",
    "    \n",
    "    p_spikes = nengo.Probe(ens.neurons)"
   ]
  },
  {
   "cell_type": "code",
   "execution_count": null,
   "metadata": {},
   "outputs": [],
   "source": [
    "with nengo.Simulator(model) as sim:\n",
    "    sim.run(2)"
   ]
  }
 ],
 "metadata": {
  "kernelspec": {
   "display_name": "Python 3",
   "language": "python",
   "name": "python3"
  },
  "language_info": {
   "codemirror_mode": {
    "name": "ipython",
    "version": 3
   },
   "file_extension": ".py",
   "mimetype": "text/x-python",
   "name": "python",
   "nbconvert_exporter": "python",
   "pygments_lexer": "ipython3",
   "version": "3.6.3"
  }
 },
 "nbformat": 4,
 "nbformat_minor": 2
}
