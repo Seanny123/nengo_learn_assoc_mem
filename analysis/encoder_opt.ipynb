{
 "cells": [
  {
   "cell_type": "code",
   "execution_count": 35,
   "metadata": {
    "collapsed": true
   },
   "outputs": [],
   "source": [
    "import numpy as np\n",
    "import matplotlib.pyplot as plt\n",
    "import pandas as pd\n",
    "import seaborn as sns\n",
    "sns.set()\n",
    "%matplotlib inline\n",
    "\n",
    "import nengo\n",
    "import nengo_spa as spa\n",
    "\n",
    "from nengo_learn_assoc_mem.utils import BasicVecFeed, meg_from_spikes, make_alt_vocab"
   ]
  },
  {
   "cell_type": "markdown",
   "metadata": {},
   "source": [
    "# Try choosing encoders in two dimensions"
   ]
  },
  {
   "cell_type": "code",
   "execution_count": 36,
   "metadata": {
    "collapsed": true
   },
   "outputs": [],
   "source": [
    "n_neurons = 100\n",
    "p_neg = 25\n",
    "\n",
    "vec_1 = [-1, -1]\n",
    "vec_2 = [1, 1]\n",
    "\n",
    "encoders = np.ones((n_neurons, 2))\n",
    "encoders[:p_neg] = encoders[:p_neg] * -1"
   ]
  },
  {
   "cell_type": "code",
   "execution_count": 37,
   "metadata": {
    "collapsed": true
   },
   "outputs": [],
   "source": [
    "with nengo.Network() as model:\n",
    "    ens = nengo.Ensemble(n_neurons, 2, encoders=encoders)"
   ]
  },
  {
   "cell_type": "code",
   "execution_count": 38,
   "metadata": {},
   "outputs": [
    {
     "name": "stdout",
     "output_type": "stream",
     "text": [
      "\r",
      "Building finished in 0:00:01.                                                   \n"
     ]
    }
   ],
   "source": [
    "sim = nengo.Simulator(model)"
   ]
  },
  {
   "cell_type": "code",
   "execution_count": 39,
   "metadata": {
    "collapsed": true
   },
   "outputs": [],
   "source": [
    "samples = 50"
   ]
  },
  {
   "cell_type": "code",
   "execution_count": 40,
   "metadata": {
    "collapsed": true
   },
   "outputs": [],
   "source": [
    "input_1 = -1*np.ones((samples, 2)) + np.random.uniform(size=(samples, 2))*0.1"
   ]
  },
  {
   "cell_type": "code",
   "execution_count": 41,
   "metadata": {
    "collapsed": true
   },
   "outputs": [],
   "source": [
    "input_2 = np.ones((samples, 2)) + np.random.uniform(size=(samples, 2))*0.1"
   ]
  },
  {
   "cell_type": "code",
   "execution_count": 42,
   "metadata": {},
   "outputs": [
    {
     "data": {
      "text/plain": [
       "(50, 2)"
      ]
     },
     "execution_count": 42,
     "metadata": {},
     "output_type": "execute_result"
    }
   ],
   "source": [
    "input_1.shape"
   ]
  },
  {
   "cell_type": "code",
   "execution_count": 43,
   "metadata": {},
   "outputs": [
    {
     "data": {
      "text/plain": [
       "<matplotlib.collections.PathCollection at 0x7efef3776240>"
      ]
     },
     "execution_count": 43,
     "metadata": {},
     "output_type": "execute_result"
    },
    {
     "data": {
      "image/png": "[encoded data removed]",
      "text/plain": [
       "<matplotlib.figure.Figure at 0x7efef379d9b0>"
      ]
     },
     "metadata": {},
     "output_type": "display_data"
    }
   ],
   "source": [
    "plt.scatter(input_1[:, 0], input_1[:, 1])\n",
    "plt.scatter(input_2[:, 0], input_2[:, 1])"
   ]
  },
  {
   "cell_type": "code",
   "execution_count": 44,
   "metadata": {
    "collapsed": true
   },
   "outputs": [],
   "source": [
    "_, activity_1 = nengo.utils.ensemble.tuning_curves(ens, sim, inputs=input_1)"
   ]
  },
  {
   "cell_type": "code",
   "execution_count": 45,
   "metadata": {
    "collapsed": true
   },
   "outputs": [],
   "source": [
    "_, activity_2 = nengo.utils.ensemble.tuning_curves(ens, sim, inputs=input_2)"
   ]
  },
  {
   "cell_type": "code",
   "execution_count": 46,
   "metadata": {
    "collapsed": true
   },
   "outputs": [],
   "source": [
    "columns = (\"vec\", \"resp\")\n",
    "\n",
    "a1 = activity_1.flatten()\n",
    "l1 = [\"v1\"] * len(a1)\n",
    "p1 = pd.DataFrame({\"vec\": l1, \"resp\": list(a1)})\n",
    "\n",
    "\n",
    "a2 = activity_2.flatten()\n",
    "l2 = [\"v2\"] * len(a2)\n",
    "p2 = pd.DataFrame({\"vec\": l2, \"resp\": list(a2)})\n",
    "\n",
    "acts = pd.concat((p1, p2))"
   ]
  },
  {
   "cell_type": "code",
   "execution_count": 47,
   "metadata": {},
   "outputs": [
    {
     "data": {
      "text/plain": [
       "<matplotlib.axes._subplots.AxesSubplot at 0x7efef39736d8>"
      ]
     },
     "execution_count": 47,
     "metadata": {},
     "output_type": "execute_result"
    },
    {
     "data": {
      "image/png": "[encoded data removed]",
      "text/plain": [
       "<matplotlib.figure.Figure at 0x7efef3816390>"
      ]
     },
     "metadata": {},
     "output_type": "display_data"
    }
   ],
   "source": [
    "sns.barplot(x=\"vec\", y=\"resp\", data=acts)"
   ]
  },
  {
   "cell_type": "markdown",
   "metadata": {},
   "source": [
    "# Apply to full vocab"
   ]
  },
  {
   "cell_type": "code",
   "execution_count": 48,
   "metadata": {
    "collapsed": true
   },
   "outputs": [],
   "source": [
    "dimensions = 64\n",
    "n_neurons = 1000\n",
    "seed = 8\n",
    "p_fan = 0.9"
   ]
  },
  {
   "cell_type": "code",
   "execution_count": 49,
   "metadata": {
    "collapsed": true
   },
   "outputs": [],
   "source": [
    "vocab, fan1, fan1_vecs, fan2, fan2_vecs, foil1, foil1_vecs, foil2, foil2_vecs = make_alt_vocab(11, 11, dimensions, seed, norm=True)"
   ]
  },
  {
   "cell_type": "code",
   "execution_count": 50,
   "metadata": {},
   "outputs": [
    {
     "name": "stdout",
     "output_type": "stream",
     "text": [
      "900\n",
      "899\n",
      "999\n"
     ]
    }
   ],
   "source": [
    "encoders = np.zeros((n_neurons, dimensions))\n",
    "\n",
    "fan1_end = int(n_neurons * p_fan)\n",
    "print(fan1_end)\n",
    "\n",
    "for n_i in range(fan1_end):\n",
    "    encoders[n_i] = fan1_vecs[n_i % len(fan1)] + np.random.uniform(size=dimensions)*0.1\n",
    "print(n_i)\n",
    "\n",
    "for n_i in range(fan1_end, n_neurons):\n",
    "    encoders[n_i] = fan2_vecs[n_i % len(fan2)] + np.random.uniform(size=dimensions)*0.1\n",
    "\n",
    "print(n_i)"
   ]
  },
  {
   "cell_type": "code",
   "execution_count": 51,
   "metadata": {
    "collapsed": true
   },
   "outputs": [],
   "source": [
    "with nengo.Network() as model:\n",
    "    ens = nengo.Ensemble(n_neurons, dimensions, encoders=encoders)"
   ]
  },
  {
   "cell_type": "code",
   "execution_count": 52,
   "metadata": {},
   "outputs": [
    {
     "name": "stdout",
     "output_type": "stream",
     "text": [
      "\r",
      "Building finished in 0:00:01.                                                   \n"
     ]
    }
   ],
   "source": [
    "sim = nengo.Simulator(model)"
   ]
  },
  {
   "cell_type": "code",
   "execution_count": 53,
   "metadata": {
    "collapsed": true
   },
   "outputs": [],
   "source": [
    "_, activity_1 = nengo.utils.ensemble.tuning_curves(ens, sim, inputs=np.array(fan1_vecs))"
   ]
  },
  {
   "cell_type": "code",
   "execution_count": 54,
   "metadata": {
    "collapsed": true
   },
   "outputs": [],
   "source": [
    "_, activity_2 = nengo.utils.ensemble.tuning_curves(ens, sim, inputs=np.array(fan2_vecs))"
   ]
  },
  {
   "cell_type": "code",
   "execution_count": 55,
   "metadata": {
    "collapsed": true
   },
   "outputs": [],
   "source": [
    "columns = (\"vec\", \"resp\")\n",
    "\n",
    "a1 = activity_1.flatten()\n",
    "l1 = [\"fan1\"] * len(a1)\n",
    "p1 = pd.DataFrame({\"vec\": l1, \"resp\": list(a1)})\n",
    "\n",
    "\n",
    "a2 = activity_2.flatten()\n",
    "l2 = [\"fan2\"] * len(a2)\n",
    "p2 = pd.DataFrame({\"vec\": l2, \"resp\": list(a2)})\n",
    "\n",
    "acts = pd.concat((p1, p2))"
   ]
  },
  {
   "cell_type": "code",
   "execution_count": 56,
   "metadata": {},
   "outputs": [
    {
     "data": {
      "text/plain": [
       "<matplotlib.axes._subplots.AxesSubplot at 0x7efef3725278>"
      ]
     },
     "execution_count": 56,
     "metadata": {},
     "output_type": "execute_result"
    },
    {
     "data": {
      "image/png": "[encoded data removed]",
      "text/plain": [
       "<matplotlib.figure.Figure at 0x7efef37f2780>"
      ]
     },
     "metadata": {},
     "output_type": "display_data"
    }
   ],
   "source": [
    "sns.barplot(x=\"vec\", y=\"resp\", data=acts)"
   ]
  },
  {
   "cell_type": "code",
   "execution_count": 57,
   "metadata": {},
   "outputs": [
    {
     "data": {
      "text/plain": [
       "<matplotlib.legend.Legend at 0x7efef36026d8>"
      ]
     },
     "execution_count": 57,
     "metadata": {},
     "output_type": "execute_result"
    },
    {
     "data": {
      "image/png": "[encoded data removed]",
      "text/plain": [
       "<matplotlib.figure.Figure at 0x7efef36abba8>"
      ]
     },
     "metadata": {},
     "output_type": "display_data"
    }
   ],
   "source": [
    "plt.title(\"Mean Firing Rates per Neuron\")\n",
    "plt.plot(np.sort(np.mean(activity_1, axis=0)), label=\"fan1\")\n",
    "plt.plot(np.sort(np.mean(activity_2, axis=0)), label=\"fan2\")\n",
    "plt.plot(np.sort(np.mean(np.concatenate((activity_1, activity_2)), axis=0)), label=\"all trials\")\n",
    "plt.legend()"
   ]
  },
  {
   "cell_type": "code",
   "execution_count": 58,
   "metadata": {},
   "outputs": [
    {
     "data": {
      "text/plain": [
       "<matplotlib.legend.Legend at 0x7efef35fc198>"
      ]
     },
     "execution_count": 58,
     "metadata": {},
     "output_type": "execute_result"
    },
    {
     "data": {
      "image/png": "[encoded data removed]",
      "text/plain": [
       "<matplotlib.figure.Figure at 0x7efef361b438>"
      ]
     },
     "metadata": {},
     "output_type": "display_data"
    }
   ],
   "source": [
    "plt.title(\"Variance of Firing Rates per Neuron\")\n",
    "plt.plot(np.sort(np.var(activity_1, axis=0)), label=\"fan1\")\n",
    "plt.plot(np.sort(np.var(activity_2, axis=0)), label=\"fan2\")\n",
    "plt.plot(np.sort(np.var(np.concatenate((activity_1, activity_2)), axis=0)), label=\"all trials\")\n",
    "plt.legend()"
   ]
  },
  {
   "cell_type": "code",
   "execution_count": 59,
   "metadata": {},
   "outputs": [
    {
     "name": "stdout",
     "output_type": "stream",
     "text": [
      "Number of neurons basically firing for both vectors\n",
      "100\n"
     ]
    },
    {
     "data": {
      "text/plain": [
       "[<matplotlib.lines.Line2D at 0x7efef356d9e8>]"
      ]
     },
     "execution_count": 59,
     "metadata": {},
     "output_type": "execute_result"
    },
    {
     "data": {
      "image/png": "[encoded data removed]",
      "text/plain": [
       "<matplotlib.figure.Figure at 0x7efef395bcc0>"
      ]
     },
     "metadata": {},
     "output_type": "display_data"
    }
   ],
   "source": [
    "print(\"Number of neurons basically firing for both vectors\")\n",
    "fire_diff = np.sort(np.abs(np.sum(activity_1, axis=0) - np.sum(activity_2, axis=0)))\n",
    "print(len(fire_diff[fire_diff < 10]))\n",
    "plt.plot(fire_diff)"
   ]
  },
  {
   "cell_type": "code",
   "execution_count": 60,
   "metadata": {},
   "outputs": [
    {
     "name": "stdout",
     "output_type": "stream",
     "text": [
      "Number of neurons basically not firing for either vector\n"
     ]
    },
    {
     "data": {
      "text/plain": [
       "50"
      ]
     },
     "execution_count": 60,
     "metadata": {},
     "output_type": "execute_result"
    }
   ],
   "source": [
    "print(\"Number of neurons basically not firing for either vector\")\n",
    "fire_diff = np.sort(np.abs(np.sum(activity_1, axis=0) + np.sum(activity_2, axis=0)))\n",
    "len(fire_diff[fire_diff < 10])"
   ]
  },
  {
   "cell_type": "markdown",
   "metadata": {},
   "source": [
    "# Apply to mean vecs"
   ]
  },
  {
   "cell_type": "code",
   "execution_count": 61,
   "metadata": {},
   "outputs": [
    {
     "name": "stdout",
     "output_type": "stream",
     "text": [
      "(64,)\n"
     ]
    }
   ],
   "source": [
    "mean_fan1 = np.mean(fan1_vecs, axis=0)\n",
    "print(mean_fan1.shape)\n",
    "mean_fan2 = np.mean(fan2_vecs, axis=0)"
   ]
  },
  {
   "cell_type": "code",
   "execution_count": 62,
   "metadata": {},
   "outputs": [
    {
     "name": "stdout",
     "output_type": "stream",
     "text": [
      "900\n",
      "899\n",
      "999\n"
     ]
    }
   ],
   "source": [
    "encoders = np.zeros((n_neurons, dimensions))\n",
    "\n",
    "fan1_end = int(n_neurons * p_fan)\n",
    "print(fan1_end)\n",
    "\n",
    "for n_i in range(fan1_end):\n",
    "    encoders[n_i] = mean_fan1 + np.random.uniform(size=dimensions)*0.1\n",
    "print(n_i)\n",
    "\n",
    "for n_i in range(fan1_end, n_neurons):\n",
    "    encoders[n_i] = mean_fan2 + np.random.uniform(size=dimensions)*0.1\n",
    "\n",
    "print(n_i)"
   ]
  },
  {
   "cell_type": "code",
   "execution_count": 63,
   "metadata": {
    "collapsed": true
   },
   "outputs": [],
   "source": [
    "with nengo.Network() as model:\n",
    "    ens = nengo.Ensemble(n_neurons, dimensions, encoders=encoders)"
   ]
  },
  {
   "cell_type": "code",
   "execution_count": 64,
   "metadata": {},
   "outputs": [
    {
     "name": "stdout",
     "output_type": "stream",
     "text": [
      "\r",
      "Building finished in 0:00:01.                                                   \n"
     ]
    }
   ],
   "source": [
    "sim = nengo.Simulator(model)"
   ]
  },
  {
   "cell_type": "code",
   "execution_count": 65,
   "metadata": {
    "collapsed": true
   },
   "outputs": [],
   "source": [
    "_, activity_1 = nengo.utils.ensemble.tuning_curves(ens, sim, inputs=np.array(fan1_vecs))"
   ]
  },
  {
   "cell_type": "code",
   "execution_count": 66,
   "metadata": {
    "collapsed": true
   },
   "outputs": [],
   "source": [
    "_, activity_2 = nengo.utils.ensemble.tuning_curves(ens, sim, inputs=np.array(fan2_vecs))"
   ]
  },
  {
   "cell_type": "code",
   "execution_count": 67,
   "metadata": {
    "collapsed": true
   },
   "outputs": [],
   "source": [
    "columns = (\"vec\", \"resp\")\n",
    "\n",
    "a1 = activity_1.flatten()\n",
    "l1 = [\"fan1\"] * len(a1)\n",
    "p1 = pd.DataFrame({\"vec\": l1, \"resp\": list(a1)})\n",
    "\n",
    "\n",
    "a2 = activity_2.flatten()\n",
    "l2 = [\"fan2\"] * len(a2)\n",
    "p2 = pd.DataFrame({\"vec\": l2, \"resp\": list(a2)})\n",
    "\n",
    "acts = pd.concat((p1, p2))"
   ]
  },
  {
   "cell_type": "code",
   "execution_count": 68,
   "metadata": {},
   "outputs": [
    {
     "data": {
      "text/plain": [
       "<matplotlib.axes._subplots.AxesSubplot at 0x7efef371d198>"
      ]
     },
     "execution_count": 68,
     "metadata": {},
     "output_type": "execute_result"
    },
    {
     "data": {
      "image/png": "[encoded data removed]",
      "text/plain": [
       "<matplotlib.figure.Figure at 0x7efef37a5940>"
      ]
     },
     "metadata": {},
     "output_type": "display_data"
    }
   ],
   "source": [
    "sns.barplot(x=\"vec\", y=\"resp\", data=acts)"
   ]
  },
  {
   "cell_type": "code",
   "execution_count": 69,
   "metadata": {},
   "outputs": [
    {
     "data": {
      "text/plain": [
       "<matplotlib.legend.Legend at 0x7efef34a7320>"
      ]
     },
     "execution_count": 69,
     "metadata": {},
     "output_type": "execute_result"
    },
    {
     "data": {
      "image/png": "[encoded data removed]",
      "text/plain": [
       "<matplotlib.figure.Figure at 0x7efef34db278>"
      ]
     },
     "metadata": {},
     "output_type": "display_data"
    }
   ],
   "source": [
    "plt.title(\"Mean Firing Rates per Neuron\")\n",
    "plt.plot(np.sort(np.mean(activity_1, axis=0)), label=\"fan1\")\n",
    "plt.plot(np.sort(np.mean(activity_2, axis=0)), label=\"fan2\")\n",
    "plt.plot(np.sort(np.mean(np.concatenate((activity_1, activity_2)), axis=0)), label=\"all trials\")\n",
    "plt.legend()"
   ]
  },
  {
   "cell_type": "code",
   "execution_count": 40,
   "metadata": {},
   "outputs": [
    {
     "data": {
      "text/plain": [
       "<matplotlib.legend.Legend at 0x27a7a0c8be0>"
      ]
     },
     "execution_count": 40,
     "metadata": {},
     "output_type": "execute_result"
    },
    {
     "data": {
      "image/png": "[encoded data removed]",
      "text/plain": [
       "<matplotlib.figure.Figure at 0x27a79ef4ef0>"
      ]
     },
     "metadata": {},
     "output_type": "display_data"
    }
   ],
   "source": [
    "plt.title(\"Variance of Firing Rates per Neuron\")\n",
    "plt.plot(np.sort(np.var(activity_1, axis=0)), label=\"fan1\")\n",
    "plt.plot(np.sort(np.var(activity_2, axis=0)), label=\"fan2\")\n",
    "plt.plot(np.sort(np.var(np.concatenate((activity_1, activity_2)), axis=0)), label=\"all trials\")\n",
    "plt.legend()"
   ]
  },
  {
   "cell_type": "code",
   "execution_count": 41,
   "metadata": {},
   "outputs": [
    {
     "name": "stdout",
     "output_type": "stream",
     "text": [
      "Number of neurons basically firing for both vectors\n",
      "255\n"
     ]
    },
    {
     "data": {
      "text/plain": [
       "[<matplotlib.lines.Line2D at 0x27a7a180588>]"
      ]
     },
     "execution_count": 41,
     "metadata": {},
     "output_type": "execute_result"
    },
    {
     "data": {
      "image/png": "[encoded data removed]",
      "text/plain": [
       "<matplotlib.figure.Figure at 0x27a79f16a90>"
      ]
     },
     "metadata": {},
     "output_type": "display_data"
    }
   ],
   "source": [
    "print(\"Number of neurons basically firing for both vectors\")\n",
    "fire_diff = np.sort(np.abs(np.sum(activity_1, axis=0) - np.sum(activity_2, axis=0)))\n",
    "print(len(fire_diff[fire_diff < 10]))\n",
    "plt.plot(fire_diff)"
   ]
  },
  {
   "cell_type": "code",
   "execution_count": 42,
   "metadata": {},
   "outputs": [
    {
     "name": "stdout",
     "output_type": "stream",
     "text": [
      "Number of neurons basically not firing for either vector\n"
     ]
    },
    {
     "data": {
      "text/plain": [
       "255"
      ]
     },
     "execution_count": 42,
     "metadata": {},
     "output_type": "execute_result"
    }
   ],
   "source": [
    "print(\"Number of neurons basically not firing for either vector\")\n",
    "fire_diff = np.sort(np.abs(np.sum(activity_1, axis=0) + np.sum(activity_2, axis=0)))\n",
    "len(fire_diff[fire_diff < 10])"
   ]
  }
 ],
 "metadata": {
  "kernelspec": {
   "display_name": "Python 3",
   "language": "python",
   "name": "python3"
  },
  "language_info": {
   "codemirror_mode": {
    "name": "ipython",
    "version": 3
   },
   "file_extension": ".py",
   "mimetype": "text/x-python",
   "name": "python",
   "nbconvert_exporter": "python",
   "pygments_lexer": "ipython3",
   "version": "3.6.1"
  }
 },
 "nbformat": 4,
 "nbformat_minor": 2
}
