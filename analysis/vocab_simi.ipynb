{
 "cells": [
  {
   "cell_type": "code",
   "execution_count": 1,
   "metadata": {
    "collapsed": true
   },
   "outputs": [],
   "source": [
    "import numpy as np\n",
    "from nengo import spa"
   ]
  },
  {
   "cell_type": "code",
   "execution_count": 5,
   "metadata": {},
   "outputs": [
    {
     "name": "stderr",
     "output_type": "stream",
     "text": [
      "c:\\users\\mr_bo\\git\\nengo\\nengo\\spa\\vocab.py:114: UserWarning: Could not create a semantic pointer with max_similarity=0.10 (D=32, M=10)\n",
      "  len(self.pointers)))\n",
      "c:\\users\\mr_bo\\git\\nengo\\nengo\\spa\\vocab.py:114: UserWarning: Could not create a semantic pointer with max_similarity=0.10 (D=32, M=12)\n",
      "  len(self.pointers)))\n",
      "c:\\users\\mr_bo\\git\\nengo\\nengo\\spa\\vocab.py:114: UserWarning: Could not create a semantic pointer with max_similarity=0.10 (D=32, M=13)\n",
      "  len(self.pointers)))\n"
     ]
    }
   ],
   "source": [
    "seed = 8\n",
    "dimensions = 32\n",
    "\n",
    "rng = np.random.RandomState(seed=seed)\n",
    "vocab = spa.Vocabulary(dimensions, rng=rng)\n",
    "\n",
    "fan1 = [\"CAT+DOG\", \"DUCK+FISH\", \"HORSE+COW\", \"CROW+CHICK\"]\n",
    "fan1_vecs = []\n",
    "fan1_labels = []\n",
    "\n",
    "fan2 = [\"PIG+RAT\", \"PIG+GOAT\", \"SHEEP+EMU\", \"SHEEP+GOOSE\"]\n",
    "fan2_vecs = []\n",
    "fan2_labels = []\n",
    "\n",
    "for v_i, vec in enumerate(fan1):\n",
    "    sum_vec = vocab.parse(vec).v\n",
    "    norm_vec = sum_vec / np.linalg.norm(sum_vec)\n",
    "    fan1_vecs.append(norm_vec)\n",
    "    fan1_labels.append(\"F1%s\" % v_i)\n",
    "\n",
    "for v_i, vec in enumerate(fan2):\n",
    "    sum_vec = vocab.parse(vec).v\n",
    "    norm_vec = sum_vec / np.linalg.norm(sum_vec)\n",
    "    fan2_vecs.append(norm_vec)\n",
    "    fan2_labels.append(\"F2%s\" % v_i)"
   ]
  },
  {
   "cell_type": "code",
   "execution_count": 6,
   "metadata": {},
   "outputs": [
    {
     "name": "stdout",
     "output_type": "stream",
     "text": [
      "0.46\n"
     ]
    }
   ],
   "source": [
    "all_vecs = np.concatenate((fan1_vecs, fan2_vecs))\n",
    "simi = np.dot(all_vecs, all_vecs.T)\n",
    "np.fill_diagonal(simi, 0.)\n",
    "intercept = np.ceil(np.max(simi)*100)/100\n",
    "print(intercept)"
   ]
  },
  {
   "cell_type": "code",
   "execution_count": null,
   "metadata": {
    "collapsed": true
   },
   "outputs": [],
   "source": []
  }
 ],
 "metadata": {
  "kernelspec": {
   "display_name": "Python 3",
   "language": "python",
   "name": "python3"
  },
  "language_info": {
   "codemirror_mode": {
    "name": "ipython",
    "version": 3
   },
   "file_extension": ".py",
   "mimetype": "text/x-python",
   "name": "python",
   "nbconvert_exporter": "python",
   "pygments_lexer": "ipython3",
   "version": "3.6.1"
  }
 },
 "nbformat": 4,
 "nbformat_minor": 2
}
