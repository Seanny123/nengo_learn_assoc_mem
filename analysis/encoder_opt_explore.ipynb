{
 "cells": [
  {
   "cell_type": "code",
   "execution_count": 1,
   "metadata": {
    "collapsed": true
   },
   "outputs": [],
   "source": [
    "import numpy as np\n",
    "import matplotlib.pyplot as plt\n",
    "import pandas as pd\n",
    "import seaborn as sns\n",
    "sns.set()\n",
    "%matplotlib inline\n",
    "\n",
    "import nengo\n",
    "import nengo_spa as spa\n",
    "\n",
    "from nengo_learn_assoc_mem.utils import BasicVecFeed, meg_from_spikes, make_alt_vocab"
   ]
  },
  {
   "cell_type": "code",
   "execution_count": 8,
   "metadata": {
    "collapsed": true
   },
   "outputs": [],
   "source": [
    "from collections import namedtuple, OrderedDict"
   ]
  },
  {
   "cell_type": "code",
   "execution_count": 77,
   "metadata": {
    "collapsed": true
   },
   "outputs": [],
   "source": [
    "def choose_encoders(n_neurons: int, dimensions: int, encoder_proportion: float, mean_fan1, mean_fan2):\n",
    "    encoders = np.zeros((n_neurons, dimensions))\n",
    "\n",
    "    fan1_end = int(n_neurons * encoder_proportion)\n",
    "\n",
    "    for n_i in range(fan1_end):\n",
    "        encoders[n_i] = mean_fan1 + np.random.normal(size=dimensions)*0.1\n",
    "\n",
    "    for n_i in range(fan1_end, n_neurons):\n",
    "        encoders[n_i] = mean_fan2 + np.random.normal(size=dimensions)*0.1\n",
    "    \n",
    "    return encoders"
   ]
  },
  {
   "cell_type": "code",
   "execution_count": null,
   "metadata": {
    "collapsed": true
   },
   "outputs": [],
   "source": [
    "Act = namedtuple(\"act\", ['fan_num', 'targ', 'act'])\n",
    "Stim = namedtuple(\"Stim\", ['fan_num', 'targ', 'vecs'])"
   ]
  },
  {
   "cell_type": "markdown",
   "metadata": {},
   "source": [
    "# Effect of modifying p_fan"
   ]
  },
  {
   "cell_type": "code",
   "execution_count": 84,
   "metadata": {},
   "outputs": [
    {
     "name": "stdout",
     "output_type": "stream",
     "text": [
      "Building finished in 0:00:01.                                                                                           \n",
      "Building finished in 0:00:01.                                                                                           \n",
      "Building finished in 0:00:01.                                                                                           \n",
      "Building finished in 0:00:01.                                                                                           \n",
      "Building finished in 0:00:01.                                                                                           \n",
      "Building finished in 0:00:01.                                                                                           \n",
      "Building finished in 0:00:01.                                                                                           \n"
     ]
    }
   ],
   "source": [
    "dimensions = 64\n",
    "n_neurons = 1000\n",
    "seed = 8\n",
    "\n",
    "df_list = []\n",
    "\n",
    "vocab, fan1, fan1_vecs, fan2, fan2_vecs, foil1, foil1_vecs, foil2, foil2_vecs = make_alt_vocab(16, 16, dimensions, seed, norm=True)\n",
    "mean_fan1 = np.mean(fan1_vecs, axis=0)\n",
    "mean_fan2 = np.mean(fan2_vecs, axis=0)\n",
    "\n",
    "stim_vecs = {\"fan1\": Stim(1, True, np.array(fan1_vecs)),\n",
    "             \"fan2\": Stim(2, True, np.array(fan2_vecs)),\n",
    "             \"foil1\": Stim(1, False, np.array(foil1_vecs)),\n",
    "             \"foil2\": Stim(2, False, np.array(foil2_vecs))}\n",
    "    \n",
    "\n",
    "for p_fan in list(np.arange(0.7, 1.0, 0.05)):\n",
    "\n",
    "    enc = choose_encoders(n_neurons, dimensions, p_fan, mean_fan1, mean_fan2)\n",
    "    \n",
    "    with nengo.Network() as model:\n",
    "        ens = nengo.Ensemble(n_neurons, dimensions, encoders=enc)\n",
    "    sim = nengo.Simulator(model)\n",
    "    \n",
    "    acts = dict()\n",
    "    for key, obj in stim_vecs.items():\n",
    "        _, act = nengo.utils.ensemble.tuning_curves(ens, sim, inputs=obj.vecs)\n",
    "        acts[key] = Act(obj.fan_num, obj.targ, act)\n",
    "\n",
    "    for key, obj in acts.items():\n",
    "        act = obj.act.flatten()\n",
    "        resp = [obj.fan_num] * len(act)\n",
    "        targ = [obj.targ] * len(act)\n",
    "        df_list.append(pd.DataFrame({\"act\": list(act), \"resp\": resp, \"targ\": targ, \"pfan\": p_fan}))\n",
    "\n",
    "act_df = pd.concat(df_list)"
   ]
  },
  {
   "cell_type": "code",
   "execution_count": 86,
   "metadata": {},
   "outputs": [
    {
     "data": {
      "text/plain": [
       "(60, 110)"
      ]
     },
     "execution_count": 86,
     "metadata": {},
     "output_type": "execute_result"
    },
    {
     "data": {
      "image/png": "[encoded data removed]",
      "text/plain": [
       "<matplotlib.figure.Figure at 0x248c36fff98>"
      ]
     },
     "metadata": {},
     "output_type": "display_data"
    }
   ],
   "source": [
    "ax = sns.barplot(x=\"targ\", y=\"act\", hue=\"pfan\", data=act_df[act_df.resp == 1])\n",
    "\n",
    "ax = sns.barplot(x=\"targ\", y=\"act\", hue=\"pfan\", data=act_df[act_df.resp == 2])\n",
    "ax.set_ylim((60, 110))"
   ]
  },
  {
   "cell_type": "markdown",
   "metadata": {},
   "source": [
    "So, beyond a certain threshold (around `pfan=0.8`) the proportion doesn't really do much."
   ]
  },
  {
   "cell_type": "markdown",
   "metadata": {},
   "source": [
    "# Confidence intervals across vocab"
   ]
  },
  {
   "cell_type": "code",
   "execution_count": 69,
   "metadata": {
    "collapsed": true
   },
   "outputs": [],
   "source": [
    "dimensions = 64\n",
    "n_neurons = 1000\n",
    "p_fan = 0.85"
   ]
  },
  {
   "cell_type": "code",
   "execution_count": 75,
   "metadata": {},
   "outputs": [
    {
     "name": "stdout",
     "output_type": "stream",
     "text": [
      "850\n",
      "Building finished in 0:00:01.                                                                                           \n",
      "850\n",
      "Building finished in 0:00:01.                                                                                           \n",
      "850\n",
      "Building finished in 0:00:01.                                                                                           \n",
      "850\n",
      "Building finished in 0:00:01.                                                                                           \n",
      "850\n",
      "Building finished in 0:00:01.                                                                                           \n",
      "850\n",
      "Building finished in 0:00:01.                                                                                           \n",
      "850\n",
      "Building finished in 0:00:01.                                                                                           \n",
      "850\n",
      "Building finished in 0:00:01.                                                                                           \n",
      "850\n",
      "Building finished in 0:00:01.                                                                                           \n",
      "850\n",
      "Building finished in 0:00:01.                                                                                           \n"
     ]
    }
   ],
   "source": [
    "df_list = []\n",
    "\n",
    "for seed in range(10):\n",
    "    vocab, fan1, fan1_vecs, fan2, fan2_vecs, foil1, foil1_vecs, foil2, foil2_vecs = make_alt_vocab(16, 16, dimensions, seed, norm=True)\n",
    "    mean_fan1 = np.mean(fan1_vecs, axis=0)\n",
    "    mean_fan2 = np.mean(fan2_vecs, axis=0)\n",
    "    \n",
    "    stim_vecs = {\"fan1\": Stim(1, True, np.array(fan1_vecs)),\n",
    "                 \"fan2\": Stim(2, True, np.array(fan2_vecs)),\n",
    "                 \"foil1\": Stim(1, False, np.array(foil1_vecs)),\n",
    "                 \"foil2\": Stim(2, False, np.array(foil2_vecs))}\n",
    "    \n",
    "    enc = choose_encoders(n_neurons, dimensions, p_fan, mean_fan1, mean_fan2)\n",
    "    \n",
    "    with nengo.Network() as model:\n",
    "        ens = nengo.Ensemble(n_neurons, dimensions, encoders=enc)\n",
    "    sim = nengo.Simulator(model)\n",
    "    \n",
    "    acts = dict()\n",
    "    for key, obj in stim_vecs.items():\n",
    "        _, act = nengo.utils.ensemble.tuning_curves(ens, sim, inputs=obj.vecs)\n",
    "        acts[key] = Act(obj.fan_num, obj.targ, act)\n",
    "\n",
    "    for key, obj in acts.items():\n",
    "        act = obj.act.flatten()\n",
    "        resp = [obj.fan_num] * len(act)\n",
    "        targ = [obj.targ] * len(act)\n",
    "        df_list.append(pd.DataFrame({\"act\": list(act), \"resp\": resp, \"targ\": targ, \"seed\": seed}))\n",
    "\n",
    "act_df = pd.concat(df_list)"
   ]
  },
  {
   "cell_type": "code",
   "execution_count": 76,
   "metadata": {},
   "outputs": [
    {
     "data": {
      "text/plain": [
       "(60, 110)"
      ]
     },
     "execution_count": 76,
     "metadata": {},
     "output_type": "execute_result"
    },
    {
     "data": {
      "image/png": "[encoded data removed]",
      "text/plain": [
       "<matplotlib.figure.Figure at 0x248b9809978>"
      ]
     },
     "metadata": {},
     "output_type": "display_data"
    }
   ],
   "source": [
    "ax = sns.barplot(x=\"resp\", y=\"act\", hue=\"targ\", data=act_df)\n",
    "ax.set_ylim((60, 110))"
   ]
  },
  {
   "cell_type": "markdown",
   "metadata": {},
   "source": [
    "# Effect of intercept modification\n",
    "\n",
    "I expect it to give more distinct trends"
   ]
  },
  {
   "cell_type": "code",
   "execution_count": 2,
   "metadata": {
    "collapsed": true
   },
   "outputs": [],
   "source": [
    "dimensions = 64\n",
    "n_neurons = 1000\n",
    "seed = 8\n",
    "p_fan = 0.85"
   ]
  },
  {
   "cell_type": "code",
   "execution_count": 3,
   "metadata": {},
   "outputs": [],
   "source": [
    "vocab, fan1, fan1_vecs, fan2, fan2_vecs, foil1, foil1_vecs, foil2, foil2_vecs = make_alt_vocab(16, 16, dimensions, seed, norm=True)\n",
    "mean_fan1 = np.mean(fan1_vecs, axis=0)\n",
    "mean_fan2 = np.mean(fan2_vecs, axis=0)"
   ]
  },
  {
   "cell_type": "code",
   "execution_count": 6,
   "metadata": {},
   "outputs": [
    {
     "name": "stdout",
     "output_type": "stream",
     "text": [
      "850\n"
     ]
    }
   ],
   "source": [
    "encoders = choose_encoders(n_neurons, dimensions, p_fan, mean_fan1, mean_fan2)"
   ]
  },
  {
   "cell_type": "code",
   "execution_count": null,
   "metadata": {
    "collapsed": true
   },
   "outputs": [],
   "source": [
    "stim_vecs = {\"fan1\": Stim(1, True, np.array(fan1_vecs)),\n",
    "             \"fan2\": Stim(2, True, np.array(fan2_vecs)),\n",
    "             \"foil1\": Stim(1, False, np.array(foil1_vecs)),\n",
    "             \"foil2\": Stim(2, False, np.array(foil2_vecs))}"
   ]
  },
  {
   "cell_type": "markdown",
   "metadata": {},
   "source": [
    "## Base Case"
   ]
  },
  {
   "cell_type": "code",
   "execution_count": 58,
   "metadata": {},
   "outputs": [
    {
     "name": "stdout",
     "output_type": "stream",
     "text": [
      "\r",
      "Building finished in 0:00:01.                                                                                           \r\n"
     ]
    }
   ],
   "source": [
    "with nengo.Network() as model:\n",
    "    ens = nengo.Ensemble(n_neurons, dimensions, encoders=encoders)\n",
    "sim = nengo.Simulator(model)"
   ]
  },
  {
   "cell_type": "code",
   "execution_count": 59,
   "metadata": {},
   "outputs": [],
   "source": [
    "acts = dict()\n",
    "\n",
    "for key, obj in stim_vecs.items():\n",
    "    _, act = nengo.utils.ensemble.tuning_curves(ens, sim, inputs=obj.vecs)\n",
    "    acts[key] = Act(obj.fan_num, obj.targ, act)"
   ]
  },
  {
   "cell_type": "code",
   "execution_count": 60,
   "metadata": {},
   "outputs": [],
   "source": [
    "df_list = []\n",
    "\n",
    "for key, obj in acts.items():\n",
    "    act = obj.act.flatten()\n",
    "    resp = [obj.fan_num] * len(act)\n",
    "    targ = [obj.targ] * len(act)\n",
    "    df_list.append(pd.DataFrame({\"act\": list(act), \"resp\": resp, \"targ\": targ}))\n",
    "\n",
    "act_df = pd.concat(df_list)"
   ]
  },
  {
   "cell_type": "code",
   "execution_count": 61,
   "metadata": {},
   "outputs": [
    {
     "data": {
      "text/plain": [
       "(60, 110)"
      ]
     },
     "execution_count": 61,
     "metadata": {},
     "output_type": "execute_result"
    },
    {
     "data": {
      "image/png": "[encoded data removed]",
      "text/plain": [
       "<matplotlib.figure.Figure at 0x248b6626d68>"
      ]
     },
     "metadata": {},
     "output_type": "display_data"
    }
   ],
   "source": [
    "ax = sns.barplot(x=\"resp\", y=\"act\", hue=\"targ\", data=act_df)\n",
    "ax.set_ylim((60, 110))"
   ]
  },
  {
   "cell_type": "code",
   "execution_count": 63,
   "metadata": {},
   "outputs": [
    {
     "name": "stdout",
     "output_type": "stream",
     "text": [
      "Number of neurons basically firing for both vectors\n",
      "354\n"
     ]
    },
    {
     "data": {
      "text/plain": [
       "[<matplotlib.lines.Line2D at 0x248b7f7d2e8>]"
      ]
     },
     "execution_count": 63,
     "metadata": {},
     "output_type": "execute_result"
    },
    {
     "data": {
      "image/png": "[encoded data removed]",
      "text/plain": [
       "<matplotlib.figure.Figure at 0x248b71afeb8>"
      ]
     },
     "metadata": {},
     "output_type": "display_data"
    }
   ],
   "source": [
    "print(\"Number of neurons basically firing for both vectors\")\n",
    "fire_diff = np.sort(np.abs(np.sum(acts[\"fan1\"].act, axis=0) - np.sum(acts[\"fan2\"].act, axis=0)))\n",
    "print(len(fire_diff[fire_diff < 10]))\n",
    "plt.plot(fire_diff)"
   ]
  },
  {
   "cell_type": "markdown",
   "metadata": {},
   "source": [
    "## With modified intercepts"
   ]
  },
  {
   "cell_type": "code",
   "execution_count": 64,
   "metadata": {},
   "outputs": [
    {
     "name": "stdout",
     "output_type": "stream",
     "text": [
      "(1000,)\n"
     ]
    }
   ],
   "source": [
    "simi = 0.3\n",
    "int_a = nengo.dists.Uniform(-1.0, -simi).sample(n_neurons // 2)\n",
    "int_b = nengo.dists.Uniform(simi, 1.0).sample(n_neurons - len(int_a))\n",
    "intercepts = np.concatenate((int_a, int_b))\n",
    "print(intercepts.shape)"
   ]
  },
  {
   "cell_type": "code",
   "execution_count": 65,
   "metadata": {},
   "outputs": [
    {
     "name": "stdout",
     "output_type": "stream",
     "text": [
      "\r",
      "Building finished in 0:00:01.                                                                                           \r\n"
     ]
    }
   ],
   "source": [
    "with nengo.Network() as model:\n",
    "    ens = nengo.Ensemble(n_neurons, dimensions, encoders=encoders, intercepts=intercepts)\n",
    "sim = nengo.Simulator(model)"
   ]
  },
  {
   "cell_type": "code",
   "execution_count": 66,
   "metadata": {
    "collapsed": true
   },
   "outputs": [],
   "source": [
    "Stim = namedtuple(\"Stim\", ['fan_num', 'targ', 'vecs'])\n",
    "Act = namedtuple(\"act\", ['fan_num', 'targ', 'act'])\n",
    "\n",
    "stim_vecs = {\"fan1\": Stim(1, True, np.array(fan1_vecs)),\n",
    "             \"fan2\": Stim(2, True, np.array(fan2_vecs)),\n",
    "             \"foil1\": Stim(1, False, np.array(foil1_vecs)),\n",
    "             \"foil2\": Stim(2, False, np.array(foil2_vecs))}\n",
    "acts = dict()\n",
    "\n",
    "for key, obj in stim_vecs.items():\n",
    "    _, act = nengo.utils.ensemble.tuning_curves(ens, sim, inputs=obj.vecs)\n",
    "    acts[key] = Act(obj.fan_num, obj.targ, act)"
   ]
  },
  {
   "cell_type": "code",
   "execution_count": 67,
   "metadata": {},
   "outputs": [],
   "source": [
    "df_list = []\n",
    "\n",
    "for key, obj in acts.items():\n",
    "    act = obj.act.flatten()\n",
    "    resp = [obj.fan_num] * len(act)\n",
    "    targ = [obj.targ] * len(act)\n",
    "    df_list.append(pd.DataFrame({\"act\": list(act), \"resp\": resp, \"targ\": targ}))\n",
    "\n",
    "int_act_df = pd.concat(df_list)"
   ]
  },
  {
   "cell_type": "code",
   "execution_count": 68,
   "metadata": {},
   "outputs": [
    {
     "data": {
      "text/plain": [
       "(60, 110)"
      ]
     },
     "execution_count": 68,
     "metadata": {},
     "output_type": "execute_result"
    },
    {
     "data": {
      "image/png": "[encoded data removed]",
      "text/plain": [
       "<matplotlib.figure.Figure at 0x248b82b85f8>"
      ]
     },
     "metadata": {},
     "output_type": "display_data"
    }
   ],
   "source": [
    "ax = sns.barplot(x=\"resp\", y=\"act\", hue=\"targ\", data=int_act_df)\n",
    "ax.set_ylim((60, 110))"
   ]
  },
  {
   "cell_type": "code",
   "execution_count": 63,
   "metadata": {},
   "outputs": [
    {
     "name": "stdout",
     "output_type": "stream",
     "text": [
      "Number of neurons basically firing for both vectors\n",
      "354\n"
     ]
    },
    {
     "data": {
      "text/plain": [
       "[<matplotlib.lines.Line2D at 0x248b7f7d2e8>]"
      ]
     },
     "execution_count": 63,
     "metadata": {},
     "output_type": "execute_result"
    },
    {
     "data": {
      "image/png": "[encoded data removed]",
      "text/plain": [
       "<matplotlib.figure.Figure at 0x248b71afeb8>"
      ]
     },
     "metadata": {},
     "output_type": "display_data"
    }
   ],
   "source": [
    "print(\"Number of neurons basically firing for both vectors\")\n",
    "fire_diff = np.sort(np.abs(np.sum(acts[\"fan1\"].act, axis=0) - np.sum(acts[\"fan2\"].act, axis=0)))\n",
    "print(len(fire_diff[fire_diff < 10]))\n",
    "plt.plot(fire_diff)"
   ]
  },
  {
   "cell_type": "markdown",
   "metadata": {},
   "source": [
    "Does appear to make the trend stronger while also increasing the firing rate, but surprisingly doesn't decrease the amount of neurons firing for both FAN1 and FAN2."
   ]
  },
  {
   "cell_type": "markdown",
   "metadata": {},
   "source": [
    "# Demonstration of memory operating over time"
   ]
  },
  {
   "cell_type": "code",
   "execution_count": null,
   "metadata": {
    "collapsed": true
   },
   "outputs": [],
   "source": []
  },
  {
   "cell_type": "markdown",
   "metadata": {},
   "source": [
    "# Effect of noisier encoders"
   ]
  },
  {
   "cell_type": "markdown",
   "metadata": {},
   "source": [
    "# Effect of noisier inputs"
   ]
  },
  {
   "cell_type": "markdown",
   "metadata": {},
   "source": [
    "# Effect of memory as associative"
   ]
  },
  {
   "cell_type": "markdown",
   "metadata": {},
   "source": [
    "## Can you learn an associative memory off the Ensemble using PES?"
   ]
  },
  {
   "cell_type": "markdown",
   "metadata": {},
   "source": [
    "## Does this intermediary ensemble change the performance of an engineered associative memory?"
   ]
  },
  {
   "cell_type": "code",
   "execution_count": null,
   "metadata": {
    "collapsed": true
   },
   "outputs": [],
   "source": []
  }
 ],
 "metadata": {
  "kernelspec": {
   "display_name": "Python 3",
   "language": "python",
   "name": "python3"
  },
  "language_info": {
   "codemirror_mode": {
    "name": "ipython",
    "version": 3
   },
   "file_extension": ".py",
   "mimetype": "text/x-python",
   "name": "python",
   "nbconvert_exporter": "python",
   "pygments_lexer": "ipython3",
   "version": "3.6.2"
  }
 },
 "nbformat": 4,
 "nbformat_minor": 2
}
