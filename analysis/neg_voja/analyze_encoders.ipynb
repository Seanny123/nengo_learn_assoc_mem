{
 "cells": [
  {
   "cell_type": "code",
   "execution_count": 2,
   "metadata": {},
   "outputs": [],
   "source": [
    "import os\n",
    "from collections import namedtuple\n",
    "\n",
    "import numpy as np\n",
    "import h5py\n",
    "import matplotlib.pyplot as plt\n",
    "import pandas as pd\n",
    "import seaborn as sns\n",
    "%matplotlib inline\n",
    "\n",
    "import nengo\n",
    "from nengo.utils.ensemble import tuning_curves\n",
    "import nengo_spa as spa\n",
    "\n",
    "from nengo_learn_assoc_mem.utils import BasicVecFeed, meg_from_spikes, numpy_bytes_to_str, norm_spa_vecs\n",
    "from nengo_learn_assoc_mem.paths import data_path"
   ]
  },
  {
   "cell_type": "code",
   "execution_count": 3,
   "metadata": {},
   "outputs": [],
   "source": [
    "nengo.rc.set(\"progress\", \"progress_bar\", \"nengo.utils.progress.TerminalProgressBar\")"
   ]
  },
  {
   "cell_type": "markdown",
   "metadata": {},
   "source": [
    "## Setup"
   ]
  },
  {
   "cell_type": "code",
   "execution_count": 4,
   "metadata": {},
   "outputs": [
    {
     "name": "stdout",
     "output_type": "stream",
     "text": [
      "['encoders', 'fan1', 'fan2', 'foil1', 'foil2', 't_range', 'vocab_strings', 'vocab_vectors']\n"
     ]
    }
   ],
   "source": [
    "with h5py.File(os.path.join(data_path, \"neg_voja_enc.h5\"), \"r\") as fi:\n",
    "    print(list(fi.keys()))\n",
    "\n",
    "    fan1 = numpy_bytes_to_str(fi['fan1'])\n",
    "    fan2 = numpy_bytes_to_str(fi['fan2'])\n",
    "    foil1 = numpy_bytes_to_str(fi['foil1'])\n",
    "    foil2 = numpy_bytes_to_str(fi['foil2'])\n",
    "\n",
    "    v_strs = numpy_bytes_to_str(fi['vocab_strings'])\n",
    "    v_vecs = list(fi['vocab_vectors'])\n",
    "    dimensions = fi['vocab_vectors'].attrs['dimensions']\n",
    "    \n",
    "    fin_enc = np.array(fi['encoders'])\n",
    "    n_neurons = fin_enc.shape[0]\n",
    "    intercepts = [fi['encoders'].attrs['intercept']] * n_neurons\n",
    "    seed = fi['encoders'].attrs['seed']\n",
    "\n",
    "    dt = fi['t_range'].attrs['dt']"
   ]
  },
  {
   "cell_type": "code",
   "execution_count": 36,
   "metadata": {},
   "outputs": [],
   "source": [
    "with h5py.File(os.path.join(data_path, \"bcm_rec_pos_match_weights.h5\"), \"r\") as fi:\n",
    "    \n",
    "    rec_weights = np.array(fi['weights'])"
   ]
  },
  {
   "cell_type": "code",
   "execution_count": 5,
   "metadata": {
    "collapsed": true
   },
   "outputs": [],
   "source": [
    "vocab = spa.Vocabulary(dimensions)\n",
    "for val, vec in zip(v_strs, v_vecs):\n",
    "    vocab.add(val, vec)\n",
    "\n",
    "fan1_pair_vecs = norm_spa_vecs(vocab, fan1)\n",
    "fan2_pair_vecs = norm_spa_vecs(vocab, fan2)\n",
    "foil1_pair_vecs = norm_spa_vecs(vocab, foil1)\n",
    "foil2_pair_vecs = norm_spa_vecs(vocab, foil2)"
   ]
  },
  {
   "cell_type": "code",
   "execution_count": 6,
   "metadata": {
    "collapsed": true
   },
   "outputs": [],
   "source": [
    "t_pause = 0.5\n",
    "t_present = 0.3\n",
    "\n",
    "t_each = t_pause + t_present\n",
    "td_each = int(t_each/dt)\n",
    "td_pause = int(t_pause/dt)"
   ]
  },
  {
   "cell_type": "code",
   "execution_count": 7,
   "metadata": {
    "collapsed": true
   },
   "outputs": [],
   "source": [
    "fan1_slc = slice(td_pause, td_each*len(fan1_pair_vecs)+td_pause)\n",
    "fan2_slc = slice(fan1_slc.stop, fan1_slc.stop+td_each*len(fan2_pair_vecs))\n",
    "foil1_slc = slice(fan2_slc.stop, fan2_slc.stop+td_each*len(foil1_pair_vecs))\n",
    "foil2_slc = slice(foil1_slc.stop, foil1_slc.stop+td_each*len(foil2_pair_vecs))"
   ]
  },
  {
   "cell_type": "code",
   "execution_count": 8,
   "metadata": {
    "collapsed": true
   },
   "outputs": [],
   "source": [
    "SlcStim = namedtuple(\"Stim\", ['fan_num', 'targ', 'vecs', 'slc'])\n",
    "\n",
    "slc_stim_vecs = {\"fan1\": SlcStim(1, True, np.array(fan1_pair_vecs), fan1_slc),\n",
    "                 \"fan2\": SlcStim(2, True, np.array(fan2_pair_vecs), fan2_slc),\n",
    "                 \"foil1\": SlcStim(1, False, np.array(foil1_pair_vecs), foil1_slc),\n",
    "                 \"foil2\": SlcStim(2, False, np.array(foil2_pair_vecs), foil2_slc)}"
   ]
  },
  {
   "cell_type": "markdown",
   "metadata": {},
   "source": [
    "# Compare FAN1 Target and Foil"
   ]
  },
  {
   "cell_type": "code",
   "execution_count": 9,
   "metadata": {},
   "outputs": [],
   "source": [
    "simi = spa.similarity(np.array(fan1_pair_vecs), foil1_pair_vecs)"
   ]
  },
  {
   "cell_type": "code",
   "execution_count": 12,
   "metadata": {},
   "outputs": [],
   "source": [
    "max_simi = np.unravel_index(np.argmax(simi), simi.shape)\n",
    "min_simi = np.unravel_index(np.argmin(simi), simi.shape)"
   ]
  },
  {
   "cell_type": "code",
   "execution_count": 13,
   "metadata": {},
   "outputs": [
    {
     "name": "stdout",
     "output_type": "stream",
     "text": [
      "0.704908338912\n",
      "-0.576130169323\n"
     ]
    }
   ],
   "source": [
    "print(np.dot(fan1_pair_vecs[max_simi[0]], foil1_pair_vecs[max_simi[1]]))\n",
    "print(np.dot(fan1_pair_vecs[min_simi[0]], foil1_pair_vecs[min_simi[1]]))"
   ]
  },
  {
   "cell_type": "code",
   "execution_count": 14,
   "metadata": {},
   "outputs": [
    {
     "name": "stdout",
     "output_type": "stream",
     "text": [
      "Build finished in 0:00:01.                                                                                   \n"
     ]
    }
   ],
   "source": [
    "with nengo.Network(seed=seed) as model:\n",
    "    ens = nengo.Ensemble(n_neurons, dimensions, encoders=fin_enc.copy(), intercepts=intercepts, seed=seed)\n",
    "\n",
    "with nengo.Simulator(model) as sim:\n",
    "    pass"
   ]
  },
  {
   "cell_type": "code",
   "execution_count": 25,
   "metadata": {
    "collapsed": true
   },
   "outputs": [],
   "source": [
    "_, max_fan1_acts = tuning_curves(ens, sim, inputs=fan1_pair_vecs[max_simi[0]])"
   ]
  },
  {
   "cell_type": "code",
   "execution_count": 26,
   "metadata": {
    "collapsed": true
   },
   "outputs": [],
   "source": [
    "_, max_foil1_acts = tuning_curves(ens, sim, inputs=foil1_pair_vecs[max_simi[1]])"
   ]
  },
  {
   "cell_type": "code",
   "execution_count": 27,
   "metadata": {},
   "outputs": [
    {
     "data": {
      "text/plain": [
       "[<matplotlib.lines.Line2D at 0x29a75970320>]"
      ]
     },
     "execution_count": 27,
     "metadata": {},
     "output_type": "execute_result"
    },
    {
     "data": {
      "image/png": "[encoded data removed]",
      "text/plain": [
       "<matplotlib.figure.Figure at 0x29a759701d0>"
      ]
     },
     "metadata": {},
     "output_type": "display_data"
    }
   ],
   "source": [
    "plt.plot(max_fan1_acts, alpha=0.4)\n",
    "plt.plot(max_foil1_acts, alpha=0.4)"
   ]
  },
  {
   "cell_type": "code",
   "execution_count": 28,
   "metadata": {},
   "outputs": [
    {
     "data": {
      "text/plain": [
       "46277.051637531891"
      ]
     },
     "execution_count": 28,
     "metadata": {},
     "output_type": "execute_result"
    }
   ],
   "source": [
    "np.dot(max_fan1_acts, max_foil1_acts)"
   ]
  },
  {
   "cell_type": "code",
   "execution_count": 29,
   "metadata": {
    "collapsed": true
   },
   "outputs": [],
   "source": [
    "_, min_fan1_acts = tuning_curves(ens, sim, inputs=fan1_pair_vecs[min_simi[0]])"
   ]
  },
  {
   "cell_type": "code",
   "execution_count": 30,
   "metadata": {
    "collapsed": true
   },
   "outputs": [],
   "source": [
    "_, min_foil1_acts = tuning_curves(ens, sim, inputs=foil1_pair_vecs[min_simi[1]])"
   ]
  },
  {
   "cell_type": "code",
   "execution_count": 31,
   "metadata": {},
   "outputs": [
    {
     "data": {
      "text/plain": [
       "[<matplotlib.lines.Line2D at 0x29a759a04a8>]"
      ]
     },
     "execution_count": 31,
     "metadata": {},
     "output_type": "execute_result"
    },
    {
     "data": {
      "image/png": "[encoded data removed]",
      "text/plain": [
       "<matplotlib.figure.Figure at 0x29a759a0240>"
      ]
     },
     "metadata": {},
     "output_type": "display_data"
    }
   ],
   "source": [
    "plt.plot(min_fan1_acts, alpha=0.4)\n",
    "plt.plot(min_foil1_acts, alpha=0.4)"
   ]
  },
  {
   "cell_type": "code",
   "execution_count": 32,
   "metadata": {},
   "outputs": [
    {
     "data": {
      "text/plain": [
       "1537.185853295925"
      ]
     },
     "execution_count": 32,
     "metadata": {},
     "output_type": "execute_result"
    }
   ],
   "source": [
    "np.dot(min_fan1_acts, min_foil1_acts)"
   ]
  },
  {
   "cell_type": "code",
   "execution_count": 33,
   "metadata": {},
   "outputs": [
    {
     "data": {
      "text/plain": [
       "6"
      ]
     },
     "execution_count": 33,
     "metadata": {},
     "output_type": "execute_result"
    }
   ],
   "source": [
    "min_simi[1]"
   ]
  },
  {
   "cell_type": "markdown",
   "metadata": {},
   "source": [
    "As expected, similar vectors activate similar neurons in a similar manner. However, similarity of activation does not dictate success of decoding. Which somewhat implies the important neurons are already being emphasized and the recurrent weighting does little to change that."
   ]
  },
  {
   "cell_type": "code",
   "execution_count": 37,
   "metadata": {},
   "outputs": [],
   "source": [
    "def get_avg_rate(stim_vec, t_sim=1.0, t_start=0.4):\n",
    "    with nengo.Network(seed=seed) as test_model:\n",
    "        in_nd = nengo.Node(lambda t: stim_vec)\n",
    "\n",
    "        ens = nengo.Ensemble(n_neurons, dimensions,\n",
    "                             encoders=fin_enc.copy(), intercepts=intercepts, seed=seed)\n",
    "\n",
    "        nengo.Connection(in_nd, ens, synapse=None)\n",
    "        nengo.Connection(ens.neurons, ens.neurons, transform=rec_weights, synapse=0.01)\n",
    "\n",
    "        p_in = nengo.Probe(in_nd, synapse=None)\n",
    "        p_spikes = nengo.Probe(ens.neurons, synapse=None)\n",
    "        p_out = nengo.Probe(ens, synapse=0.05)\n",
    "\n",
    "    with nengo.Simulator(test_model, progress_bar=None) as test_sim:\n",
    "        test_sim.run(t_sim)\n",
    "    \n",
    "    t_sample = t_sim - t_start\n",
    "    assert t_sample > 0\n",
    "    td_start = int(t_start / dt)\n",
    "    base_est = np.sum(test_sim.data[p_spikes][td_start:] > 0, axis=0) / t_sample\n",
    "    \n",
    "    td_sample = int(t_sample / dt)\n",
    "    t_win = td_start + td_sample//2\n",
    "    begin_est = np.sum(test_sim.data[p_spikes][td_start:t_win] > 0, axis=0) / t_sample / 2\n",
    "    end_est = np.sum(test_sim.data[p_spikes][t_win:] > 0, axis=0) / t_sample / 2\n",
    "    \n",
    "    range_est = np.sort(np.abs(begin_est - end_est))[::-1]\n",
    "    return {\"rate_est\": base_est, \"est_t_diff\": range_est[range_est > 0]}"
   ]
  },
  {
   "cell_type": "code",
   "execution_count": 39,
   "metadata": {},
   "outputs": [],
   "source": [
    "max_fan1_res = get_avg_rate(fan1_pair_vecs[max_simi[0]])"
   ]
  },
  {
   "cell_type": "code",
   "execution_count": 45,
   "metadata": {},
   "outputs": [
    {
     "data": {
      "text/plain": [
       "150897.41840119628"
      ]
     },
     "execution_count": 45,
     "metadata": {},
     "output_type": "execute_result"
    },
    {
     "data": {
      "image/png": "[encoded data removed]",
      "text/plain": [
       "<matplotlib.figure.Figure at 0x29a75ee3780>"
      ]
     },
     "metadata": {},
     "output_type": "display_data"
    }
   ],
   "source": [
    "plt.plot(max_fan1_res[\"rate_est\"], alpha=0.4)\n",
    "plt.plot(max_fan1_acts, alpha=0.4)\n",
    "np.dot(max_fan1_res[\"rate_est\"], max_fan1_acts)"
   ]
  },
  {
   "cell_type": "code",
   "execution_count": 42,
   "metadata": {},
   "outputs": [],
   "source": [
    "max_foil1_res = get_avg_rate(foil1_pair_vecs[max_simi[1]])"
   ]
  },
  {
   "cell_type": "code",
   "execution_count": 44,
   "metadata": {},
   "outputs": [
    {
     "data": {
      "text/plain": [
       "78143.142032257339"
      ]
     },
     "execution_count": 44,
     "metadata": {},
     "output_type": "execute_result"
    },
    {
     "data": {
      "image/png": "[encoded data removed]",
      "text/plain": [
       "<matplotlib.figure.Figure at 0x29a75e87d30>"
      ]
     },
     "metadata": {},
     "output_type": "display_data"
    }
   ],
   "source": [
    "plt.plot(max_foil1_res[\"rate_est\"], alpha=0.4)\n",
    "plt.plot(max_foil1_acts, alpha=0.4)\n",
    "np.dot(max_foil1_res[\"rate_est\"], max_foil1_acts)"
   ]
  },
  {
   "cell_type": "code",
   "execution_count": 46,
   "metadata": {},
   "outputs": [
    {
     "data": {
      "text/plain": [
       "11875.0"
      ]
     },
     "execution_count": 46,
     "metadata": {},
     "output_type": "execute_result"
    }
   ],
   "source": [
    "np.dot(max_foil1_res[\"rate_est\"], max_fan1_res[\"rate_est\"])"
   ]
  },
  {
   "cell_type": "markdown",
   "metadata": {},
   "source": [
    "Technically, the recurrent connections cause similar inputs to diverge and increase sparsity, as expected. But this doesn't tell me how to decrease confidence similarity between outputs. I still can't tell if it has to do with:\n",
    "\n",
    "- Neg Voja\n",
    "- Rec BCM distribution"
   ]
  },
  {
   "cell_type": "markdown",
   "metadata": {},
   "source": [
    "I know that there's a difference between FAN1 and FAN2 output intensity when converged. However, I don't know:\n",
    "\n",
    "- How this intensity is modified by Neg Voja\n",
    "- Why this intensity maps onto Foils equally instead of differently."
   ]
  }
 ],
 "metadata": {
  "kernelspec": {
   "display_name": "Python 3",
   "language": "python",
   "name": "python3"
  },
  "language_info": {
   "codemirror_mode": {
    "name": "ipython",
    "version": 3
   },
   "file_extension": ".py",
   "mimetype": "text/x-python",
   "name": "python",
   "nbconvert_exporter": "python",
   "pygments_lexer": "ipython3",
   "version": "3.6.3"
  }
 },
 "nbformat": 4,
 "nbformat_minor": 2
}
