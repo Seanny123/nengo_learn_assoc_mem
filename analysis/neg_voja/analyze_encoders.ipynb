{
 "cells": [
  {
   "cell_type": "code",
   "execution_count": 1,
   "metadata": {},
   "outputs": [],
   "source": [
    "import os\n",
    "from collections import namedtuple\n",
    "\n",
    "import numpy as np\n",
    "import h5py\n",
    "import matplotlib.pyplot as plt\n",
    "import pandas as pd\n",
    "import seaborn as sns\n",
    "%matplotlib inline\n",
    "\n",
    "import nengo\n",
    "from nengo.utils.ensemble import tuning_curves\n",
    "import nengo_spa as spa\n",
    "\n",
    "from nengo_learn_assoc_mem.utils import BasicVecFeed, meg_from_spikes, numpy_bytes_to_str, norm_spa_vecs\n",
    "from nengo_learn_assoc_mem.paths import data_path"
   ]
  },
  {
   "cell_type": "code",
   "execution_count": 2,
   "metadata": {},
   "outputs": [],
   "source": [
    "nengo.rc.set(\"progress\", \"progress_bar\", \"nengo.utils.progress.TerminalProgressBar\")"
   ]
  },
  {
   "cell_type": "markdown",
   "metadata": {},
   "source": [
    "## Setup"
   ]
  },
  {
   "cell_type": "code",
   "execution_count": 3,
   "metadata": {},
   "outputs": [
    {
     "name": "stdout",
     "output_type": "stream",
     "text": [
      "['encoders', 'fan1', 'fan2', 'foil1', 'foil2', 't_range', 'vocab_strings', 'vocab_vectors']\n"
     ]
    }
   ],
   "source": [
    "with h5py.File(os.path.join(data_path, \"neg_voja_enc.h5\"), \"r\") as fi:\n",
    "    print(list(fi.keys()))\n",
    "\n",
    "    fan1 = numpy_bytes_to_str(fi['fan1'])\n",
    "    fan2 = numpy_bytes_to_str(fi['fan2'])\n",
    "    foil1 = numpy_bytes_to_str(fi['foil1'])\n",
    "    foil2 = numpy_bytes_to_str(fi['foil2'])\n",
    "\n",
    "    v_strs = numpy_bytes_to_str(fi['vocab_strings'])\n",
    "    v_vecs = list(fi['vocab_vectors'])\n",
    "    dimensions = fi['vocab_vectors'].attrs['dimensions']\n",
    "    \n",
    "    fin_enc = np.array(fi['encoders'])\n",
    "    n_neurons = fin_enc.shape[0]\n",
    "    intercepts = [fi['encoders'].attrs['intercept']] * n_neurons\n",
    "    seed = fi['encoders'].attrs['seed']\n",
    "\n",
    "    dt = fi['t_range'].attrs['dt']"
   ]
  },
  {
   "cell_type": "code",
   "execution_count": 4,
   "metadata": {
    "collapsed": true
   },
   "outputs": [],
   "source": [
    "vocab = spa.Vocabulary(dimensions)\n",
    "for val, vec in zip(v_strs, v_vecs):\n",
    "    vocab.add(val, vec)\n",
    "\n",
    "fan1_pair_vecs = norm_spa_vecs(vocab, fan1)\n",
    "fan2_pair_vecs = norm_spa_vecs(vocab, fan2)\n",
    "foil1_pair_vecs = norm_spa_vecs(vocab, foil1)\n",
    "foil2_pair_vecs = norm_spa_vecs(vocab, foil2)"
   ]
  },
  {
   "cell_type": "code",
   "execution_count": 5,
   "metadata": {
    "collapsed": true
   },
   "outputs": [],
   "source": [
    "t_pause = 0.5\n",
    "t_present = 0.3\n",
    "\n",
    "t_each = t_pause + t_present\n",
    "td_each = int(t_each/dt)\n",
    "td_pause = int(t_pause/dt)"
   ]
  },
  {
   "cell_type": "code",
   "execution_count": 6,
   "metadata": {
    "collapsed": true
   },
   "outputs": [],
   "source": [
    "fan1_slc = slice(td_pause, td_each*len(fan1_pair_vecs)+td_pause)\n",
    "fan2_slc = slice(fan1_slc.stop, fan1_slc.stop+td_each*len(fan2_pair_vecs))\n",
    "foil1_slc = slice(fan2_slc.stop, fan2_slc.stop+td_each*len(foil1_pair_vecs))\n",
    "foil2_slc = slice(foil1_slc.stop, foil1_slc.stop+td_each*len(foil2_pair_vecs))"
   ]
  },
  {
   "cell_type": "code",
   "execution_count": 7,
   "metadata": {
    "collapsed": true
   },
   "outputs": [],
   "source": [
    "SlcStim = namedtuple(\"Stim\", ['fan_num', 'targ', 'vecs', 'slc'])\n",
    "\n",
    "slc_stim_vecs = {\"fan1\": SlcStim(1, True, np.array(fan1_pair_vecs), fan1_slc),\n",
    "                 \"fan2\": SlcStim(2, True, np.array(fan2_pair_vecs), fan2_slc),\n",
    "                 \"foil1\": SlcStim(1, False, np.array(foil1_pair_vecs), foil1_slc),\n",
    "                 \"foil2\": SlcStim(2, False, np.array(foil2_pair_vecs), foil2_slc)}"
   ]
  },
  {
   "cell_type": "markdown",
   "metadata": {},
   "source": [
    "# Compare FAN1 Target and Foil"
   ]
  },
  {
   "cell_type": "code",
   "execution_count": 12,
   "metadata": {},
   "outputs": [],
   "source": [
    "simi = spa.similarity(np.array(fan1_pair_vecs), foil1_pair_vecs)"
   ]
  },
  {
   "cell_type": "code",
   "execution_count": 29,
   "metadata": {},
   "outputs": [],
   "source": [
    "max_simi = np.unravel_index(np.argmax(np.abs(simi), simi.shape)\n",
    "min_simi = np.unravel_index(np.argmin(simi), simi.shape)"
   ]
  },
  {
   "cell_type": "code",
   "execution_count": 32,
   "metadata": {},
   "outputs": [
    {
     "name": "stdout",
     "output_type": "stream",
     "text": [
      "0.704908338912\n",
      "-0.576130169323\n"
     ]
    }
   ],
   "source": [
    "print(np.dot(fan1_pair_vecs[max_simi[0]], foil1_pair_vecs[max_simi[1]]))\n",
    "print(np.dot(fan1_pair_vecs[min_simi[0]], foil1_pair_vecs[min_simi[1]]))"
   ]
  },
  {
   "cell_type": "code",
   "execution_count": 22,
   "metadata": {},
   "outputs": [
    {
     "name": "stdout",
     "output_type": "stream",
     "text": [
      "Build finished in 0:00:01.                                                                                   \n"
     ]
    }
   ],
   "source": [
    "with nengo.Network(seed=seed) as model:\n",
    "    ens = nengo.Ensemble(n_neurons, dimensions, encoders=fin_enc.copy(), intercepts=intercepts, seed=seed)\n",
    "\n",
    "with nengo.Simulator(model) as sim:\n",
    "    pass"
   ]
  },
  {
   "cell_type": "code",
   "execution_count": 59,
   "metadata": {
    "collapsed": true
   },
   "outputs": [],
   "source": [
    "_, fan1_acts = tuning_curves(ens, sim, inputs=fan1_pair_vecs[max_simi[0]])"
   ]
  },
  {
   "cell_type": "code",
   "execution_count": 60,
   "metadata": {
    "collapsed": true
   },
   "outputs": [],
   "source": [
    "_, foil1_acts = tuning_curves(ens, sim, inputs=foil1_pair_vecs[max_simi[1]])"
   ]
  },
  {
   "cell_type": "code",
   "execution_count": 61,
   "metadata": {},
   "outputs": [
    {
     "data": {
      "text/plain": [
       "[<matplotlib.lines.Line2D at 0x1404f3ea6a0>]"
      ]
     },
     "execution_count": 61,
     "metadata": {},
     "output_type": "execute_result"
    },
    {
     "data": {
      "image/png": "[encoded data removed]",
      "text/plain": [
       "<matplotlib.figure.Figure at 0x1404f8d10b8>"
      ]
     },
     "metadata": {},
     "output_type": "display_data"
    }
   ],
   "source": [
    "plt.plot(fan1_acts, alpha=0.4)\n",
    "plt.plot(foil1_acts, alpha=0.4)"
   ]
  },
  {
   "cell_type": "code",
   "execution_count": 62,
   "metadata": {},
   "outputs": [
    {
     "data": {
      "text/plain": [
       "46277.051637531891"
      ]
     },
     "execution_count": 62,
     "metadata": {},
     "output_type": "execute_result"
    }
   ],
   "source": [
    "np.dot(fan1_acts, foil1_acts)"
   ]
  },
  {
   "cell_type": "code",
   "execution_count": 63,
   "metadata": {
    "collapsed": true
   },
   "outputs": [],
   "source": [
    "_, fan1_acts = tuning_curves(ens, sim, inputs=fan1_pair_vecs[min_simi[0]])"
   ]
  },
  {
   "cell_type": "code",
   "execution_count": 64,
   "metadata": {
    "collapsed": true
   },
   "outputs": [],
   "source": [
    "_, foil1_acts = tuning_curves(ens, sim, inputs=foil1_pair_vecs[min_simi[1]])"
   ]
  },
  {
   "cell_type": "code",
   "execution_count": 65,
   "metadata": {},
   "outputs": [
    {
     "data": {
      "text/plain": [
       "[<matplotlib.lines.Line2D at 0x1404ec7a550>]"
      ]
     },
     "execution_count": 65,
     "metadata": {},
     "output_type": "execute_result"
    },
    {
     "data": {
      "image/png": "[encoded data removed]",
      "text/plain": [
       "<matplotlib.figure.Figure at 0x1404ec7a668>"
      ]
     },
     "metadata": {},
     "output_type": "display_data"
    }
   ],
   "source": [
    "plt.plot(fan1_acts, alpha=0.4)\n",
    "plt.plot(foil1_acts, alpha=0.4)"
   ]
  },
  {
   "cell_type": "code",
   "execution_count": 66,
   "metadata": {},
   "outputs": [
    {
     "data": {
      "text/plain": [
       "1537.185853295925"
      ]
     },
     "execution_count": 66,
     "metadata": {},
     "output_type": "execute_result"
    }
   ],
   "source": [
    "np.dot(fan1_acts, foil1_acts)"
   ]
  },
  {
   "cell_type": "code",
   "execution_count": 67,
   "metadata": {},
   "outputs": [
    {
     "data": {
      "text/plain": [
       "6"
      ]
     },
     "execution_count": 67,
     "metadata": {},
     "output_type": "execute_result"
    }
   ],
   "source": [
    "min_simi[1]"
   ]
  },
  {
   "cell_type": "markdown",
   "metadata": {},
   "source": [
    "As expected, similar vectors activate similar neurons in a similar manner. However, similarity of activation does not dictate success of decoding. Which somewhat implies the important neurons are already being emphasized and the recurrent weighting does little to change that."
   ]
  }
 ],
 "metadata": {
  "kernelspec": {
   "display_name": "Python 3",
   "language": "python",
   "name": "python3"
  },
  "language_info": {
   "codemirror_mode": {
    "name": "ipython",
    "version": 3
   },
   "file_extension": ".py",
   "mimetype": "text/x-python",
   "name": "python",
   "nbconvert_exporter": "python",
   "pygments_lexer": "ipython3",
   "version": "3.6.3"
  }
 },
 "nbformat": 4,
 "nbformat_minor": 2
}
