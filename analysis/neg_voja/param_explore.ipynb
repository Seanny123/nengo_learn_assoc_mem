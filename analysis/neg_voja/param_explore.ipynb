{
 "cells": [
  {
   "cell_type": "markdown",
   "metadata": {},
   "source": [
    "Inspect the effect of parameters on the MEG response."
   ]
  },
  {
   "cell_type": "code",
   "execution_count": 2,
   "metadata": {},
   "outputs": [],
   "source": [
    "from collections import namedtuple, OrderedDict\n",
    "import os\n",
    "import glob\n",
    "\n",
    "import h5py\n",
    "import numpy as np\n",
    "import pandas as pd\n",
    "import seaborn as sns\n",
    "import matplotlib.pyplot as plt\n",
    "%matplotlib inline\n",
    "\n",
    "from nengo_learn_assoc_mem.utils import numpy_bytes_to_str\n",
    "from nengo_learn_assoc_mem.paths import data_path"
   ]
  },
  {
   "cell_type": "code",
   "execution_count": 27,
   "metadata": {},
   "outputs": [],
   "source": [
    "intercept_vals = (0.1, 0.2, 0.3)\n",
    "lr_vals = (1e-5, 5e-6, 1e-6, 1e-7)\n",
    "repeat_vals = (4, 5, 6)"
   ]
  },
  {
   "cell_type": "markdown",
   "metadata": {},
   "source": [
    "# Effect of intercepts"
   ]
  },
  {
   "cell_type": "code",
   "execution_count": 47,
   "metadata": {},
   "outputs": [],
   "source": [
    "n_repeats = 5\n",
    "lr = 5e-6\n",
    "intercept = 0.2"
   ]
  },
  {
   "cell_type": "code",
   "execution_count": 48,
   "metadata": {},
   "outputs": [
    {
     "name": "stdout",
     "output_type": "stream",
     "text": [
      "[0.0, 64.099999999999994]\n",
      "[0.0, 64.099999999999994]\n",
      "[0.0, 64.099999999999994]\n"
     ]
    }
   ],
   "source": [
    "tmp_df_list = []\n",
    "\n",
    "for intercept in intercept_vals:\n",
    "    read_path = os.path.join(data_path, f\"neg_voja_enc_{n_repeats}_{intercept}_{lr}.h5\")\n",
    "    tmp_df_list.append(pd.read_hdf(read_path, \"response\").assign(intercept=intercept))\n",
    "    \n",
    "    with h5py.File(read_path) as fi:\n",
    "        t_sim = list(fi[\"t_range\"])\n",
    "        print(t_sim)\n",
    "\n",
    "act_df = pd.concat(tmp_df_list)"
   ]
  },
  {
   "cell_type": "code",
   "execution_count": 52,
   "metadata": {},
   "outputs": [
    {
     "data": {
      "text/plain": [
       "<matplotlib.axes._subplots.AxesSubplot at 0x27b00b3e6d8>"
      ]
     },
     "execution_count": 52,
     "metadata": {},
     "output_type": "execute_result"
    },
    {
     "data": {
      "image/png": "[encoded data removed]",
      "text/plain": [
       "<matplotlib.figure.Figure at 0x27b00bc7cc0>"
      ]
     },
     "metadata": {},
     "output_type": "display_data"
    }
   ],
   "source": [
    "plt_df = act_df[(act_df.targ == True)  & (act_df.intercept == 0.1)]\n",
    "sns.barplot(x=\"resp\", y=\"act\", hue=\"intercept\", data=plt_df)"
   ]
  },
  {
   "cell_type": "code",
   "execution_count": 66,
   "metadata": {},
   "outputs": [
    {
     "data": {
      "text/plain": [
       "<matplotlib.axes._subplots.AxesSubplot at 0x18e20518a58>"
      ]
     },
     "execution_count": 66,
     "metadata": {},
     "output_type": "execute_result"
    },
    {
     "data": {
      "image/png": "[encoded data removed]",
      "text/plain": [
       "<matplotlib.figure.Figure at 0x18e1cebe7b8>"
      ]
     },
     "metadata": {},
     "output_type": "display_data"
    }
   ],
   "source": [
    "#plt_df = act_df[(act_df.targ == True) & (act_df.intercept == 0.1)]\n",
    "plt_df = act_df[act_df.intercept == 0.1]\n",
    "sns.barplot(x=\"resp\", y=\"act\", hue=\"targ\", data=plt_df)"
   ]
  },
  {
   "cell_type": "code",
   "execution_count": 21,
   "metadata": {},
   "outputs": [
    {
     "name": "stdout",
     "output_type": "stream",
     "text": [
      "['encoders', 'fan1', 'fan2', 'foil1', 'foil2', 't_range', 'vocab_strings', 'vocab_vectors']\n"
     ]
    }
   ],
   "source": [
    "with h5py.File(base_case_path) as fi:\n",
    "    print(list(fi.keys()))"
   ]
  },
  {
   "cell_type": "markdown",
   "metadata": {},
   "source": [
    "# Effect of Learning Rate"
   ]
  },
  {
   "cell_type": "code",
   "execution_count": 53,
   "metadata": {},
   "outputs": [],
   "source": [
    "n_repeats = 4\n",
    "intercept = 0.3"
   ]
  },
  {
   "cell_type": "code",
   "execution_count": 54,
   "metadata": {},
   "outputs": [],
   "source": [
    "tmp_df_list = []\n",
    "\n",
    "for lr in lr_vals:\n",
    "    read_path = os.path.join(data_path, f\"neg_voja_enc_{n_repeats}_{intercept}_{lr}.h5\")\n",
    "    tmp_df_list.append(pd.read_hdf(read_path, \"response\").assign(lr=lr))\n",
    "\n",
    "act_df = pd.concat(tmp_df_list)"
   ]
  },
  {
   "cell_type": "code",
   "execution_count": 58,
   "metadata": {},
   "outputs": [
    {
     "data": {
      "text/plain": [
       "<matplotlib.axes._subplots.AxesSubplot at 0x27b01ef46a0>"
      ]
     },
     "execution_count": 58,
     "metadata": {},
     "output_type": "execute_result"
    },
    {
     "data": {
      "image/png": "[encoded data removed]",
      "text/plain": [
       "<matplotlib.figure.Figure at 0x27b01eb2f98>"
      ]
     },
     "metadata": {},
     "output_type": "display_data"
    }
   ],
   "source": [
    "plt_df = act_df[(act_df.targ == True) & (act_df.lr == 1e-5)]\n",
    "sns.barplot(x=\"resp\", y=\"act\", hue=\"lr\", data=plt_df)"
   ]
  },
  {
   "cell_type": "markdown",
   "metadata": {},
   "source": [
    "# Effect of Repetition"
   ]
  },
  {
   "cell_type": "code",
   "execution_count": 71,
   "metadata": {},
   "outputs": [],
   "source": [
    "intercept = 0.2\n",
    "lr = 5e-6"
   ]
  },
  {
   "cell_type": "code",
   "execution_count": 72,
   "metadata": {},
   "outputs": [],
   "source": [
    "tmp_df_list = []\n",
    "e_hist = []\n",
    "\n",
    "for n_repeats in repeat_vals:\n",
    "    read_path = os.path.join(data_path, f\"neg_voja_enc_{n_repeats}_{intercept}_{lr}.h5\")\n",
    "    tmp_df_list.append(pd.read_hdf(read_path, \"response\").assign(repeats=n_repeats))\n",
    "    \n",
    "    with h5py.File(read_path) as fi:\n",
    "        e_hist.append(np.array(fi[\"encoders\"]))\n",
    "        \n",
    "\n",
    "act_df = pd.concat(tmp_df_list)"
   ]
  },
  {
   "cell_type": "markdown",
   "metadata": {},
   "source": [
    "## Compare deviation from origin"
   ]
  },
  {
   "cell_type": "code",
   "execution_count": 73,
   "metadata": {},
   "outputs": [
    {
     "name": "stdout",
     "output_type": "stream",
     "text": [
      "78.0103723351\n",
      "77.9668264383\n",
      "77.9569918103\n"
     ]
    }
   ],
   "source": [
    "for enc in e_hist:\n",
    "    print(np.linalg.norm((enc[0] - enc[-1]), axis=1).sum())"
   ]
  },
  {
   "cell_type": "code",
   "execution_count": 74,
   "metadata": {},
   "outputs": [
    {
     "data": {
      "image/png": "[encoded data removed]",
      "text/plain": [
       "<matplotlib.figure.Figure at 0x27b00ce9fd0>"
      ]
     },
     "metadata": {},
     "output_type": "display_data"
    }
   ],
   "source": [
    "plt.figure(figsize=(14, 4))\n",
    "plt.plot(e_hist[-1][:, 0, :]);"
   ]
  },
  {
   "cell_type": "code",
   "execution_count": 102,
   "metadata": {},
   "outputs": [
    {
     "data": {
      "text/plain": [
       "<matplotlib.axes._subplots.AxesSubplot at 0x18e21d50be0>"
      ]
     },
     "execution_count": 102,
     "metadata": {},
     "output_type": "execute_result"
    },
    {
     "data": {
      "image/png": "[encoded data removed]",
      "text/plain": [
       "<matplotlib.figure.Figure at 0x18e21ca1128>"
      ]
     },
     "metadata": {},
     "output_type": "display_data"
    }
   ],
   "source": [
    "plt_df = act_df[(act_df.targ == True)]# & (act_df.lr == 1e-6)]\n",
    "sns.barplot(x=\"resp\", y=\"act\", hue=\"repeats\", data=plt_df)"
   ]
  }
 ],
 "metadata": {
  "kernelspec": {
   "display_name": "Python 3",
   "language": "python",
   "name": "python3"
  },
  "language_info": {
   "codemirror_mode": {
    "name": "ipython",
    "version": 3
   },
   "file_extension": ".py",
   "mimetype": "text/x-python",
   "name": "python",
   "nbconvert_exporter": "python",
   "pygments_lexer": "ipython3",
   "version": "3.6.3"
  }
 },
 "nbformat": 4,
 "nbformat_minor": 2
}
