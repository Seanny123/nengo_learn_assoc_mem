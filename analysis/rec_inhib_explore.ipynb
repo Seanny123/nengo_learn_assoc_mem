{
 "cells": [
  {
   "cell_type": "markdown",
   "metadata": {},
   "source": [
    "Does recurrent inhibition behave like I think it does?"
   ]
  },
  {
   "cell_type": "code",
   "execution_count": 1,
   "metadata": {},
   "outputs": [],
   "source": [
    "import numpy as np\n",
    "import matplotlib.pyplot as plt\n",
    "import seaborn as sns\n",
    "%matplotlib inline\n",
    "\n",
    "import nengo\n",
    "from nengo.utils.matplotlib import rasterplot\n",
    "\n",
    "from nengo_learn_assoc_mem.utils import gen_feed_func, meg_from_spikes"
   ]
  },
  {
   "cell_type": "code",
   "execution_count": 18,
   "metadata": {},
   "outputs": [],
   "source": [
    "dt = 0.001\n",
    "seed = 0\n",
    "\n",
    "ens_params = dict(encoders=[[1], [1], [-1], [-1]], intercepts=[-0.5, -0.1, -0.1, -0.5], max_rates=[250, 350, 350, 250])\n",
    "\n",
    "\n",
    "def stim_func(t):\n",
    "    if (t % 1) > 0.5:\n",
    "        return 0.3\n",
    "    else:\n",
    "        return -0.3\n",
    "\n",
    "\n",
    "lr = -5e-5\n",
    "pre_nrn = 4"
   ]
  },
  {
   "cell_type": "markdown",
   "metadata": {},
   "source": [
    "# Try a polarising signal"
   ]
  },
  {
   "cell_type": "code",
   "execution_count": 19,
   "metadata": {},
   "outputs": [],
   "source": [
    "n_neurons = 4\n",
    "rec_inhib = (-1*np.ones(n_neurons) + np.eye(n_neurons)) / 1e4\n",
    "\n",
    "with nengo.Network() as fake_model:\n",
    "    sin = nengo.Node(stim_func)\n",
    "    \n",
    "    ens = nengo.Ensemble(pre_nrn, 1, **ens_params)\n",
    "\n",
    "    nengo.Connection(sin, ens)\n",
    "    nengo.Connection(ens.neurons, ens.neurons, transform=rec_inhib)\n",
    "\n",
    "    fake_model.p_in = nengo.Probe(sin, synapse=None)\n",
    "    fake_model.p_out = nengo.Probe(ens, synapse=0.01)\n",
    "    fake_model.p_spikes = nengo.Probe(ens.neurons, synapse=None)"
   ]
  },
  {
   "cell_type": "code",
   "execution_count": 20,
   "metadata": {},
   "outputs": [
    {
     "name": "stdout",
     "output_type": "stream",
     "text": [
      "Building finished in 0:00:01.                                                   \n",
      "Simulating finished in 0:00:01.                                                 \n"
     ]
    }
   ],
   "source": [
    "sim_len = 2\n",
    "\n",
    "with nengo.Simulator(fake_model) as fake_sim:\n",
    "    fake_sim.run(sim_len)"
   ]
  },
  {
   "cell_type": "code",
   "execution_count": 21,
   "metadata": {},
   "outputs": [
    {
     "data": {
      "text/plain": [
       "Text(0.5,0,'Time (s)')"
      ]
     },
     "execution_count": 21,
     "metadata": {},
     "output_type": "execute_result"
    },
    {
     "data": {
      "image/png": "[encoded data removed]",
      "text/plain": [
       "<matplotlib.figure.Figure at 0x7f2e6e558f98>"
      ]
     },
     "metadata": {},
     "output_type": "display_data"
    }
   ],
   "source": [
    "plt.figure(figsize=(12, 8))\n",
    "win = int(2e3)\n",
    "\n",
    "ax = plt.subplot(2, 1, 1)\n",
    "rasterplot(fake_sim.trange()[:win], fake_sim.data[fake_model.p_spikes][:win], ax)\n",
    "ax.set_ylabel('Neuron')\n",
    "ax.set_xlabel('Time (s)')"
   ]
  },
  {
   "cell_type": "markdown",
   "metadata": {},
   "source": [
    "Setting the baseline inhibition is a way to determine what minimum firing rate you want to see proportional to the maximum firing rate."
   ]
  }
 ],
 "metadata": {
  "kernelspec": {
   "display_name": "Python 3",
   "language": "python",
   "name": "python3"
  },
  "language_info": {
   "codemirror_mode": {
    "name": "ipython",
    "version": 3
   },
   "file_extension": ".py",
   "mimetype": "text/x-python",
   "name": "python",
   "nbconvert_exporter": "python",
   "pygments_lexer": "ipython3",
   "version": "3.6.3"
  }
 },
 "nbformat": 4,
 "nbformat_minor": 2
}
