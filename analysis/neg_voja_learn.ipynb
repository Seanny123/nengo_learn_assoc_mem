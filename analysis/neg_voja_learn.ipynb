{
 "cells": [
  {
   "cell_type": "markdown",
   "metadata": {},
   "source": [
    "Check effect of Negative Voja learning rule on MEG response"
   ]
  },
  {
   "cell_type": "code",
   "execution_count": 1,
   "metadata": {},
   "outputs": [],
   "source": [
    "import numpy as np\n",
    "import matplotlib.pyplot as plt\n",
    "import pandas as pd\n",
    "import seaborn as sns\n",
    "%matplotlib inline\n",
    "\n",
    "import nengo\n",
    "from nengo.utils.matplotlib import rasterplot\n",
    "import nengo_spa as spa\n",
    "\n",
    "from nengo_learn_assoc_mem.utils import make_alt_vocab, BasicVecFeed, meg_from_spikes\n",
    "from nengo_learn_assoc_mem.learning_rules.neg_voja import NegVoja\n",
    "from nengo_learn_assoc_mem.learning_rules import rec_bcm\n",
    "\n",
    "from collections import namedtuple"
   ]
  },
  {
   "cell_type": "markdown",
   "metadata": {},
   "source": [
    "# 2D"
   ]
  },
  {
   "cell_type": "markdown",
   "metadata": {},
   "source": [
    "## Setup"
   ]
  },
  {
   "cell_type": "code",
   "execution_count": null,
   "metadata": {},
   "outputs": [],
   "source": [
    "n_neurons = 100\n",
    "n_items = 16\n",
    "dimensions = 2\n",
    "seed = 8\n",
    "\n",
    "intercepts = [0.8]*n_neurons"
   ]
  },
  {
   "cell_type": "code",
   "execution_count": null,
   "metadata": {},
   "outputs": [],
   "source": [
    "vocab, fan1, fan1_pair_vecs, fan2, fan2_pair_vecs, foil1, foil1_pair_vecs, foil2, foil2_pair_vecs = make_alt_vocab(n_items, n_items, dimensions, seed, norm=True)"
   ]
  },
  {
   "cell_type": "code",
   "execution_count": null,
   "metadata": {},
   "outputs": [],
   "source": [
    "fan1_pairs = np.array(fan1_pair_vecs)\n",
    "fan2_pairs = np.array(fan2_pair_vecs)\n",
    "fan1_mean = np.mean(fan1_pair_vecs, axis=0)\n",
    "fan2_mean = np.mean(fan2_pair_vecs, axis=0)"
   ]
  },
  {
   "cell_type": "code",
   "execution_count": null,
   "metadata": {},
   "outputs": [],
   "source": [
    "x_val = np.linspace(0, 2*np.pi, n_neurons)\n",
    "enc = np.array([np.cos(x_val), np.sin(x_val)]).T\n",
    "\n",
    "plt.scatter(fan1_pairs[:, 0], fan1_pairs[:, 1], label=\"fan1\", color='r')\n",
    "plt.scatter(fan1_mean[0], fan1_mean[1], color='r')\n",
    "plt.scatter(fan2_pairs[:, 0], fan2_pairs[:, 1], label=\"fan2\", color='b')\n",
    "plt.scatter(fan2_mean[0], fan2_mean[1], color='b')\n",
    "plt.scatter(enc[:, 0], enc[:, 1], color='k', alpha=0.3)\n",
    "\n",
    "plt.xlim(-1.1, 1.1)\n",
    "plt.ylim(-1.1, 1.1)"
   ]
  },
  {
   "cell_type": "markdown",
   "metadata": {},
   "source": [
    "## Simulation"
   ]
  },
  {
   "cell_type": "code",
   "execution_count": null,
   "metadata": {},
   "outputs": [],
   "source": [
    "with nengo.Network() as model:\n",
    "    ens = nengo.Ensemble(n_neurons, dimensions, intercepts=intercepts, seed=seed)\n",
    "\n",
    "with nengo.Simulator(model) as sim:\n",
    "    pass\n",
    "\n",
    "enc = sim.data[ens].encoders.copy()"
   ]
  },
  {
   "cell_type": "code",
   "execution_count": null,
   "metadata": {},
   "outputs": [],
   "source": [
    "feed_vecs = fan1_pair_vecs + fan2_pair_vecs\n",
    "\n",
    "n_repeats = 5\n",
    "t_pause = 0.1\n",
    "t_present = 0.3\n",
    "t_each = t_pause + t_present\n",
    "\n",
    "td_pause = t_pause/dt\n",
    "\n",
    "dt = 0.001"
   ]
  },
  {
   "cell_type": "code",
   "execution_count": null,
   "metadata": {},
   "outputs": [],
   "source": [
    "feed = BasicVecFeed(feed_vecs, feed_vecs, t_present, dimensions, len(feed_vecs), t_pause)\n",
    "\n",
    "with nengo.Network() as model:\n",
    "    in_nd = nengo.Node(feed.feed)\n",
    "    paused = nengo.Node(lambda t: 1-feed.paused)\n",
    "\n",
    "    neg_voja = NegVoja(enc.copy(), learning_rate=(5e-6 / n_repeats))\n",
    "    ens = nengo.Ensemble(n_neurons, dimensions, intercepts=intercepts, seed=seed)\n",
    "\n",
    "    nengo.Connection(in_nd, neg_voja.input_signal, synapse=None)\n",
    "    nengo.Connection(ens.neurons, neg_voja.input_activities, synapse=0)\n",
    "    nengo.Connection(paused, neg_voja.enable, synapse=None)\n",
    "    nengo.Connection(neg_voja.output, ens.neurons, synapse=None)\n",
    "\n",
    "    p_in = nengo.Probe(in_nd)\n",
    "    p_spikes = nengo.Probe(ens.neurons)\n",
    "\n",
    "with nengo.Simulator(model) as sim:\n",
    "    sim.run(n_repeats*len(feed_vecs)*t_each + t_pause)"
   ]
  },
  {
   "cell_type": "code",
   "execution_count": null,
   "metadata": {},
   "outputs": [],
   "source": [
    "fig, (ax1, ax2) = plt.subplots(2, 1, sharex=True, figsize=(12, 6))\n",
    "ax1.plot(sim.trange(), sim.data[p_in])\n",
    "rasterplot(sim.trange(), sim.data[p_spikes], ax=ax2)"
   ]
  },
  {
   "cell_type": "code",
   "execution_count": null,
   "metadata": {},
   "outputs": [],
   "source": [
    "fin_enc = neg_voja.encoder_hist[-1]"
   ]
  },
  {
   "cell_type": "code",
   "execution_count": null,
   "metadata": {},
   "outputs": [],
   "source": [
    "#plt.scatter(enc[:, 0], enc[:, 1])\n",
    "plt.scatter(fin_enc[:, 0], fin_enc[:, 1], alpha=0.4)\n",
    "plt.scatter(fan1_pairs[:, 0], fan1_pairs[:, 1], label=\"fan1\", color='r')\n",
    "plt.scatter(fan2_pairs[:, 0], fan2_pairs[:, 1], label=\"fan2\", color='b')"
   ]
  },
  {
   "cell_type": "markdown",
   "metadata": {},
   "source": [
    "## Verification"
   ]
  },
  {
   "cell_type": "code",
   "execution_count": null,
   "metadata": {},
   "outputs": [],
   "source": [
    "with nengo.Network() as model:\n",
    "    ens = nengo.Ensemble(n_neurons, dimensions, encoders=fin_enc, intercepts=intercepts, seed=seed)\n",
    "sim = nengo.Simulator(model)"
   ]
  },
  {
   "cell_type": "code",
   "execution_count": null,
   "metadata": {},
   "outputs": [],
   "source": [
    "Stim = namedtuple(\"Stim\", ['fan_num', 'targ', 'vecs'])"
   ]
  },
  {
   "cell_type": "code",
   "execution_count": null,
   "metadata": {},
   "outputs": [],
   "source": [
    "stim_vecs = {\"fan1\": Stim(1, True, np.array(fan1_pair_vecs)),\n",
    "             \"fan2\": Stim(2, True, np.array(fan2_pair_vecs))}"
   ]
  },
  {
   "cell_type": "code",
   "execution_count": null,
   "metadata": {},
   "outputs": [],
   "source": [
    "df_list = []\n",
    "\n",
    "for key, obj in stim_vecs.items():\n",
    "    _, act = nengo.utils.ensemble.tuning_curves(ens, sim, inputs=obj.vecs)\n",
    "\n",
    "    flat_act = list(act.flatten())\n",
    "    resp = [obj.fan_num] * len(flat_act)\n",
    "    targ = [obj.targ] * len(flat_act)\n",
    "    df_list.append(pd.DataFrame({\"act\": flat_act, \"resp\": resp, \"targ\": targ}))\n",
    "\n",
    "act_df = pd.concat(df_list)"
   ]
  },
  {
   "cell_type": "code",
   "execution_count": null,
   "metadata": {},
   "outputs": [],
   "source": [
    "ax = sns.barplot(x=\"resp\", y=\"act\", data=act_df)\n",
    "\n",
    "ax.set_title(\"Difference between FAN1 and FAN2 firing rates\")\n",
    "ax.set_ylabel(\"Mean Firing Rate\")\n",
    "ax.set_xlabel(\"FAN type\");"
   ]
  },
  {
   "cell_type": "markdown",
   "metadata": {},
   "source": [
    "# Full Vocab"
   ]
  },
  {
   "cell_type": "code",
   "execution_count": 2,
   "metadata": {},
   "outputs": [],
   "source": [
    "n_items = 16\n",
    "dimensions = 32\n",
    "n_neurons = 500\n",
    "\n",
    "dt = 0.001\n",
    "seed = 8\n",
    "\n",
    "vocab, fan1, fan1_pair_vecs, fan2, fan2_pair_vecs, foil1, foil1_pair_vecs, foil2, foil2_pair_vecs = make_alt_vocab(n_items, n_items, dimensions, seed, norm=True)"
   ]
  },
  {
   "cell_type": "code",
   "execution_count": 3,
   "metadata": {},
   "outputs": [],
   "source": [
    "feed_vecs = fan1_pair_vecs + fan2_pair_vecs\n",
    "\n",
    "n_repeats = 5\n",
    "t_pause = 0.1\n",
    "t_present = 0.3\n",
    "t_each = t_pause + t_present\n",
    "\n",
    "td_pause = t_pause/dt\n",
    "\n",
    "intercepts = [0.2]*n_neurons"
   ]
  },
  {
   "cell_type": "code",
   "execution_count": 4,
   "metadata": {},
   "outputs": [
    {
     "name": "stdout",
     "output_type": "stream",
     "text": [
      "\r",
      "Building finished in 0:00:01.                                                   \n"
     ]
    }
   ],
   "source": [
    "with nengo.Network() as model:\n",
    "    ens = nengo.Ensemble(n_neurons, dimensions, intercepts=intercepts, seed=seed)\n",
    "\n",
    "with nengo.Simulator(model) as sim:\n",
    "    pass\n",
    "\n",
    "enc = sim.data[ens].encoders.copy()"
   ]
  },
  {
   "cell_type": "code",
   "execution_count": 5,
   "metadata": {},
   "outputs": [
    {
     "name": "stdout",
     "output_type": "stream",
     "text": [
      "Building finished in 0:00:01.                                                   \n",
      "Simulating finished in 0:00:49.                                                 \n"
     ]
    }
   ],
   "source": [
    "feed = BasicVecFeed(feed_vecs, feed_vecs, t_present, dimensions, len(feed_vecs), t_pause)\n",
    "\n",
    "with nengo.Network() as model:\n",
    "    in_nd = nengo.Node(feed.feed)\n",
    "    paused = nengo.Node(lambda t: 1-feed.paused)\n",
    "\n",
    "    neg_voja = NegVoja(enc.copy(), learning_rate=(5e-6 / n_repeats))\n",
    "    ens = nengo.Ensemble(n_neurons, dimensions, intercepts=intercepts, seed=seed)\n",
    "\n",
    "    nengo.Connection(in_nd, neg_voja.input_signal, synapse=None)\n",
    "    nengo.Connection(ens.neurons, neg_voja.input_activities, synapse=0)\n",
    "    nengo.Connection(paused, neg_voja.enable, synapse=None)\n",
    "    nengo.Connection(neg_voja.output, ens.neurons, synapse=None)\n",
    "\n",
    "    p_in = nengo.Probe(in_nd)\n",
    "    p_spikes = nengo.Probe(ens.neurons)\n",
    "\n",
    "with nengo.Simulator(model) as sim:\n",
    "    sim.run(n_repeats*len(feed_vecs)*t_each + t_pause)"
   ]
  },
  {
   "cell_type": "code",
   "execution_count": 6,
   "metadata": {},
   "outputs": [],
   "source": [
    "fin_enc = neg_voja.encoder_hist[-1].copy()"
   ]
  },
  {
   "cell_type": "markdown",
   "metadata": {},
   "source": [
    "## Verification"
   ]
  },
  {
   "cell_type": "code",
   "execution_count": 7,
   "metadata": {},
   "outputs": [
    {
     "name": "stdout",
     "output_type": "stream",
     "text": [
      "\r",
      "Building finished in 0:00:01.                                                   \n"
     ]
    }
   ],
   "source": [
    "with nengo.Network() as model:\n",
    "    ens = nengo.Ensemble(n_neurons, dimensions, encoders=fin_enc, intercepts=intercepts, seed=seed)\n",
    "sim = nengo.Simulator(model)"
   ]
  },
  {
   "cell_type": "code",
   "execution_count": 8,
   "metadata": {},
   "outputs": [],
   "source": [
    "Stim = namedtuple(\"Stim\", ['fan_num', 'targ', 'vecs'])"
   ]
  },
  {
   "cell_type": "code",
   "execution_count": 9,
   "metadata": {},
   "outputs": [],
   "source": [
    "stim_vecs = {\"fan1\": Stim(1, True, np.array(fan1_pair_vecs)),\n",
    "             \"fan2\": Stim(2, True, np.array(fan2_pair_vecs)),\n",
    "             \"foil1\": Stim(1, False, np.array(foil1_pair_vecs)),\n",
    "             \"foil2\": Stim(2, False, np.array(foil2_pair_vecs))}"
   ]
  },
  {
   "cell_type": "code",
   "execution_count": 10,
   "metadata": {},
   "outputs": [],
   "source": [
    "df_list = []\n",
    "\n",
    "for key, obj in stim_vecs.items():\n",
    "    _, act = nengo.utils.ensemble.tuning_curves(ens, sim, inputs=obj.vecs)\n",
    "\n",
    "    flat_act = list(act.flatten())\n",
    "    resp = [obj.fan_num] * len(flat_act)\n",
    "    targ = [obj.targ] * len(flat_act)\n",
    "    df_list.append(pd.DataFrame({\"act\": flat_act, \"resp\": resp, \"targ\": targ}))\n",
    "\n",
    "act_df = pd.concat(df_list)"
   ]
  },
  {
   "cell_type": "code",
   "execution_count": 11,
   "metadata": {},
   "outputs": [
    {
     "data": {
      "image/png": "[encoded data removed]",
      "text/plain": [
       "<matplotlib.figure.Figure at 0x7fab0561d710>"
      ]
     },
     "metadata": {},
     "output_type": "display_data"
    }
   ],
   "source": [
    "ax = sns.barplot(x=\"resp\", y=\"act\", data=act_df[act_df.targ == True])\n",
    "\n",
    "ax.set_title(\"Difference between FAN1 and FAN2 firing rates\")\n",
    "ax.set_ylabel(\"Mean Firing Rate\")\n",
    "ax.set_xlabel(\"FAN type\");"
   ]
  },
  {
   "cell_type": "code",
   "execution_count": 12,
   "metadata": {},
   "outputs": [
    {
     "data": {
      "image/png": "[encoded data removed]",
      "text/plain": [
       "<matplotlib.figure.Figure at 0x7faabc03ac18>"
      ]
     },
     "metadata": {},
     "output_type": "display_data"
    }
   ],
   "source": [
    "ax = sns.barplot(x=\"resp\", y=\"act\", hue=\"targ\", hue_order=(True, False), data=act_df)\n",
    "\n",
    "ax.set_title(\"Difference between FAN1 and FAN2 firing rates\")\n",
    "ax.set_ylabel(\"Mean Firing Rate\")\n",
    "ax.set_xlabel(\"FAN type\")\n",
    "\n",
    "ax.legend_.set_title(\"Target vs. Foil\")\n",
    "new_labels = (\"Target\", \"Foil\")\n",
    "for t, l in zip(ax.legend_.texts, new_labels): t.set_text(l)"
   ]
  },
  {
   "cell_type": "markdown",
   "metadata": {},
   "source": [
    "## Add recurrent inhibition\n",
    "\n",
    "In the hopes it might exaggerate existing trends"
   ]
  },
  {
   "cell_type": "code",
   "execution_count": null,
   "metadata": {},
   "outputs": [],
   "source": [
    "t_pause = 0.4\n",
    "t_present = 0.3\n",
    "t_each = t_pause + t_present\n",
    "\n",
    "td_pause = int(t_pause / dt)\n",
    "td_each = int(t_each / dt)"
   ]
  },
  {
   "cell_type": "code",
   "execution_count": null,
   "metadata": {},
   "outputs": [],
   "source": [
    "rec_inhib = (-1*np.ones(n_neurons) + np.eye(n_neurons)) / 1e5\n",
    "\n",
    "feed = BasicVecFeed(feed_vecs, feed_vecs, t_present, dimensions, len(feed_vecs), t_pause)\n",
    "\n",
    "with nengo.Network() as model:\n",
    "    in_nd = nengo.Node(feed.feed)\n",
    "    paused = nengo.Node(lambda t: 1-feed.paused)\n",
    "\n",
    "    neg_voja = NegVoja(enc.copy(), learning_rate=(5e-6 / n_repeats))\n",
    "    ens = nengo.Ensemble(n_neurons, dimensions, intercepts=intercepts, seed=seed)\n",
    "\n",
    "    nengo.Connection(in_nd, neg_voja.input_signal, synapse=None)\n",
    "    nengo.Connection(ens.neurons, neg_voja.input_activities, synapse=0)\n",
    "    nengo.Connection(paused, neg_voja.enable, synapse=None)\n",
    "    nengo.Connection(neg_voja.output, ens.neurons, synapse=None)\n",
    "    \n",
    "    nengo.Connection(ens.neurons, ens.neurons, transform=rec_inhib)\n",
    "\n",
    "    p_in = nengo.Probe(in_nd)\n",
    "    p_spikes = nengo.Probe(ens.neurons)\n",
    "\n",
    "with nengo.Simulator(model) as sim:\n",
    "    sim.run(len(feed_vecs)*t_each + t_pause)"
   ]
  },
  {
   "cell_type": "code",
   "execution_count": null,
   "metadata": {},
   "outputs": [],
   "source": [
    "meg_sig = meg_from_spikes(sim.data[p_spikes])"
   ]
  },
  {
   "cell_type": "code",
   "execution_count": null,
   "metadata": {},
   "outputs": [],
   "source": [
    "len(fan1)"
   ]
  },
  {
   "cell_type": "code",
   "execution_count": null,
   "metadata": {},
   "outputs": [],
   "source": [
    "fan1_slc = slice(td_pause, td_each*len(fan1)+td_pause)\n",
    "fan2_slc = slice(fan1_slc.stop, td_each*len(feed_vecs)+td_pause)"
   ]
  },
  {
   "cell_type": "code",
   "execution_count": null,
   "metadata": {},
   "outputs": [],
   "source": [
    "plt.figure(figsize=(12, 3))\n",
    "plt.plot(sim.trange()[fan1_slc], meg_sig[fan1_slc])\n",
    "plt.plot(sim.trange()[fan2_slc], meg_sig[fan2_slc])"
   ]
  },
  {
   "cell_type": "code",
   "execution_count": null,
   "metadata": {},
   "outputs": [],
   "source": [
    "columns = (\"vec\", \"resp\")\n",
    "\n",
    "a1 = meg_sig[fan1_slc].flatten()\n",
    "l1 = [\"fan1\"] * len(a1)\n",
    "s1 = [True] * len(a1)\n",
    "p1 = pd.DataFrame({\"vec\": l1, \"resp\": list(a1), \"inhib\": s1})\n",
    "\n",
    "\n",
    "a2 = meg_sig[fan2_slc].flatten()\n",
    "l2 = [\"fan2\"] * len(a2)\n",
    "s2 = [True] * len(a2)\n",
    "p2 = pd.DataFrame({\"vec\": l2, \"resp\": list(a2), \"inhib\": s2})\n",
    "\n",
    "acts = pd.concat((p1, p2))"
   ]
  },
  {
   "cell_type": "code",
   "execution_count": null,
   "metadata": {},
   "outputs": [],
   "source": [
    "ax = sns.barplot(x=\"vec\", y=\"resp\", data=acts)\n",
    "ax.set_ylim((2000, 2500))"
   ]
  }
 ],
 "metadata": {
  "kernelspec": {
   "display_name": "Python 3",
   "language": "python",
   "name": "python3"
  },
  "language_info": {
   "codemirror_mode": {
    "name": "ipython",
    "version": 3
   },
   "file_extension": ".py",
   "mimetype": "text/x-python",
   "name": "python",
   "nbconvert_exporter": "python",
   "pygments_lexer": "ipython3",
   "version": "3.6.3"
  }
 },
 "nbformat": 4,
 "nbformat_minor": 2
}
