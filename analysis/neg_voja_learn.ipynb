{
 "cells": [
  {
   "cell_type": "markdown",
   "metadata": {},
   "source": [
    "Check effect of Negative Voja learning rule on MEG response"
   ]
  },
  {
   "cell_type": "code",
   "execution_count": 2,
   "metadata": {},
   "outputs": [],
   "source": [
    "import numpy as np\n",
    "import matplotlib.pyplot as plt\n",
    "import pandas as pd\n",
    "import seaborn as sns\n",
    "sns.set()\n",
    "%matplotlib inline\n",
    "\n",
    "import nengo\n",
    "from nengo.utils.matplotlib import rasterplot\n",
    "import nengo_spa as spa\n",
    "\n",
    "from nengo_learn_assoc_mem.utils import make_alt_vocab, BasicVecFeed, meg_from_spikes\n",
    "from nengo_learn_assoc_mem.learning_rules.neg_voja import NegVoja"
   ]
  },
  {
   "cell_type": "markdown",
   "metadata": {},
   "source": [
    "# 2D"
   ]
  },
  {
   "cell_type": "markdown",
   "metadata": {},
   "source": [
    "## Setup"
   ]
  },
  {
   "cell_type": "code",
   "execution_count": 6,
   "metadata": {},
   "outputs": [],
   "source": [
    "n_neurons = 100\n",
    "n_items = 16\n",
    "dimensions = 2\n",
    "seed = 8\n",
    "\n",
    "intercepts = [0.8]*n_neurons\n",
    "rad_comp = 1/np.sqrt(2)"
   ]
  },
  {
   "cell_type": "code",
   "execution_count": 5,
   "metadata": {},
   "outputs": [
    {
     "name": "stderr",
     "output_type": "stream",
     "text": [
      "/home/saubin/git/nengo_spa/nengo_spa/vocab.py:102: UserWarning: Could not create a semantic pointer with max_similarity=0.90 (D=2, M=10)\n",
      "  len(self.pointers)))\n",
      "/home/saubin/git/nengo_spa/nengo_spa/vocab.py:102: UserWarning: Could not create a semantic pointer with max_similarity=0.90 (D=2, M=11)\n",
      "  len(self.pointers)))\n",
      "/home/saubin/git/nengo_spa/nengo_spa/vocab.py:102: UserWarning: Could not create a semantic pointer with max_similarity=0.90 (D=2, M=12)\n",
      "  len(self.pointers)))\n",
      "/home/saubin/git/nengo_spa/nengo_spa/vocab.py:102: UserWarning: Could not create a semantic pointer with max_similarity=0.90 (D=2, M=13)\n",
      "  len(self.pointers)))\n",
      "/home/saubin/git/nengo_spa/nengo_spa/vocab.py:102: UserWarning: Could not create a semantic pointer with max_similarity=0.90 (D=2, M=14)\n",
      "  len(self.pointers)))\n",
      "/home/saubin/git/nengo_spa/nengo_spa/vocab.py:102: UserWarning: Could not create a semantic pointer with max_similarity=0.90 (D=2, M=15)\n",
      "  len(self.pointers)))\n",
      "/home/saubin/git/nengo_spa/nengo_spa/vocab.py:102: UserWarning: Could not create a semantic pointer with max_similarity=0.90 (D=2, M=16)\n",
      "  len(self.pointers)))\n",
      "/home/saubin/git/nengo_spa/nengo_spa/vocab.py:102: UserWarning: Could not create a semantic pointer with max_similarity=0.90 (D=2, M=17)\n",
      "  len(self.pointers)))\n",
      "/home/saubin/git/nengo_spa/nengo_spa/vocab.py:102: UserWarning: Could not create a semantic pointer with max_similarity=0.90 (D=2, M=18)\n",
      "  len(self.pointers)))\n",
      "/home/saubin/git/nengo_spa/nengo_spa/vocab.py:102: UserWarning: Could not create a semantic pointer with max_similarity=0.90 (D=2, M=19)\n",
      "  len(self.pointers)))\n",
      "/home/saubin/git/nengo_spa/nengo_spa/vocab.py:102: UserWarning: Could not create a semantic pointer with max_similarity=0.90 (D=2, M=20)\n",
      "  len(self.pointers)))\n",
      "/home/saubin/git/nengo_spa/nengo_spa/vocab.py:102: UserWarning: Could not create a semantic pointer with max_similarity=0.90 (D=2, M=21)\n",
      "  len(self.pointers)))\n",
      "/home/saubin/git/nengo_spa/nengo_spa/vocab.py:102: UserWarning: Could not create a semantic pointer with max_similarity=0.90 (D=2, M=22)\n",
      "  len(self.pointers)))\n",
      "/home/saubin/git/nengo_spa/nengo_spa/vocab.py:102: UserWarning: Could not create a semantic pointer with max_similarity=0.90 (D=2, M=23)\n",
      "  len(self.pointers)))\n",
      "/home/saubin/git/nengo_spa/nengo_spa/vocab.py:102: UserWarning: Could not create a semantic pointer with max_similarity=0.90 (D=2, M=24)\n",
      "  len(self.pointers)))\n",
      "/home/saubin/git/nengo_spa/nengo_spa/vocab.py:102: UserWarning: Could not create a semantic pointer with max_similarity=0.90 (D=2, M=25)\n",
      "  len(self.pointers)))\n",
      "/home/saubin/git/nengo_spa/nengo_spa/vocab.py:102: UserWarning: Could not create a semantic pointer with max_similarity=0.90 (D=2, M=26)\n",
      "  len(self.pointers)))\n",
      "/home/saubin/git/nengo_spa/nengo_spa/vocab.py:102: UserWarning: Could not create a semantic pointer with max_similarity=0.90 (D=2, M=27)\n",
      "  len(self.pointers)))\n",
      "/home/saubin/git/nengo_spa/nengo_spa/vocab.py:102: UserWarning: Could not create a semantic pointer with max_similarity=0.90 (D=2, M=28)\n",
      "  len(self.pointers)))\n",
      "/home/saubin/git/nengo_spa/nengo_spa/vocab.py:102: UserWarning: Could not create a semantic pointer with max_similarity=0.90 (D=2, M=29)\n",
      "  len(self.pointers)))\n",
      "/home/saubin/git/nengo_spa/nengo_spa/vocab.py:102: UserWarning: Could not create a semantic pointer with max_similarity=0.90 (D=2, M=30)\n",
      "  len(self.pointers)))\n",
      "/home/saubin/git/nengo_spa/nengo_spa/vocab.py:102: UserWarning: Could not create a semantic pointer with max_similarity=0.90 (D=2, M=31)\n",
      "  len(self.pointers)))\n",
      "/home/saubin/git/nengo_spa/nengo_spa/vocab.py:102: UserWarning: Could not create a semantic pointer with max_similarity=0.90 (D=2, M=32)\n",
      "  len(self.pointers)))\n",
      "/home/saubin/git/nengo_spa/nengo_spa/vocab.py:102: UserWarning: Could not create a semantic pointer with max_similarity=0.90 (D=2, M=33)\n",
      "  len(self.pointers)))\n",
      "/home/saubin/git/nengo_spa/nengo_spa/vocab.py:102: UserWarning: Could not create a semantic pointer with max_similarity=0.90 (D=2, M=34)\n",
      "  len(self.pointers)))\n",
      "/home/saubin/git/nengo_spa/nengo_spa/vocab.py:102: UserWarning: Could not create a semantic pointer with max_similarity=0.90 (D=2, M=35)\n",
      "  len(self.pointers)))\n",
      "/home/saubin/git/nengo_spa/nengo_spa/vocab.py:102: UserWarning: Could not create a semantic pointer with max_similarity=0.90 (D=2, M=36)\n",
      "  len(self.pointers)))\n",
      "/home/saubin/git/nengo_spa/nengo_spa/vocab.py:102: UserWarning: Could not create a semantic pointer with max_similarity=0.90 (D=2, M=37)\n",
      "  len(self.pointers)))\n",
      "/home/saubin/git/nengo_spa/nengo_spa/vocab.py:102: UserWarning: Could not create a semantic pointer with max_similarity=0.90 (D=2, M=38)\n",
      "  len(self.pointers)))\n",
      "/home/saubin/git/nengo_spa/nengo_spa/vocab.py:102: UserWarning: Could not create a semantic pointer with max_similarity=0.90 (D=2, M=39)\n",
      "  len(self.pointers)))\n",
      "/home/saubin/git/nengo_spa/nengo_spa/vocab.py:102: UserWarning: Could not create a semantic pointer with max_similarity=0.90 (D=2, M=40)\n",
      "  len(self.pointers)))\n",
      "/home/saubin/git/nengo_spa/nengo_spa/vocab.py:102: UserWarning: Could not create a semantic pointer with max_similarity=0.90 (D=2, M=41)\n",
      "  len(self.pointers)))\n",
      "/home/saubin/git/nengo_spa/nengo_spa/vocab.py:102: UserWarning: Could not create a semantic pointer with max_similarity=0.90 (D=2, M=42)\n",
      "  len(self.pointers)))\n",
      "/home/saubin/git/nengo_spa/nengo_spa/vocab.py:102: UserWarning: Could not create a semantic pointer with max_similarity=0.90 (D=2, M=43)\n",
      "  len(self.pointers)))\n",
      "/home/saubin/git/nengo_spa/nengo_spa/vocab.py:102: UserWarning: Could not create a semantic pointer with max_similarity=0.90 (D=2, M=44)\n",
      "  len(self.pointers)))\n",
      "/home/saubin/git/nengo_spa/nengo_spa/vocab.py:102: UserWarning: Could not create a semantic pointer with max_similarity=0.90 (D=2, M=45)\n",
      "  len(self.pointers)))\n",
      "/home/saubin/git/nengo_spa/nengo_spa/vocab.py:102: UserWarning: Could not create a semantic pointer with max_similarity=0.90 (D=2, M=46)\n",
      "  len(self.pointers)))\n",
      "/home/saubin/git/nengo_spa/nengo_spa/vocab.py:102: UserWarning: Could not create a semantic pointer with max_similarity=0.90 (D=2, M=47)\n",
      "  len(self.pointers)))\n"
     ]
    }
   ],
   "source": [
    "vocab, fan1, fan1_pair_vecs, fan2, fan2_pair_vecs, foil1, foil1_pair_vecs, foil2, foil2_pair_vecs = make_alt_vocab(n_items, n_items, dimensions, seed, norm=True)"
   ]
  },
  {
   "cell_type": "code",
   "execution_count": 14,
   "metadata": {},
   "outputs": [],
   "source": [
    "fan1_pairs = np.array(fan1_pair_vecs)\n",
    "fan2_pairs = np.array(fan2_pair_vecs)\n",
    "fan1_mean = np.mean(fan1_pair_vecs, axis=0)\n",
    "fan2_mean = np.mean(fan2_pair_vecs, axis=0)"
   ]
  },
  {
   "cell_type": "code",
   "execution_count": 15,
   "metadata": {},
   "outputs": [
    {
     "data": {
      "text/plain": [
       "(-1.1, 1.1)"
      ]
     },
     "execution_count": 15,
     "metadata": {},
     "output_type": "execute_result"
    },
    {
     "data": {
      "image/png": "[encoded data removed]",
      "text/plain": [
       "<matplotlib.figure.Figure at 0x7f14cf640208>"
      ]
     },
     "metadata": {},
     "output_type": "display_data"
    }
   ],
   "source": [
    "x_val = np.linspace(0, 2*np.pi, n_neurons)\n",
    "enc = np.array([np.cos(x_val), np.sin(x_val)]).T\n",
    "\n",
    "plt.scatter(fan1_pairs[:, 0], fan1_pairs[:, 1], label=\"cluster\", color='r')\n",
    "plt.scatter(fan1_mean[0], fan1_mean[1], color='r')\n",
    "plt.scatter(fan2_pairs[:, 0], fan2_pairs[:, 1], label=\"spread\", color='b')\n",
    "plt.scatter(fan2_mean[0], fan2_mean[1], color='b')\n",
    "plt.scatter(enc[:, 0], enc[:, 1], color='k', alpha=0.3)\n",
    "\n",
    "plt.xlim(-1.1, 1.1)\n",
    "plt.ylim(-1.1, 1.1)"
   ]
  },
  {
   "cell_type": "markdown",
   "metadata": {},
   "source": [
    "## Simulation"
   ]
  },
  {
   "cell_type": "code",
   "execution_count": 8,
   "metadata": {},
   "outputs": [
    {
     "name": "stdout",
     "output_type": "stream",
     "text": [
      "\r",
      "Building finished in 0:00:01.                                                   \n"
     ]
    }
   ],
   "source": [
    "with nengo.Network() as model:\n",
    "    ens = nengo.Ensemble(n_neurons, dimensions, intercepts=intercepts, seed=seed)\n",
    "\n",
    "with nengo.Simulator(model) as sim:\n",
    "    pass\n",
    "\n",
    "enc = sim.data[ens].encoders\n",
    "neg_voja = NegVoja(enc, learning_rate=1e-5)"
   ]
  },
  {
   "cell_type": "code",
   "execution_count": 16,
   "metadata": {},
   "outputs": [],
   "source": [
    "feed_vecs = fan1_pair_vecs + fan2_pair_vecs\n",
    "\n",
    "n_repeats = 1\n",
    "t_pause = 0.4\n",
    "t_present = 0.3\n",
    "t_each = t_pause + t_present\n",
    "\n",
    "dt = 0.001"
   ]
  },
  {
   "cell_type": "code",
   "execution_count": 11,
   "metadata": {},
   "outputs": [
    {
     "name": "stdout",
     "output_type": "stream",
     "text": [
      "Building finished in 0:00:01.                                                   \n",
      "Simulating finished in 0:00:01.                                                 \n"
     ]
    }
   ],
   "source": [
    "feed = BasicVecFeed(feed_vecs, feed_vecs, t_present, D, len(feed_vecs), t_pause)\n",
    "\n",
    "with nengo.Network() as model:\n",
    "    in_nd = nengo.Node(feed.feed)\n",
    "\n",
    "    neg_voja = NegVoja(enc, learning_rate=1e-5)\n",
    "    ens = nengo.Ensemble(n_neurons, dimensions, intercepts=intercepts, seed=seed)\n",
    "\n",
    "    nengo.Connection(in_nd, neg_voja.input_signal, synapse=None)\n",
    "    nengo.Connection(ens.neurons, neg_voja.input_activities, synapse=0)\n",
    "    nengo.Connection(neg_voja.output, ens.neurons, synapse=None)\n",
    "\n",
    "    p_in = nengo.Probe(in_nd)\n",
    "    p_spikes = nengo.Probe(ens.neurons)\n",
    "\n",
    "with nengo.Simulator(model) as sim:\n",
    "    sim.run(1)"
   ]
  },
  {
   "cell_type": "code",
   "execution_count": 13,
   "metadata": {},
   "outputs": [
    {
     "data": {
      "text/plain": [
       "<matplotlib.axes._subplots.AxesSubplot at 0x7f14cf68c908>"
      ]
     },
     "execution_count": 13,
     "metadata": {},
     "output_type": "execute_result"
    },
    {
     "data": {
      "image/png": "[encoded data removed]",
      "text/plain": [
       "<matplotlib.figure.Figure at 0x7f150ccbb518>"
      ]
     },
     "metadata": {},
     "output_type": "display_data"
    }
   ],
   "source": [
    "fig, (ax1, ax2) = plt.subplots(2, 1, sharex=True, figsize=(12, 6))\n",
    "ax1.plot(sim.trange(), sim.data[p_in])\n",
    "rasterplot(sim.trange(), sim.data[p_spikes], ax=ax2)"
   ]
  },
  {
   "cell_type": "code",
   "execution_count": null,
   "metadata": {},
   "outputs": [],
   "source": [
    "meg_sig = meg_from_spikes(sim.data[p_spikes])"
   ]
  }
 ],
 "metadata": {
  "kernelspec": {
   "display_name": "Python 3",
   "language": "python",
   "name": "python3"
  },
  "language_info": {
   "codemirror_mode": {
    "name": "ipython",
    "version": 3
   },
   "file_extension": ".py",
   "mimetype": "text/x-python",
   "name": "python",
   "nbconvert_exporter": "python",
   "pygments_lexer": "ipython3",
   "version": "3.6.3"
  }
 },
 "nbformat": 4,
 "nbformat_minor": 2
}
