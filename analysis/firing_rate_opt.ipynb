{
 "cells": [
  {
   "cell_type": "code",
   "execution_count": 1,
   "metadata": {
    "collapsed": true
   },
   "outputs": [],
   "source": [
    "import numpy as np\n",
    "import matplotlib.pyplot as plt\n",
    "import pandas as pd\n",
    "import seaborn as sns\n",
    "sns.set()\n",
    "%matplotlib inline\n",
    "\n",
    "import nengo\n",
    "import nengo_spa as spa\n",
    "\n",
    "from nengo_learn_assoc_mem.utils import BasicVecFeed, meg_from_spikes, make_alt_vocab"
   ]
  },
  {
   "cell_type": "markdown",
   "metadata": {},
   "source": [
    "# Firing Rate Adjustment in 2D\n",
    "\n",
    "If a neuron responds to the vector stimulus, reduce it's firing rate."
   ]
  },
  {
   "cell_type": "code",
   "execution_count": 2,
   "metadata": {
    "collapsed": true
   },
   "outputs": [],
   "source": [
    "n_neurons = 100\n",
    "\n",
    "vec_1 = [-1, -1]\n",
    "vec_2 = [1, 1]"
   ]
  },
  {
   "cell_type": "code",
   "execution_count": 3,
   "metadata": {
    "collapsed": true
   },
   "outputs": [],
   "source": [
    "with nengo.Network() as model:\n",
    "    ens = nengo.Ensemble(n_neurons, 2)"
   ]
  },
  {
   "cell_type": "code",
   "execution_count": 4,
   "metadata": {},
   "outputs": [
    {
     "name": "stdout",
     "output_type": "stream",
     "text": [
      "\r",
      "Building finished in 0:00:01.                                                   \n"
     ]
    }
   ],
   "source": [
    "sim = nengo.Simulator(model)"
   ]
  },
  {
   "cell_type": "code",
   "execution_count": 5,
   "metadata": {
    "collapsed": true
   },
   "outputs": [],
   "source": [
    "_, activity_1 = nengo.utils.ensemble.tuning_curves(ens, sim, inputs=np.array(vec_1))"
   ]
  },
  {
   "cell_type": "code",
   "execution_count": 6,
   "metadata": {},
   "outputs": [
    {
     "data": {
      "text/plain": [
       "(100,)"
      ]
     },
     "execution_count": 6,
     "metadata": {},
     "output_type": "execute_result"
    }
   ],
   "source": [
    "activity_1.shape"
   ]
  },
  {
   "cell_type": "code",
   "execution_count": 7,
   "metadata": {},
   "outputs": [
    {
     "data": {
      "text/plain": [
       "42"
      ]
     },
     "execution_count": 7,
     "metadata": {},
     "output_type": "execute_result"
    }
   ],
   "source": [
    "len(activity_1[activity_1 > 0])"
   ]
  },
  {
   "cell_type": "code",
   "execution_count": 8,
   "metadata": {},
   "outputs": [
    {
     "data": {
      "text/plain": [
       "[<matplotlib.lines.Line2D at 0x7f07bb129588>]"
      ]
     },
     "execution_count": 8,
     "metadata": {},
     "output_type": "execute_result"
    },
    {
     "data": {
      "image/png": "[encoded data removed]",
      "text/plain": [
       "<matplotlib.figure.Figure at 0x7f07bd13a240>"
      ]
     },
     "metadata": {},
     "output_type": "display_data"
    }
   ],
   "source": [
    "plt.plot(np.sort(activity_1))"
   ]
  },
  {
   "cell_type": "code",
   "execution_count": 9,
   "metadata": {
    "collapsed": true
   },
   "outputs": [],
   "source": [
    "built = sim.data[ens]"
   ]
  },
  {
   "cell_type": "code",
   "execution_count": 10,
   "metadata": {
    "collapsed": true
   },
   "outputs": [],
   "source": [
    "built.max_rates[activity_1 > 0] = built.max_rates[activity_1 > 0] + 100\n",
    "\n",
    "with nengo.Network() as adj_model:\n",
    "    ens = nengo.Ensemble(n_neurons, 2,\n",
    "                         encoders=built.encoders,\n",
    "                         eval_points=built.eval_points,\n",
    "                         intercepts=built.intercepts,\n",
    "                         max_rates=built.max_rates)"
   ]
  },
  {
   "cell_type": "code",
   "execution_count": 11,
   "metadata": {},
   "outputs": [
    {
     "name": "stdout",
     "output_type": "stream",
     "text": [
      "\r",
      "Building finished in 0:00:01.                                                   \n"
     ]
    }
   ],
   "source": [
    "adj_sim = nengo.Simulator(adj_model)"
   ]
  },
  {
   "cell_type": "code",
   "execution_count": 12,
   "metadata": {
    "collapsed": true
   },
   "outputs": [],
   "source": [
    "_, post_activity_1 = nengo.utils.ensemble.tuning_curves(ens, adj_sim, inputs=np.array(vec_1))"
   ]
  },
  {
   "cell_type": "code",
   "execution_count": 13,
   "metadata": {},
   "outputs": [
    {
     "data": {
      "text/plain": [
       "[<matplotlib.lines.Line2D at 0x7f07bb129c50>]"
      ]
     },
     "execution_count": 13,
     "metadata": {},
     "output_type": "execute_result"
    },
    {
     "data": {
      "image/png": "[encoded data removed]",
      "text/plain": [
       "<matplotlib.figure.Figure at 0x7f07bb129ba8>"
      ]
     },
     "metadata": {},
     "output_type": "display_data"
    }
   ],
   "source": [
    "plt.plot(np.sort(activity_1))\n",
    "plt.plot(np.sort(post_activity_1))"
   ]
  },
  {
   "cell_type": "code",
   "execution_count": 14,
   "metadata": {
    "collapsed": true
   },
   "outputs": [],
   "source": [
    "samples = 50\n",
    "input_1 = -1*np.ones((samples, 2)) + np.random.uniform(size=(samples, 2))*0.1\n",
    "input_2 = np.ones((samples, 2)) + np.random.uniform(size=(samples, 2))*0.1"
   ]
  },
  {
   "cell_type": "code",
   "execution_count": 15,
   "metadata": {
    "collapsed": true
   },
   "outputs": [],
   "source": [
    "_, avg_act_1 = nengo.utils.ensemble.tuning_curves(ens, adj_sim, inputs=input_1)\n",
    "_, avg_act_2 = nengo.utils.ensemble.tuning_curves(ens, adj_sim, inputs=input_2)"
   ]
  },
  {
   "cell_type": "code",
   "execution_count": 16,
   "metadata": {
    "collapsed": true
   },
   "outputs": [],
   "source": [
    "columns = (\"vec\", \"resp\")\n",
    "\n",
    "a1 = avg_act_1.flatten()\n",
    "l1 = [\"v1\"] * len(a1)\n",
    "p1 = pd.DataFrame({\"vec\": l1, \"resp\": list(a1)})\n",
    "\n",
    "\n",
    "a2 = avg_act_2.flatten()\n",
    "l2 = [\"v2\"] * len(a2)\n",
    "p2 = pd.DataFrame({\"vec\": l2, \"resp\": list(a2)})\n",
    "\n",
    "acts = pd.concat((p1, p2))"
   ]
  },
  {
   "cell_type": "code",
   "execution_count": 17,
   "metadata": {},
   "outputs": [
    {
     "data": {
      "text/plain": [
       "<matplotlib.axes._subplots.AxesSubplot at 0x7f07baff0780>"
      ]
     },
     "execution_count": 17,
     "metadata": {},
     "output_type": "execute_result"
    },
    {
     "data": {
      "image/png": "[encoded data removed]",
      "text/plain": [
       "<matplotlib.figure.Figure at 0x7f07bd1d5940>"
      ]
     },
     "metadata": {},
     "output_type": "display_data"
    }
   ],
   "source": [
    "sns.barplot(x=\"vec\", y=\"resp\", data=acts)"
   ]
  },
  {
   "cell_type": "markdown",
   "metadata": {},
   "source": [
    "# Firing Rate Adjustment for vocab"
   ]
  },
  {
   "cell_type": "code",
   "execution_count": 85,
   "metadata": {
    "collapsed": true
   },
   "outputs": [],
   "source": [
    "dimensions = 64\n",
    "n_neurons = 1000\n",
    "seed = 8\n",
    "p_fan = 0.9"
   ]
  },
  {
   "cell_type": "code",
   "execution_count": 86,
   "metadata": {},
   "outputs": [],
   "source": [
    "vocab, fan1, fan1_vecs, fan2, fan2_vecs, foil1, foil1_vecs, foil2, foil2_vecs = make_alt_vocab(11, 11, dimensions, seed, norm=True)"
   ]
  },
  {
   "cell_type": "code",
   "execution_count": 87,
   "metadata": {
    "collapsed": true
   },
   "outputs": [],
   "source": [
    "with nengo.Network() as model:\n",
    "    ens = nengo.Ensemble(n_neurons, dimensions)"
   ]
  },
  {
   "cell_type": "code",
   "execution_count": 88,
   "metadata": {},
   "outputs": [
    {
     "name": "stdout",
     "output_type": "stream",
     "text": [
      "\r",
      "Building finished in 0:00:01.                                                   \n"
     ]
    }
   ],
   "source": [
    "sim = nengo.Simulator(model)"
   ]
  },
  {
   "cell_type": "code",
   "execution_count": 89,
   "metadata": {},
   "outputs": [],
   "source": [
    "_, activity_1 = nengo.utils.ensemble.tuning_curves(ens, sim, inputs=np.array(fan1_vecs))\n",
    "_, activity_2 = nengo.utils.ensemble.tuning_curves(ens, sim, inputs=np.array(fan2_vecs))"
   ]
  },
  {
   "cell_type": "code",
   "execution_count": 68,
   "metadata": {},
   "outputs": [
    {
     "data": {
      "text/plain": [
       "(11, 1000)"
      ]
     },
     "execution_count": 68,
     "metadata": {},
     "output_type": "execute_result"
    }
   ],
   "source": [
    "activity_1.shape"
   ]
  },
  {
   "cell_type": "code",
   "execution_count": 90,
   "metadata": {},
   "outputs": [
    {
     "data": {
      "text/plain": [
       "[<matplotlib.lines.Line2D at 0x7f07b1b12860>]"
      ]
     },
     "execution_count": 90,
     "metadata": {},
     "output_type": "execute_result"
    },
    {
     "data": {
      "image/png": "[encoded data removed]",
      "text/plain": [
       "<matplotlib.figure.Figure at 0x7f07b1effd30>"
      ]
     },
     "metadata": {},
     "output_type": "display_data"
    }
   ],
   "source": [
    "plt.plot(np.sort(np.mean(activity_1, axis=0)))"
   ]
  },
  {
   "cell_type": "code",
   "execution_count": 91,
   "metadata": {},
   "outputs": [
    {
     "data": {
      "text/plain": [
       "[<matplotlib.lines.Line2D at 0x7f07b1afe278>,\n",
       " <matplotlib.lines.Line2D at 0x7f07b1afe400>,\n",
       " <matplotlib.lines.Line2D at 0x7f07b1afe588>,\n",
       " <matplotlib.lines.Line2D at 0x7f07b1afe710>,\n",
       " <matplotlib.lines.Line2D at 0x7f07b1afe898>,\n",
       " <matplotlib.lines.Line2D at 0x7f07b1afea20>,\n",
       " <matplotlib.lines.Line2D at 0x7f07b1ad6908>,\n",
       " <matplotlib.lines.Line2D at 0x7f07b1afecf8>,\n",
       " <matplotlib.lines.Line2D at 0x7f07b1afee80>,\n",
       " <matplotlib.lines.Line2D at 0x7f07b1a83048>,\n",
       " <matplotlib.lines.Line2D at 0x7f07b1a831d0>]"
      ]
     },
     "execution_count": 91,
     "metadata": {},
     "output_type": "execute_result"
    },
    {
     "data": {
      "image/png": "[encoded data removed]",
      "text/plain": [
       "<matplotlib.figure.Figure at 0x7f07b1b92be0>"
      ]
     },
     "metadata": {},
     "output_type": "display_data"
    }
   ],
   "source": [
    "plt.plot(np.sort(activity_1, axis=1).T)"
   ]
  },
  {
   "cell_type": "code",
   "execution_count": 121,
   "metadata": {},
   "outputs": [
    {
     "data": {
      "text/plain": [
       "[<matplotlib.lines.Line2D at 0x7f07b1616710>,\n",
       " <matplotlib.lines.Line2D at 0x7f07b1616898>,\n",
       " <matplotlib.lines.Line2D at 0x7f07b1616a20>,\n",
       " <matplotlib.lines.Line2D at 0x7f07b1616ba8>,\n",
       " <matplotlib.lines.Line2D at 0x7f07b1616d30>,\n",
       " <matplotlib.lines.Line2D at 0x7f07b1616eb8>,\n",
       " <matplotlib.lines.Line2D at 0x7f07b1677828>,\n",
       " <matplotlib.lines.Line2D at 0x7f07b161e1d0>,\n",
       " <matplotlib.lines.Line2D at 0x7f07b161e358>,\n",
       " <matplotlib.lines.Line2D at 0x7f07b161e4e0>,\n",
       " <matplotlib.lines.Line2D at 0x7f07b161e668>]"
      ]
     },
     "execution_count": 121,
     "metadata": {},
     "output_type": "execute_result"
    },
    {
     "data": {
      "image/png": "[encoded data removed]",
      "text/plain": [
       "<matplotlib.figure.Figure at 0x7f07b1704208>"
      ]
     },
     "metadata": {},
     "output_type": "display_data"
    }
   ],
   "source": [
    "plt.plot(np.sort(activity_2, axis=1).T)"
   ]
  },
  {
   "cell_type": "code",
   "execution_count": 94,
   "metadata": {},
   "outputs": [
    {
     "name": "stdout",
     "output_type": "stream",
     "text": [
      "Number of neurons basically firing for both vectors\n",
      "656\n"
     ]
    },
    {
     "data": {
      "text/plain": [
       "[<matplotlib.lines.Line2D at 0x7f07b19bb9e8>]"
      ]
     },
     "execution_count": 94,
     "metadata": {},
     "output_type": "execute_result"
    },
    {
     "data": {
      "image/png": "[encoded data removed]",
      "text/plain": [
       "<matplotlib.figure.Figure at 0x7f07b1e21e10>"
      ]
     },
     "metadata": {},
     "output_type": "display_data"
    }
   ],
   "source": [
    "print(\"Number of neurons basically firing for both vectors\")\n",
    "fire_diff = np.sort(np.abs(np.sum(activity_1, axis=0) - np.sum(activity_2, axis=0)))\n",
    "same_fire = len(fire_diff[fire_diff < 100])\n",
    "print(same_fire)\n",
    "plt.plot(fire_diff)"
   ]
  },
  {
   "cell_type": "code",
   "execution_count": 98,
   "metadata": {},
   "outputs": [
    {
     "name": "stdout",
     "output_type": "stream",
     "text": [
      "(1000,)\n",
      "(1000,)\n"
     ]
    }
   ],
   "source": [
    "built = sim.data[ens]\n",
    "print(built.max_rates.shape)\n",
    "i_fire_diff = np.argsort(np.abs(np.sum(activity_1, axis=0) - np.sum(activity_2, axis=0)))\n",
    "print(mean_act_1.shape)"
   ]
  },
  {
   "cell_type": "code",
   "execution_count": 99,
   "metadata": {},
   "outputs": [],
   "source": [
    "built.max_rates[i_fire_diff[same_fire:]] = built.max_rates[i_fire_diff[same_fire:]] + 100\n",
    "\n",
    "with nengo.Network() as adj_model:\n",
    "    ens = nengo.Ensemble(n_neurons, dimensions,\n",
    "                         encoders=built.encoders,\n",
    "                         eval_points=built.eval_points,\n",
    "                         intercepts=built.intercepts,\n",
    "                         max_rates=built.max_rates)"
   ]
  },
  {
   "cell_type": "code",
   "execution_count": 100,
   "metadata": {},
   "outputs": [
    {
     "name": "stdout",
     "output_type": "stream",
     "text": [
      "\r",
      "Building finished in 0:00:01.                                                   \n"
     ]
    }
   ],
   "source": [
    "adj_sim = nengo.Simulator(adj_model)"
   ]
  },
  {
   "cell_type": "code",
   "execution_count": 118,
   "metadata": {},
   "outputs": [],
   "source": [
    "_, post_activity_1 = nengo.utils.ensemble.tuning_curves(ens, adj_sim, inputs=np.array(fan1_vecs))\n",
    "_, post_activity_2 = nengo.utils.ensemble.tuning_curves(ens, adj_sim, inputs=np.array(fan2_vecs))"
   ]
  },
  {
   "cell_type": "code",
   "execution_count": 119,
   "metadata": {},
   "outputs": [
    {
     "data": {
      "text/plain": [
       "[<matplotlib.lines.Line2D at 0x7f07b16df710>,\n",
       " <matplotlib.lines.Line2D at 0x7f07b16df8d0>,\n",
       " <matplotlib.lines.Line2D at 0x7f07b16dfa58>,\n",
       " <matplotlib.lines.Line2D at 0x7f07b16dfbe0>,\n",
       " <matplotlib.lines.Line2D at 0x7f07b16dfd68>,\n",
       " <matplotlib.lines.Line2D at 0x7f07b16dfef0>,\n",
       " <matplotlib.lines.Line2D at 0x7f07b16e50b8>,\n",
       " <matplotlib.lines.Line2D at 0x7f07b16e5240>,\n",
       " <matplotlib.lines.Line2D at 0x7f07b16e53c8>,\n",
       " <matplotlib.lines.Line2D at 0x7f07b16e5550>,\n",
       " <matplotlib.lines.Line2D at 0x7f07b16e56d8>]"
      ]
     },
     "execution_count": 119,
     "metadata": {},
     "output_type": "execute_result"
    },
    {
     "data": {
      "image/png": "[encoded data removed]",
      "text/plain": [
       "<matplotlib.figure.Figure at 0x7f07b18ef4e0>"
      ]
     },
     "metadata": {},
     "output_type": "display_data"
    }
   ],
   "source": [
    "plt.plot(np.sort(activity_1, axis=1).T, color=\"b\")\n",
    "plt.plot(np.sort(post_activity_1, axis=1).T, color=\"r\")"
   ]
  },
  {
   "cell_type": "code",
   "execution_count": 123,
   "metadata": {},
   "outputs": [
    {
     "data": {
      "text/plain": [
       "[<matplotlib.lines.Line2D at 0x7f07b150cd30>,\n",
       " <matplotlib.lines.Line2D at 0x7f07b150cef0>,\n",
       " <matplotlib.lines.Line2D at 0x7f07b15150b8>,\n",
       " <matplotlib.lines.Line2D at 0x7f07b1515240>,\n",
       " <matplotlib.lines.Line2D at 0x7f07b15153c8>,\n",
       " <matplotlib.lines.Line2D at 0x7f07b1515550>,\n",
       " <matplotlib.lines.Line2D at 0x7f07b15156d8>,\n",
       " <matplotlib.lines.Line2D at 0x7f07b1515860>,\n",
       " <matplotlib.lines.Line2D at 0x7f07b15159e8>,\n",
       " <matplotlib.lines.Line2D at 0x7f07b1515b70>,\n",
       " <matplotlib.lines.Line2D at 0x7f07b1515cf8>]"
      ]
     },
     "execution_count": 123,
     "metadata": {},
     "output_type": "execute_result"
    },
    {
     "data": {
      "image/png": "[encoded data removed]",
      "text/plain": [
       "<matplotlib.figure.Figure at 0x7f07b163a668>"
      ]
     },
     "metadata": {},
     "output_type": "display_data"
    }
   ],
   "source": [
    "plt.plot(np.sort(activity_2, axis=1).T, color=\"b\")\n",
    "plt.plot(np.sort(post_activity_2, axis=1).T, color=\"r\")"
   ]
  },
  {
   "cell_type": "code",
   "execution_count": 122,
   "metadata": {},
   "outputs": [
    {
     "name": "stdout",
     "output_type": "stream",
     "text": [
      "Number of neurons basically firing for both vectors\n",
      "687\n"
     ]
    },
    {
     "data": {
      "text/plain": [
       "[<matplotlib.lines.Line2D at 0x7f07b15925f8>]"
      ]
     },
     "execution_count": 122,
     "metadata": {},
     "output_type": "execute_result"
    },
    {
     "data": {
      "image/png": "[encoded data removed]",
      "text/plain": [
       "<matplotlib.figure.Figure at 0x7f07b187dd68>"
      ]
     },
     "metadata": {},
     "output_type": "display_data"
    }
   ],
   "source": [
    "print(\"Number of neurons basically firing for both vectors\")\n",
    "fire_diff = np.sort(np.abs(np.sum(post_activity_1, axis=0) - np.sum(post_activity_2, axis=0)))\n",
    "same_fire = len(fire_diff[fire_diff < 100])\n",
    "print(same_fire)\n",
    "plt.plot(fire_diff)"
   ]
  },
  {
   "cell_type": "code",
   "execution_count": 124,
   "metadata": {},
   "outputs": [],
   "source": [
    "columns = (\"vec\", \"resp\")\n",
    "\n",
    "a1 = post_activity_1.flatten()\n",
    "l1 = [\"v1\"] * len(a1)\n",
    "p1 = pd.DataFrame({\"vec\": l1, \"resp\": list(a1)})\n",
    "\n",
    "\n",
    "a2 = post_activity_2.flatten()\n",
    "l2 = [\"v2\"] * len(a2)\n",
    "p2 = pd.DataFrame({\"vec\": l2, \"resp\": list(a2)})\n",
    "\n",
    "acts = pd.concat((p1, p2))"
   ]
  },
  {
   "cell_type": "code",
   "execution_count": 125,
   "metadata": {},
   "outputs": [
    {
     "data": {
      "text/plain": [
       "<matplotlib.axes._subplots.AxesSubplot at 0x7f07b14ccbe0>"
      ]
     },
     "execution_count": 125,
     "metadata": {},
     "output_type": "execute_result"
    },
    {
     "data": {
      "image/png": "[encoded data removed]",
      "text/plain": [
       "<matplotlib.figure.Figure at 0x7f07b15510b8>"
      ]
     },
     "metadata": {},
     "output_type": "display_data"
    }
   ],
   "source": [
    "sns.barplot(x=\"vec\", y=\"resp\", data=acts)"
   ]
  }
 ],
 "metadata": {
  "kernelspec": {
   "display_name": "Python 3",
   "language": "python",
   "name": "python3"
  },
  "language_info": {
   "codemirror_mode": {
    "name": "ipython",
    "version": 3
   },
   "file_extension": ".py",
   "mimetype": "text/x-python",
   "name": "python",
   "nbconvert_exporter": "python",
   "pygments_lexer": "ipython3",
   "version": "3.6.1"
  }
 },
 "nbformat": 4,
 "nbformat_minor": 2
}
