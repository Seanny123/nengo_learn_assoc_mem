{
 "cells": [
  {
   "cell_type": "code",
   "execution_count": 10,
   "metadata": {
    "collapsed": true
   },
   "outputs": [],
   "source": [
    "import numpy as np\n",
    "import matplotlib.pyplot as plt\n",
    "%matplotlib inline\n",
    "\n",
    "import nengo\n",
    "import nengo_spa as spa"
   ]
  },
  {
   "cell_type": "code",
   "execution_count": 2,
   "metadata": {
    "collapsed": true
   },
   "outputs": [],
   "source": [
    "dim = 32\n",
    "vocab = spa.Vocabulary(dimensions=dim)\n",
    "\n",
    "words = ['AA', 'BB', 'CC', 'DD']\n",
    "\n",
    "for word in words:\n",
    "    vocab.populate(word)"
   ]
  },
  {
   "cell_type": "code",
   "execution_count": 21,
   "metadata": {},
   "outputs": [
    {
     "name": "stdout",
     "output_type": "stream",
     "text": [
      "Building finished in 0:00:01.                                                                                  \n",
      "Simulating finished in 0:00:01.                                                                                \n"
     ]
    }
   ],
   "source": [
    "with spa.Network('AssociativeMemory', seed=0) as model_1:\n",
    "    # create the AM module\n",
    "    model_1.assoc_mem = spa.WTAAssocMem(threshold=0.3, input_vocab=vocab,\n",
    "                                                 mapping={'AA': 'BB', 'BB': 'CC', 'CC': 'DD', 'DD': 'AA',\n",
    "                                                          'BB': 'AA', 'CC': 'BB', 'DD': 'CC', 'AA': 'DD'})\n",
    "\n",
    "    # present input to the AM\n",
    "    spa.Actions('AA -> model_1.assoc_mem')\n",
    "\n",
    "    # record the inputs and outputs during the simulation\n",
    "    input_probe = nengo.Probe(model_1.assoc_mem.input)\n",
    "    output_probe = nengo.Probe(model_1.assoc_mem.output, synapse=0.03)\n",
    "\n",
    "with nengo.Simulator(model_1) as sim:\n",
    "    sim.run(0.2)"
   ]
  },
  {
   "cell_type": "code",
   "execution_count": 22,
   "metadata": {
    "collapsed": true
   },
   "outputs": [],
   "source": [
    "t = sim.trange()"
   ]
  },
  {
   "cell_type": "code",
   "execution_count": 19,
   "metadata": {
    "collapsed": true
   },
   "outputs": [],
   "source": [
    "def plot_similarities(input_data, output_data, vocab1, vocab2=None, autoscale=False):\n",
    "    if vocab2 is None:\n",
    "        vocab2 = vocab1\n",
    "    \n",
    "    ymin, ymax = -1.2, 1.2    \n",
    "    plt.figure(figsize=(12, 4))\n",
    "    plt.subplot(1, 2, 1)\n",
    "    plt.ylim(ymin, ymax)\n",
    "    if autoscale:\n",
    "        plt.autoscale(autoscale, axis='y')\n",
    "    plt.grid(True)\n",
    "    plt.plot(t, spa.similarity(input_data, vocab1))\n",
    "    plt.title(\"Input similarity\")\n",
    "    plt.xlabel(\"Time\")\n",
    "    plt.xlim(right=t[-1])\n",
    "    plt.legend(vocab1.keys(), loc='upper center',\n",
    "               bbox_to_anchor=(0.5, -0.13), ncol=3)\n",
    "    \n",
    "    plt.subplot(1, 2, 2)\n",
    "    plt.plot(t, spa.similarity(output_data, vocab2))\n",
    "    plt.title(\"Output similarity\")\n",
    "    plt.xlabel(\"Time\")\n",
    "    plt.xlim(right=t[-1])\n",
    "    plt.ylim(ymin, ymax)\n",
    "    if autoscale:\n",
    "        plt.autoscale(autoscale, axis='y')\n",
    "    plt.grid(True)\n",
    "    plt.legend(vocab2.keys(), loc='upper center',\n",
    "               bbox_to_anchor=(0.5, -0.13), ncol=3)\n",
    "    plt.tight_layout()"
   ]
  },
  {
   "cell_type": "code",
   "execution_count": 23,
   "metadata": {},
   "outputs": [
    {
     "data": {
      "image/png": "[encoded data removed]",
      "text/plain": [
       "<matplotlib.figure.Figure at 0x7fdc5724f320>"
      ]
     },
     "metadata": {},
     "output_type": "display_data"
    }
   ],
   "source": [
    "input_data = sim.data[input_probe]\n",
    "output_data = sim.data[output_probe]\n",
    "plot_similarities(input_data, output_data, vocab)"
   ]
  },
  {
   "cell_type": "code",
   "execution_count": null,
   "metadata": {
    "collapsed": true
   },
   "outputs": [],
   "source": []
  }
 ],
 "metadata": {
  "kernelspec": {
   "display_name": "Python 3",
   "language": "python",
   "name": "python3"
  },
  "language_info": {
   "codemirror_mode": {
    "name": "ipython",
    "version": 3
   },
   "file_extension": ".py",
   "mimetype": "text/x-python",
   "name": "python",
   "nbconvert_exporter": "python",
   "pygments_lexer": "ipython3",
   "version": "3.6.1"
  }
 },
 "nbformat": 4,
 "nbformat_minor": 2
}
