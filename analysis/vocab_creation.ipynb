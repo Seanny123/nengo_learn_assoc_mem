{
 "cells": [
  {
   "cell_type": "code",
   "execution_count": 27,
   "metadata": {
    "collapsed": true
   },
   "outputs": [],
   "source": [
    "import numpy as np"
   ]
  },
  {
   "cell_type": "code",
   "execution_count": 52,
   "metadata": {
    "collapsed": true
   },
   "outputs": [],
   "source": [
    "n_items = 5\n",
    "\n",
    "all_f1 = ['F1_%d' % i for i in range(2 * n_items)]\n",
    "\n",
    "fan1 = [(f1, f2) for  f1, f2 in zip(all_f1[::2], all_f1[1::2])]\n",
    "half_way = len(all_f1) // 2\n",
    "foil1 = [(f1, f2) for f1, f2 in zip(all_f1[:half_way], all_f1[half_way:])]"
   ]
  },
  {
   "cell_type": "code",
   "execution_count": 53,
   "metadata": {},
   "outputs": [
    {
     "data": {
      "text/plain": [
       "[('F1_0', 'F1_1'),\n",
       " ('F1_2', 'F1_3'),\n",
       " ('F1_4', 'F1_5'),\n",
       " ('F1_6', 'F1_7'),\n",
       " ('F1_8', 'F1_9')]"
      ]
     },
     "execution_count": 53,
     "metadata": {},
     "output_type": "execute_result"
    }
   ],
   "source": [
    "fan1"
   ]
  },
  {
   "cell_type": "code",
   "execution_count": 54,
   "metadata": {},
   "outputs": [
    {
     "data": {
      "text/plain": [
       "[('F1_0', 'F1_5'),\n",
       " ('F1_1', 'F1_6'),\n",
       " ('F1_2', 'F1_7'),\n",
       " ('F1_3', 'F1_8'),\n",
       " ('F1_4', 'F1_9')]"
      ]
     },
     "execution_count": 54,
     "metadata": {},
     "output_type": "execute_result"
    }
   ],
   "source": [
    "foil1"
   ]
  },
  {
   "cell_type": "code",
   "execution_count": 125,
   "metadata": {
    "collapsed": true
   },
   "outputs": [],
   "source": [
    "n_items = 10\n",
    "all_f2 = ['F2_%d' % i for i in range(4 * n_items // 5)]"
   ]
  },
  {
   "cell_type": "code",
   "execution_count": 126,
   "metadata": {},
   "outputs": [
    {
     "data": {
      "text/plain": [
       "['F2_0', 'F2_1', 'F2_2', 'F2_3', 'F2_4', 'F2_5', 'F2_6', 'F2_7']"
      ]
     },
     "execution_count": 126,
     "metadata": {},
     "output_type": "execute_result"
    }
   ],
   "source": [
    "all_f2"
   ]
  },
  {
   "cell_type": "code",
   "execution_count": 127,
   "metadata": {
    "collapsed": true
   },
   "outputs": [],
   "source": [
    "fan2 = []\n",
    "foil2 = []\n",
    "\n",
    "for fb1, fb2, f2, f3 in zip(all_f2[::4], all_f2[3::4], all_f2[1::4], all_f2[2::4]):\n",
    "    fan2.append((fb1, f2))\n",
    "    fan2.append((fb1, f3))\n",
    "    fan2.append((fb2, f2))\n",
    "    fan2.append((fb2, f3))\n",
    "    \n",
    "    foil2.append((fb1, fb2))\n",
    "    foil2.append((f2, f3))"
   ]
  },
  {
   "cell_type": "code",
   "execution_count": 128,
   "metadata": {},
   "outputs": [
    {
     "data": {
      "text/plain": [
       "[('F2_0', 'F2_1'),\n",
       " ('F2_0', 'F2_2'),\n",
       " ('F2_3', 'F2_1'),\n",
       " ('F2_3', 'F2_2'),\n",
       " ('F2_4', 'F2_5'),\n",
       " ('F2_4', 'F2_6'),\n",
       " ('F2_7', 'F2_5'),\n",
       " ('F2_7', 'F2_6')]"
      ]
     },
     "execution_count": 128,
     "metadata": {},
     "output_type": "execute_result"
    }
   ],
   "source": [
    "fan2"
   ]
  },
  {
   "cell_type": "code",
   "execution_count": 129,
   "metadata": {
    "collapsed": true
   },
   "outputs": [],
   "source": [
    "num_set = range(4)\n",
    "res = []\n",
    "for n1, n2, n3, n4 in zip(num_set[::4], num_set[3::4], num_set[1::4], num_set[2::4]):\n",
    "    res.append((n1, n3))\n",
    "    res.append((n1, n4))\n",
    "    res.append((n2, n3))\n",
    "    res.append((n2, n4))"
   ]
  },
  {
   "cell_type": "code",
   "execution_count": 121,
   "metadata": {},
   "outputs": [
    {
     "data": {
      "text/plain": [
       "[(0, 1), (0, 2), (3, 1), (3, 2)]"
      ]
     },
     "execution_count": 121,
     "metadata": {},
     "output_type": "execute_result"
    }
   ],
   "source": [
    "res"
   ]
  },
  {
   "cell_type": "code",
   "execution_count": 122,
   "metadata": {
    "collapsed": true
   },
   "outputs": [],
   "source": [
    "import itertools"
   ]
  },
  {
   "cell_type": "code",
   "execution_count": 124,
   "metadata": {},
   "outputs": [
    {
     "data": {
      "text/plain": [
       "[(0, 1), (0, 2), (0, 3), (1, 2), (1, 3), (2, 3)]"
      ]
     },
     "execution_count": 124,
     "metadata": {},
     "output_type": "execute_result"
    }
   ],
   "source": [
    "list(itertools.combinations(range(4), 2))"
   ]
  },
  {
   "cell_type": "code",
   "execution_count": 145,
   "metadata": {
    "collapsed": true
   },
   "outputs": [],
   "source": [
    "def select(lst: List, index1: int ,index2: int):\n",
    "  return (lst[index1], lst[index2])\n",
    "\n",
    "def select_unordered_pairs_from_list(lst):\n",
    "  out = []\n",
    "  out.append(select(lst,0,1))\n",
    "  out.append(select(lst,0,2))\n",
    "  i = 1\n",
    "\n",
    "  while i+2 < len(lst):\n",
    "    out.append(select(lst,i,i+2))\n",
    "    i += 1\n",
    "\n",
    "  print(out)\n",
    "  j = len(lst)\n",
    "  out.append(select(lst,j-3,j-1))\n",
    "  out.append(select(lst,j-2,j-1))"
   ]
  },
  {
   "cell_type": "code",
   "execution_count": 146,
   "metadata": {},
   "outputs": [
    {
     "name": "stdout",
     "output_type": "stream",
     "text": [
      "[(0, 1), (0, 2), (1, 3)]\n"
     ]
    }
   ],
   "source": [
    "select_unordered_pairs_from_list(range(4))"
   ]
  },
  {
   "cell_type": "code",
   "execution_count": 47,
   "metadata": {},
   "outputs": [
    {
     "name": "stdout",
     "output_type": "stream",
     "text": [
      "pick from {0, 1, 2, 3, 4, 5, 6}\n",
      "pick from {0, 2, 3, 4, 5, 6}\n",
      "(1, 0)\n",
      "\n",
      "pick from {0, 1, 2, 3, 4, 5, 6}\n",
      "a 1 was picked twice!\n",
      "{1}\n",
      "pick from {2, 3, 4, 5, 6}\n",
      "(1, 6)\n",
      "\n",
      "pick from {0, 2, 3, 4, 5, 6}\n",
      "pick from {0, 2, 3, 5, 6}\n",
      "(4, 5)\n",
      "\n",
      "pick from {0, 2, 3, 4, 5, 6}\n",
      "a 6 was picked twice!\n",
      "{1, 6}\n",
      "pick from {0, 2, 3, 4, 5}\n",
      "(6, 2)\n",
      "\n",
      "pick from {0, 2, 3, 4, 5}\n",
      "a 0 was picked twice!\n",
      "{0, 1, 6}\n",
      "pick from {2, 3, 4, 5}\n",
      "b 2 was picked twice!\n",
      "{0, 1, 2, 6}\n",
      "(0, 2)\n",
      "\n",
      "pick from {3, 4, 5}\n",
      "a 5 was picked twice!\n",
      "{0, 1, 2, 5, 6}\n",
      "pick from {3}\n",
      "(5, 3)\n",
      "\n",
      "pick from {3, 4}\n",
      "a 4 was picked twice!\n",
      "{0, 1, 2, 4, 5, 6}\n",
      "pick from {3}\n",
      "b 3 was picked twice!\n",
      "{0, 1, 2, 3, 4, 5, 6}\n",
      "(4, 3)\n",
      "\n",
      "[(1, 0), (1, 6), (4, 5), (6, 2), (0, 2), (5, 3), (4, 3)]\n"
     ]
    }
   ],
   "source": [
    "import random\n",
    "\n",
    "n_items = 7\n",
    "pick_lim = 2\n",
    "\n",
    "nums = list(range(n_items))\n",
    "indices = set(range(len(nums)))\n",
    "\n",
    "picked = list(np.zeros(len(nums), dtype=int))\n",
    "picked_lim = set()\n",
    "picked_pairs = {n: set() for n in range(len(nums))}\n",
    "res = []\n",
    "alt_res\n",
    "\n",
    "for n in range(n_items):\n",
    "    a_pick = indices - picked_lim\n",
    "    print(f\"pick from {a_pick}\")\n",
    "    if len(a_pick) == 0:\n",
    "        break\n",
    "    a_idx = random.sample(a_pick, 1)[0]\n",
    "\n",
    "    picked[a_idx] += 1\n",
    "    if picked[a_idx] == pick_lim:\n",
    "        print(f\"a {a_idx} was picked twice!\")\n",
    "        picked_lim.add(a_idx)\n",
    "        print(picked_lim)\n",
    "\n",
    "    b_pick = indices - {a_idx} - picked_lim - picked_pairs[a_idx]\n",
    "    if len(b_pick) == 0:\n",
    "        break\n",
    "    print(f\"pick from {b_pick}\")\n",
    "    b_idx = random.sample(b_pick, 1)[0]\n",
    "\n",
    "    picked[b_idx] += 1\n",
    "    if picked[b_idx] == pick_lim:\n",
    "        print(f\"b {b_idx} was picked twice!\")\n",
    "        picked_lim.add(b_idx)\n",
    "        print(picked_lim)\n",
    "\n",
    "    picked_pairs[a_idx].add(b_idx)\n",
    "    picked_pairs[b_idx].add(a_idx)\n",
    "\n",
    "    res.append((nums[a_idx], nums[b_idx]))\n",
    "    print(f\"{res[-1]}\\n\")\n",
    "\n",
    "print(res)"
   ]
  },
  {
   "cell_type": "code",
   "execution_count": 51,
   "metadata": {},
   "outputs": [
    {
     "name": "stdout",
     "output_type": "stream",
     "text": [
      "[(0, 6), (1, 4), (2, 5), (3, 6), (4, 1), (5, 2), (6, 3)]\n"
     ]
    }
   ],
   "source": [
    "picked_pairs\n",
    "\n",
    "alt_res = []\n",
    "\n",
    "for key, val in picked_pairs.items():\n",
    "\n",
    "    foil_pick = random.sample(indices - val - {key}, 1)[0]\n",
    "    alt_res.append((key, foil_pick))\n",
    "\n",
    "print(alt_res)"
   ]
  },
  {
   "cell_type": "code",
   "execution_count": null,
   "metadata": {
    "collapsed": true
   },
   "outputs": [],
   "source": []
  }
 ],
 "metadata": {
  "kernelspec": {
   "display_name": "Python 3",
   "language": "python",
   "name": "python3"
  },
  "language_info": {
   "codemirror_mode": {
    "name": "ipython",
    "version": 3
   },
   "file_extension": ".py",
   "mimetype": "text/x-python",
   "name": "python",
   "nbconvert_exporter": "python",
   "pygments_lexer": "ipython3",
   "version": "3.6.1"
  }
 },
 "nbformat": 4,
 "nbformat_minor": 2
}
