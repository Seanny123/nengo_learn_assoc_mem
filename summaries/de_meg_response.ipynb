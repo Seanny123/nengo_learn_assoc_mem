{
 "cells": [
  {
   "cell_type": "code",
   "execution_count": 1,
   "metadata": {
    "collapsed": true
   },
   "outputs": [],
   "source": [
    "import numpy as np\n",
    "import matplotlib.pyplot as plt\n",
    "import pandas as pd\n",
    "import seaborn as sns\n",
    "%matplotlib inline\n",
    "\n",
    "import nengo\n",
    "import nengo_spa as spa\n",
    "\n",
    "from nengo_learn_assoc_mem.utils import make_alt_vocab"
   ]
  },
  {
   "cell_type": "code",
   "execution_count": 2,
   "metadata": {
    "collapsed": true
   },
   "outputs": [],
   "source": [
    "from collections import namedtuple"
   ]
  },
  {
   "cell_type": "code",
   "execution_count": 3,
   "metadata": {
    "collapsed": true
   },
   "outputs": [],
   "source": [
    "def choose_encoders(n_neurons: int, dimensions: int, encoder_proportion: float, mean_fan1, mean_fan2):\n",
    "    encoders = np.zeros((n_neurons, dimensions))\n",
    "\n",
    "    fan1_end = int(n_neurons * encoder_proportion)\n",
    "\n",
    "    for n_i in range(fan1_end):\n",
    "        encoders[n_i] = mean_fan1 + np.random.normal(size=dimensions)*0.1\n",
    "\n",
    "    for n_i in range(fan1_end, n_neurons):\n",
    "        encoders[n_i] = mean_fan2 + np.random.normal(size=dimensions)*0.1\n",
    "    \n",
    "    return encoders"
   ]
  },
  {
   "cell_type": "code",
   "execution_count": 10,
   "metadata": {
    "collapsed": true
   },
   "outputs": [],
   "source": [
    "dimensions = 32\n",
    "n_neurons = 1000\n",
    "seed = 8\n",
    "p_fan = 0.85\n",
    "\n",
    "Stim = namedtuple(\"Stim\", ['fan_num', 'targ', 'vecs'])"
   ]
  },
  {
   "cell_type": "code",
   "execution_count": 11,
   "metadata": {
    "collapsed": true
   },
   "outputs": [],
   "source": [
    "vocab, fan1, fan1_pair_vecs, fan2, fan2_pair_vecs, foil1, foil1_pair_vecs, foil2, foil2_pair_vecs = make_alt_vocab(16, 16, dimensions, seed, norm=True)\n",
    "mean_fan1 = np.mean(fan1_pair_vecs, axis=0)\n",
    "mean_fan2 = np.mean(fan2_pair_vecs, axis=0)\n",
    "\n",
    "stim_vecs = {\"fan1\": Stim(1, True, np.array(fan1_pair_vecs)),\n",
    "             \"fan2\": Stim(2, True, np.array(fan2_pair_vecs)),\n",
    "             \"foil1\": Stim(1, False, np.array(foil1_pair_vecs)),\n",
    "             \"foil2\": Stim(2, False, np.array(foil2_pair_vecs))}"
   ]
  },
  {
   "cell_type": "code",
   "execution_count": 12,
   "metadata": {
    "collapsed": true
   },
   "outputs": [],
   "source": [
    "encoders = choose_encoders(n_neurons, dimensions, p_fan, mean_fan1, mean_fan2)"
   ]
  },
  {
   "cell_type": "markdown",
   "metadata": {},
   "source": [
    "# Show the general trend"
   ]
  },
  {
   "cell_type": "code",
   "execution_count": 13,
   "metadata": {},
   "outputs": [
    {
     "name": "stdout",
     "output_type": "stream",
     "text": [
      "Building finished in 0:00:01.                                                                                \n"
     ]
    }
   ],
   "source": [
    "with nengo.Network() as model:\n",
    "    ens = nengo.Ensemble(n_neurons, dimensions, encoders=encoders)\n",
    "sim = nengo.Simulator(model)"
   ]
  },
  {
   "cell_type": "code",
   "execution_count": 14,
   "metadata": {
    "collapsed": true
   },
   "outputs": [],
   "source": [
    "df_list = []\n",
    "\n",
    "for key, obj in stim_vecs.items():\n",
    "    _, act = nengo.utils.ensemble.tuning_curves(ens, sim, inputs=obj.vecs)\n",
    "\n",
    "    flat_act = list(act.flatten())\n",
    "    resp = [obj.fan_num] * len(flat_act)\n",
    "    targ = [obj.targ] * len(flat_act)\n",
    "    df_list.append(pd.DataFrame({\"act\": flat_act, \"resp\": resp, \"targ\": targ}))\n",
    "\n",
    "act_df = pd.concat(df_list)"
   ]
  },
  {
   "cell_type": "code",
   "execution_count": 15,
   "metadata": {},
   "outputs": [
    {
     "data": {
      "image/png": "[encoded data removed]",
      "text/plain": [
       "<matplotlib.figure.Figure at 0x1cfc48cf6a0>"
      ]
     },
     "metadata": {},
     "output_type": "display_data"
    }
   ],
   "source": [
    "ax = sns.barplot(x=\"resp\", y=\"act\", hue=\"targ\", data=act_df)\n",
    "ax.set_ylim((60, 110))\n",
    "\n",
    "ax.set_title(\"Difference between FAN1 and FAN2 firing rates\")\n",
    "ax.set_ylabel(\"Mean Firing Rate\")\n",
    "ax.set_xlabel(\"FAN type\")\n",
    "\n",
    "ax.legend_.set_title(\"Target vs. Foil\")\n",
    "new_labels = (\"Foil\", \"Target\")\n",
    "for t, l in zip(ax.legend_.texts, new_labels): t.set_text(l)"
   ]
  }
 ],
 "metadata": {
  "kernelspec": {
   "display_name": "Python 3",
   "language": "python",
   "name": "python3"
  },
  "language_info": {
   "codemirror_mode": {
    "name": "ipython",
    "version": 3
   },
   "file_extension": ".py",
   "mimetype": "text/x-python",
   "name": "python",
   "nbconvert_exporter": "python",
   "pygments_lexer": "ipython3",
   "version": "3.6.3"
  }
 },
 "nbformat": 4,
 "nbformat_minor": 2
}
