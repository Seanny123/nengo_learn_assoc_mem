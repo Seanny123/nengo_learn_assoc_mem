{
 "cells": [
  {
   "cell_type": "code",
   "execution_count": 73,
   "metadata": {},
   "outputs": [],
   "source": [
    "import matplotlib.pyplot as plt\n",
    "import seaborn as sns\n",
    "%matplotlib inline\n",
    "\n",
    "import pandas as pd\n",
    "import numpy as np"
   ]
  },
  {
   "cell_type": "code",
   "execution_count": 74,
   "metadata": {},
   "outputs": [],
   "source": [
    "af = pd.read_csv(\"data/dat_MEG_clean.txt\", sep=\" \")"
   ]
  },
  {
   "cell_type": "code",
   "execution_count": 75,
   "metadata": {},
   "outputs": [
    {
     "data": {
      "text/html": [
       "<div>\n",
       "<style scoped>\n",
       "    .dataframe tbody tr th:only-of-type {\n",
       "        vertical-align: middle;\n",
       "    }\n",
       "\n",
       "    .dataframe tbody tr th {\n",
       "        vertical-align: top;\n",
       "    }\n",
       "\n",
       "    .dataframe thead th {\n",
       "        text-align: right;\n",
       "    }\n",
       "</style>\n",
       "<table border=\"1\" class=\"dataframe\">\n",
       "  <thead>\n",
       "    <tr style=\"text-align: right;\">\n",
       "      <th></th>\n",
       "      <th>Subject</th>\n",
       "      <th>Block</th>\n",
       "      <th>hand</th>\n",
       "      <th>Trial</th>\n",
       "      <th>Fan</th>\n",
       "      <th>Length</th>\n",
       "      <th>PairType</th>\n",
       "      <th>acc</th>\n",
       "      <th>RT</th>\n",
       "    </tr>\n",
       "  </thead>\n",
       "  <tbody>\n",
       "    <tr>\n",
       "      <th>0</th>\n",
       "      <td>5</td>\n",
       "      <td>1</td>\n",
       "      <td>RIGHT</td>\n",
       "      <td>2</td>\n",
       "      <td>1</td>\n",
       "      <td>Short</td>\n",
       "      <td>RPFoil</td>\n",
       "      <td>1</td>\n",
       "      <td>2214</td>\n",
       "    </tr>\n",
       "    <tr>\n",
       "      <th>1</th>\n",
       "      <td>5</td>\n",
       "      <td>1</td>\n",
       "      <td>RIGHT</td>\n",
       "      <td>3</td>\n",
       "      <td>1</td>\n",
       "      <td>Short</td>\n",
       "      <td>Target</td>\n",
       "      <td>1</td>\n",
       "      <td>1036</td>\n",
       "    </tr>\n",
       "    <tr>\n",
       "      <th>2</th>\n",
       "      <td>5</td>\n",
       "      <td>1</td>\n",
       "      <td>RIGHT</td>\n",
       "      <td>4</td>\n",
       "      <td>2</td>\n",
       "      <td>Short</td>\n",
       "      <td>RPFoil</td>\n",
       "      <td>0</td>\n",
       "      <td>1170</td>\n",
       "    </tr>\n",
       "    <tr>\n",
       "      <th>3</th>\n",
       "      <td>5</td>\n",
       "      <td>1</td>\n",
       "      <td>RIGHT</td>\n",
       "      <td>5</td>\n",
       "      <td>1</td>\n",
       "      <td>Short</td>\n",
       "      <td>RPFoil</td>\n",
       "      <td>1</td>\n",
       "      <td>1093</td>\n",
       "    </tr>\n",
       "    <tr>\n",
       "      <th>4</th>\n",
       "      <td>5</td>\n",
       "      <td>1</td>\n",
       "      <td>RIGHT</td>\n",
       "      <td>6</td>\n",
       "      <td>2</td>\n",
       "      <td>Long</td>\n",
       "      <td>RPFoil</td>\n",
       "      <td>1</td>\n",
       "      <td>2139</td>\n",
       "    </tr>\n",
       "  </tbody>\n",
       "</table>\n",
       "</div>"
      ],
      "text/plain": [
       "   Subject  Block   hand  Trial  Fan Length PairType  acc    RT\n",
       "0        5      1  RIGHT      2    1  Short   RPFoil    1  2214\n",
       "1        5      1  RIGHT      3    1  Short   Target    1  1036\n",
       "2        5      1  RIGHT      4    2  Short   RPFoil    0  1170\n",
       "3        5      1  RIGHT      5    1  Short   RPFoil    1  1093\n",
       "4        5      1  RIGHT      6    2   Long   RPFoil    1  2139"
      ]
     },
     "execution_count": 75,
     "metadata": {},
     "output_type": "execute_result"
    }
   ],
   "source": [
    "af.head()"
   ]
  },
  {
   "cell_type": "code",
   "execution_count": 82,
   "metadata": {},
   "outputs": [
    {
     "data": {
      "text/plain": [
       "Text(0.5,1,'Mean Reaction Time')"
      ]
     },
     "execution_count": 82,
     "metadata": {},
     "output_type": "execute_result"
    },
    {
     "data": {
      "image/png": "[encoded data removed]",
      "text/plain": [
       "<matplotlib.figure.Figure at 0x7f6bec8326d8>"
      ]
     },
     "metadata": {},
     "output_type": "display_data"
    }
   ],
   "source": [
    "ax = sns.barplot(x=\"PairType\", y=\"RT\", hue=\"Fan\", data=af)\n",
    "ax.set_title(\"Mean Reaction Time\")"
   ]
  },
  {
   "cell_type": "code",
   "execution_count": 87,
   "metadata": {},
   "outputs": [
    {
     "name": "stdout",
     "output_type": "stream",
     "text": [
      "F1 targ 1097.3787763391724\n",
      "F1 foil 1248.414038657172\n",
      "F2 targ 1495.576923076923\n",
      "F2 foil 1727.8043972706596\n"
     ]
    }
   ],
   "source": [
    "fan1 = af[(af.PairType == \"Target\") & (af.Fan == 1)].RT.mean()\n",
    "print(\"F1 targ\", fan1)\n",
    "foil1 = af[(af.PairType == \"RPFoil\") & (af.Fan == 1)].RT.mean()\n",
    "print(\"F1 foil\", foil1)\n",
    "fan2 = af[(af.PairType == \"Target\") & (af.Fan == 2)].RT.mean()\n",
    "print(\"F2 targ\", fan2)\n",
    "foil2 = af[(af.PairType == \"RPFoil\") & (af.Fan == 2)].RT.mean()\n",
    "print(\"F2 foil\", foil2)"
   ]
  },
  {
   "cell_type": "code",
   "execution_count": 48,
   "metadata": {},
   "outputs": [],
   "source": [
    "res = af[\"acc\"].groupby([af[\"Subject\"], af[\"Fan\"], af[\"PairType\"]]).apply(lambda g: g.sum()/g.count())"
   ]
  },
  {
   "cell_type": "code",
   "execution_count": 63,
   "metadata": {},
   "outputs": [
    {
     "data": {
      "text/html": [
       "<div>\n",
       "<style scoped>\n",
       "    .dataframe tbody tr th:only-of-type {\n",
       "        vertical-align: middle;\n",
       "    }\n",
       "\n",
       "    .dataframe tbody tr th {\n",
       "        vertical-align: top;\n",
       "    }\n",
       "\n",
       "    .dataframe thead th {\n",
       "        text-align: right;\n",
       "    }\n",
       "</style>\n",
       "<table border=\"1\" class=\"dataframe\">\n",
       "  <thead>\n",
       "    <tr style=\"text-align: right;\">\n",
       "      <th></th>\n",
       "      <th>Subject</th>\n",
       "      <th>Fan</th>\n",
       "      <th>PairType</th>\n",
       "      <th>acc</th>\n",
       "      <th>err</th>\n",
       "    </tr>\n",
       "  </thead>\n",
       "  <tbody>\n",
       "    <tr>\n",
       "      <th>0</th>\n",
       "      <td>5</td>\n",
       "      <td>1</td>\n",
       "      <td>RPFoil</td>\n",
       "      <td>0.954751</td>\n",
       "      <td>0.045249</td>\n",
       "    </tr>\n",
       "    <tr>\n",
       "      <th>1</th>\n",
       "      <td>5</td>\n",
       "      <td>1</td>\n",
       "      <td>Target</td>\n",
       "      <td>0.972603</td>\n",
       "      <td>0.027397</td>\n",
       "    </tr>\n",
       "    <tr>\n",
       "      <th>2</th>\n",
       "      <td>5</td>\n",
       "      <td>2</td>\n",
       "      <td>RPFoil</td>\n",
       "      <td>0.818182</td>\n",
       "      <td>0.181818</td>\n",
       "    </tr>\n",
       "    <tr>\n",
       "      <th>3</th>\n",
       "      <td>5</td>\n",
       "      <td>2</td>\n",
       "      <td>Target</td>\n",
       "      <td>0.876147</td>\n",
       "      <td>0.123853</td>\n",
       "    </tr>\n",
       "    <tr>\n",
       "      <th>4</th>\n",
       "      <td>9</td>\n",
       "      <td>1</td>\n",
       "      <td>RPFoil</td>\n",
       "      <td>0.990909</td>\n",
       "      <td>0.009091</td>\n",
       "    </tr>\n",
       "  </tbody>\n",
       "</table>\n",
       "</div>"
      ],
      "text/plain": [
       "   Subject  Fan PairType       acc       err\n",
       "0        5    1   RPFoil  0.954751  0.045249\n",
       "1        5    1   Target  0.972603  0.027397\n",
       "2        5    2   RPFoil  0.818182  0.181818\n",
       "3        5    2   Target  0.876147  0.123853\n",
       "4        9    1   RPFoil  0.990909  0.009091"
      ]
     },
     "execution_count": 63,
     "metadata": {},
     "output_type": "execute_result"
    }
   ],
   "source": [
    "df = pd.DataFrame(res)\n",
    "df.reset_index(inplace=True)\n",
    "df['err'] = 1.0-df['acc']\n",
    "df.head()"
   ]
  },
  {
   "cell_type": "code",
   "execution_count": 84,
   "metadata": {},
   "outputs": [
    {
     "data": {
      "text/plain": [
       "Text(0.5,1,'Mean per-Subject Error Rate')"
      ]
     },
     "execution_count": 84,
     "metadata": {},
     "output_type": "execute_result"
    },
    {
     "data": {
      "image/png": "[encoded data removed]",
      "text/plain": [
       "<matplotlib.figure.Figure at 0x7f6bb2be1198>"
      ]
     },
     "metadata": {},
     "output_type": "display_data"
    }
   ],
   "source": [
    "ax = sns.barplot(x=\"PairType\", y=\"err\", hue=\"Fan\", data=df, estimator=np.mean)\n",
    "ax.set_title(\"Mean per-Subject Error Rate\")"
   ]
  },
  {
   "cell_type": "code",
   "execution_count": 85,
   "metadata": {},
   "outputs": [
    {
     "data": {
      "text/plain": [
       "Text(0.5,1,'Standard Deviation of per Subject Error Rate')"
      ]
     },
     "execution_count": 85,
     "metadata": {},
     "output_type": "execute_result"
    },
    {
     "data": {
      "image/png": "[encoded data removed]",
      "text/plain": [
       "<matplotlib.figure.Figure at 0x7f6bb2bb7898>"
      ]
     },
     "metadata": {},
     "output_type": "display_data"
    }
   ],
   "source": [
    "ax = sns.barplot(x=\"PairType\", y=\"err\", hue=\"Fan\", data=df, estimator=np.std)\n",
    "ax.set_title(\"Standard Deviation of per Subject Error Rate\")"
   ]
  },
  {
   "cell_type": "code",
   "execution_count": 88,
   "metadata": {},
   "outputs": [
    {
     "name": "stdout",
     "output_type": "stream",
     "text": [
      "F1 targ 0.019303038499776937\n",
      "F1 foil 0.032392073952893875\n",
      "F2 targ 0.08077027674108023\n",
      "F2 foil 0.09239550398970675\n"
     ]
    }
   ],
   "source": [
    "fan1 = df[(df.PairType == \"Target\") & (df.Fan == 1)].err.mean()\n",
    "print(\"F1 targ\", fan1)\n",
    "foil1 = df[(df.PairType == \"RPFoil\") & (df.Fan == 1)].err.mean()\n",
    "print(\"F1 foil\", foil1)\n",
    "fan2 = df[(df.PairType == \"Target\") & (df.Fan == 2)].err.mean()\n",
    "print(\"F2 targ\", fan2)\n",
    "foil2 = df[(df.PairType == \"RPFoil\") & (df.Fan == 2)].err.mean()\n",
    "print(\"F2 foil\", foil2)"
   ]
  },
  {
   "cell_type": "code",
   "execution_count": null,
   "metadata": {},
   "outputs": [],
   "source": []
  }
 ],
 "metadata": {
  "kernelspec": {
   "display_name": "Python 3",
   "language": "python",
   "name": "python3"
  },
  "language_info": {
   "codemirror_mode": {
    "name": "ipython",
    "version": 3
   },
   "file_extension": ".py",
   "mimetype": "text/x-python",
   "name": "python",
   "nbconvert_exporter": "python",
   "pygments_lexer": "ipython3",
   "version": "3.6.1"
  }
 },
 "nbformat": 4,
 "nbformat_minor": 2
}
