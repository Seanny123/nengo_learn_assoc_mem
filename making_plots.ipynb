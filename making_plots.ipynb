{
 "cells": [
  {
   "cell_type": "code",
   "execution_count": 1,
   "metadata": {},
   "outputs": [],
   "source": [
    "import matplotlib.pyplot as plt\n",
    "import seaborn as sns\n",
    "%matplotlib inline\n",
    "\n",
    "import pandas as pd\n",
    "import numpy as np"
   ]
  },
  {
   "cell_type": "code",
   "execution_count": 3,
   "metadata": {},
   "outputs": [],
   "source": [
    "react_df = pd.read_csv(\"data/dat_MEG_clean.txt\", sep=\" \")"
   ]
  },
  {
   "cell_type": "code",
   "execution_count": 6,
   "metadata": {},
   "outputs": [
    {
     "data": {
      "text/html": [
       "<div>\n",
       "<style scoped>\n",
       "    .dataframe tbody tr th:only-of-type {\n",
       "        vertical-align: middle;\n",
       "    }\n",
       "\n",
       "    .dataframe tbody tr th {\n",
       "        vertical-align: top;\n",
       "    }\n",
       "\n",
       "    .dataframe thead th {\n",
       "        text-align: right;\n",
       "    }\n",
       "</style>\n",
       "<table border=\"1\" class=\"dataframe\">\n",
       "  <thead>\n",
       "    <tr style=\"text-align: right;\">\n",
       "      <th></th>\n",
       "      <th>Subject</th>\n",
       "      <th>Block</th>\n",
       "      <th>hand</th>\n",
       "      <th>Trial</th>\n",
       "      <th>Fan</th>\n",
       "      <th>Length</th>\n",
       "      <th>PairType</th>\n",
       "      <th>acc</th>\n",
       "      <th>RT</th>\n",
       "    </tr>\n",
       "  </thead>\n",
       "  <tbody>\n",
       "    <tr>\n",
       "      <th>0</th>\n",
       "      <td>5</td>\n",
       "      <td>1</td>\n",
       "      <td>RIGHT</td>\n",
       "      <td>2</td>\n",
       "      <td>1</td>\n",
       "      <td>Short</td>\n",
       "      <td>RPFoil</td>\n",
       "      <td>1</td>\n",
       "      <td>2214</td>\n",
       "    </tr>\n",
       "    <tr>\n",
       "      <th>1</th>\n",
       "      <td>5</td>\n",
       "      <td>1</td>\n",
       "      <td>RIGHT</td>\n",
       "      <td>3</td>\n",
       "      <td>1</td>\n",
       "      <td>Short</td>\n",
       "      <td>Target</td>\n",
       "      <td>1</td>\n",
       "      <td>1036</td>\n",
       "    </tr>\n",
       "    <tr>\n",
       "      <th>2</th>\n",
       "      <td>5</td>\n",
       "      <td>1</td>\n",
       "      <td>RIGHT</td>\n",
       "      <td>4</td>\n",
       "      <td>2</td>\n",
       "      <td>Short</td>\n",
       "      <td>RPFoil</td>\n",
       "      <td>0</td>\n",
       "      <td>1170</td>\n",
       "    </tr>\n",
       "    <tr>\n",
       "      <th>3</th>\n",
       "      <td>5</td>\n",
       "      <td>1</td>\n",
       "      <td>RIGHT</td>\n",
       "      <td>5</td>\n",
       "      <td>1</td>\n",
       "      <td>Short</td>\n",
       "      <td>RPFoil</td>\n",
       "      <td>1</td>\n",
       "      <td>1093</td>\n",
       "    </tr>\n",
       "    <tr>\n",
       "      <th>4</th>\n",
       "      <td>5</td>\n",
       "      <td>1</td>\n",
       "      <td>RIGHT</td>\n",
       "      <td>6</td>\n",
       "      <td>2</td>\n",
       "      <td>Long</td>\n",
       "      <td>RPFoil</td>\n",
       "      <td>1</td>\n",
       "      <td>2139</td>\n",
       "    </tr>\n",
       "  </tbody>\n",
       "</table>\n",
       "</div>"
      ],
      "text/plain": [
       "   Subject  Block   hand  Trial  Fan Length PairType  acc    RT\n",
       "0        5      1  RIGHT      2    1  Short   RPFoil    1  2214\n",
       "1        5      1  RIGHT      3    1  Short   Target    1  1036\n",
       "2        5      1  RIGHT      4    2  Short   RPFoil    0  1170\n",
       "3        5      1  RIGHT      5    1  Short   RPFoil    1  1093\n",
       "4        5      1  RIGHT      6    2   Long   RPFoil    1  2139"
      ]
     },
     "execution_count": 6,
     "metadata": {},
     "output_type": "execute_result"
    }
   ],
   "source": [
    "react_df.head()"
   ]
  },
  {
   "cell_type": "code",
   "execution_count": 98,
   "metadata": {},
   "outputs": [
    {
     "data": {
      "image/png": "[encoded data removed]",
      "text/plain": [
       "<matplotlib.figure.Figure at 0x7f594e74ee10>"
      ]
     },
     "metadata": {},
     "output_type": "display_data"
    }
   ],
   "source": [
    "ax = sns.barplot(x=\"PairType\", y=\"RT\", hue=\"Fan\", data=react_df)\n",
    "ax.set_title(\"Mean Reaction Time\")\n",
    "ax.set_ylabel(\"Reaction Time (ms)\")\n",
    "ax.set_xlabel(\"Pair Type\")\n",
    "ax.figure.savefig(\"react_time.pdf\", format=\"pdf\")"
   ]
  },
  {
   "cell_type": "code",
   "execution_count": 10,
   "metadata": {},
   "outputs": [],
   "source": [
    "res = react_df[\"acc\"].groupby([react_df[\"Subject\"], react_df[\"Fan\"], react_df[\"PairType\"]]).apply(lambda g: g.sum()/g.count())"
   ]
  },
  {
   "cell_type": "code",
   "execution_count": 11,
   "metadata": {},
   "outputs": [
    {
     "data": {
      "text/html": [
       "<div>\n",
       "<style scoped>\n",
       "    .dataframe tbody tr th:only-of-type {\n",
       "        vertical-align: middle;\n",
       "    }\n",
       "\n",
       "    .dataframe tbody tr th {\n",
       "        vertical-align: top;\n",
       "    }\n",
       "\n",
       "    .dataframe thead th {\n",
       "        text-align: right;\n",
       "    }\n",
       "</style>\n",
       "<table border=\"1\" class=\"dataframe\">\n",
       "  <thead>\n",
       "    <tr style=\"text-align: right;\">\n",
       "      <th></th>\n",
       "      <th>Subject</th>\n",
       "      <th>Fan</th>\n",
       "      <th>PairType</th>\n",
       "      <th>acc</th>\n",
       "      <th>err</th>\n",
       "    </tr>\n",
       "  </thead>\n",
       "  <tbody>\n",
       "    <tr>\n",
       "      <th>0</th>\n",
       "      <td>5</td>\n",
       "      <td>1</td>\n",
       "      <td>RPFoil</td>\n",
       "      <td>0.954751</td>\n",
       "      <td>0.045249</td>\n",
       "    </tr>\n",
       "    <tr>\n",
       "      <th>1</th>\n",
       "      <td>5</td>\n",
       "      <td>1</td>\n",
       "      <td>Target</td>\n",
       "      <td>0.972603</td>\n",
       "      <td>0.027397</td>\n",
       "    </tr>\n",
       "    <tr>\n",
       "      <th>2</th>\n",
       "      <td>5</td>\n",
       "      <td>2</td>\n",
       "      <td>RPFoil</td>\n",
       "      <td>0.818182</td>\n",
       "      <td>0.181818</td>\n",
       "    </tr>\n",
       "    <tr>\n",
       "      <th>3</th>\n",
       "      <td>5</td>\n",
       "      <td>2</td>\n",
       "      <td>Target</td>\n",
       "      <td>0.876147</td>\n",
       "      <td>0.123853</td>\n",
       "    </tr>\n",
       "    <tr>\n",
       "      <th>4</th>\n",
       "      <td>9</td>\n",
       "      <td>1</td>\n",
       "      <td>RPFoil</td>\n",
       "      <td>0.990909</td>\n",
       "      <td>0.009091</td>\n",
       "    </tr>\n",
       "  </tbody>\n",
       "</table>\n",
       "</div>"
      ],
      "text/plain": [
       "   Subject  Fan PairType       acc       err\n",
       "0        5    1   RPFoil  0.954751  0.045249\n",
       "1        5    1   Target  0.972603  0.027397\n",
       "2        5    2   RPFoil  0.818182  0.181818\n",
       "3        5    2   Target  0.876147  0.123853\n",
       "4        9    1   RPFoil  0.990909  0.009091"
      ]
     },
     "execution_count": 11,
     "metadata": {},
     "output_type": "execute_result"
    }
   ],
   "source": [
    "df = pd.DataFrame(res)\n",
    "df.reset_index(inplace=True)\n",
    "df['err'] = 1.0-df['acc']\n",
    "df.head()"
   ]
  },
  {
   "cell_type": "code",
   "execution_count": 99,
   "metadata": {},
   "outputs": [
    {
     "data": {
      "image/png": "[encoded data removed]",
      "text/plain": [
       "<matplotlib.figure.Figure at 0x7f594e6fedd8>"
      ]
     },
     "metadata": {},
     "output_type": "display_data"
    }
   ],
   "source": [
    "ax = sns.barplot(x=\"PairType\", y=\"err\", hue=\"Fan\", data=df, estimator=np.mean)\n",
    "ax.set_title(\"Mean per-Subject Error Rate\")\n",
    "ax.set_ylabel(\"Error Rate\")\n",
    "ax.set_xlabel(\"Pair Type\")\n",
    "ax.figure.savefig(\"error_rate.pdf\", format=\"pdf\")"
   ]
  },
  {
   "cell_type": "code",
   "execution_count": 77,
   "metadata": {},
   "outputs": [],
   "source": [
    "arr_list = []\n",
    "file_names = (\"recollection_target_fan1_lh.txt\",\n",
    "              \"recollection_target_fan2_lh.txt\",\n",
    "              \"recollection_foil_fan1_lh.txt\",\n",
    "              \"recollection_foil_fan2_lh.txt\")\n",
    "stim_types = (\"Fan1\", \"Fan2\", \"RPFoil1\", \"RPFoil2\")"
   ]
  },
  {
   "cell_type": "code",
   "execution_count": 79,
   "metadata": {},
   "outputs": [],
   "source": [
    "for fn in file_names:\n",
    "    with open(f\"data/meg_recall/{fn}\", \"r\") as fi:\n",
    "        subj_lines = fi.readlines()\n",
    "\n",
    "    arr_list.append(np.array([list(map(float, subj.split(\",\"))) for subj in subj_lines]))"
   ]
  },
  {
   "cell_type": "code",
   "execution_count": 83,
   "metadata": {},
   "outputs": [
    {
     "data": {
      "text/plain": [
       "(18, 251)"
      ]
     },
     "execution_count": 83,
     "metadata": {},
     "output_type": "execute_result"
    }
   ],
   "source": [
    "arr_list[0].shape"
   ]
  },
  {
   "cell_type": "code",
   "execution_count": 91,
   "metadata": {},
   "outputs": [],
   "source": [
    "import matplotlib.patches as mpatches"
   ]
  },
  {
   "cell_type": "code",
   "execution_count": 100,
   "metadata": {},
   "outputs": [
    {
     "name": "stderr",
     "output_type": "stream",
     "text": [
      "/usr/local/lib/python3.6/dist-packages/seaborn/timeseries.py:183: UserWarning: The tsplot function is deprecated and will be removed or replaced (in a substantially altered version) in a future release.\n",
      "  warnings.warn(msg, UserWarning)\n"
     ]
    },
    {
     "data": {
      "image/png": "[encoded data removed]",
      "text/plain": [
       "<matplotlib.figure.Figure at 0x7f594e3dad30>"
      ]
     },
     "metadata": {},
     "output_type": "display_data"
    }
   ],
   "source": [
    "for a_i, arr in enumerate(arr_list):\n",
    "    ax = sns.tsplot(color=f\"C{a_i}\", data=arr[:, 50:])\n",
    "\n",
    "ax.set_ylabel(\"Estimated current (mA)\")\n",
    "ax.set_xlabel(\"Time (ms)\")\n",
    "\n",
    "leg_handles = [mpatches.Patch(color=f\"C{a_i}\", label=nm) for a_i, nm in enumerate(stim_types)]\n",
    "\n",
    "plt.legend(handles=leg_handles, title=\"Stimuli Types\")\n",
    "\n",
    "plt.title(\"Recall MEG Response\")\n",
    "plt.savefig(\"recall_meg.pdf\", format=\"pdf\")"
   ]
  },
  {
   "cell_type": "code",
   "execution_count": 112,
   "metadata": {},
   "outputs": [],
   "source": [
    "new_labels = [float(xtick.get_text()) for xtick in ax.get_xticklabels()]"
   ]
  },
  {
   "cell_type": "code",
   "execution_count": 113,
   "metadata": {},
   "outputs": [
    {
     "data": {
      "text/plain": [
       "[0.0, 25.0, 50.0, 75.0, 100.0, 125.0, 150.0, 175.0, 200.0]"
      ]
     },
     "execution_count": 113,
     "metadata": {},
     "output_type": "execute_result"
    }
   ],
   "source": [
    "new_labels"
   ]
  },
  {
   "cell_type": "code",
   "execution_count": 109,
   "metadata": {},
   "outputs": [
    {
     "data": {
      "text/plain": [
       "\u001b[0;31mSignature:\u001b[0m \u001b[0max\u001b[0m\u001b[0;34m.\u001b[0m\u001b[0mset_xticklabels\u001b[0m\u001b[0;34m(\u001b[0m\u001b[0mlabels\u001b[0m\u001b[0;34m,\u001b[0m \u001b[0mfontdict\u001b[0m\u001b[0;34m=\u001b[0m\u001b[0;32mNone\u001b[0m\u001b[0;34m,\u001b[0m \u001b[0mminor\u001b[0m\u001b[0;34m=\u001b[0m\u001b[0;32mFalse\u001b[0m\u001b[0;34m,\u001b[0m \u001b[0;34m**\u001b[0m\u001b[0mkwargs\u001b[0m\u001b[0;34m)\u001b[0m\u001b[0;34m\u001b[0m\u001b[0m\n",
       "\u001b[0;31mDocstring:\u001b[0m\n",
       "Set the xtick labels with list of string labels\n",
       "\n",
       "Parameters\n",
       "----------\n",
       "labels : list of str\n",
       "    list of string labels\n",
       "\n",
       "fontdict : dict, optional\n",
       "    A dictionary controlling the appearance of the ticklabels,\n",
       "    the default `fontdict` is:\n",
       "\n",
       "       {'fontsize': rcParams['axes.titlesize'],\n",
       "        'fontweight' : rcParams['axes.titleweight'],\n",
       "        'verticalalignment': 'baseline',\n",
       "        'horizontalalignment': loc}\n",
       "\n",
       "minor : bool, optional\n",
       "    If True select the minor ticklabels,\n",
       "    else select the minor ticklabels\n",
       "\n",
       "Returns\n",
       "-------\n",
       "A list of `~matplotlib.text.Text` instances\n",
       "\n",
       "Other Parameters\n",
       "-----------------\n",
       "**kwargs : `~matplotlib.text.Text` properties.\n",
       "\u001b[0;31mFile:\u001b[0m      /usr/local/lib/python3.6/dist-packages/matplotlib/axes/_base.py\n",
       "\u001b[0;31mType:\u001b[0m      method\n"
      ]
     },
     "metadata": {},
     "output_type": "display_data"
    }
   ],
   "source": [
    "ax.set_xticklabels?"
   ]
  },
  {
   "cell_type": "code",
   "execution_count": null,
   "metadata": {},
   "outputs": [],
   "source": []
  }
 ],
 "metadata": {
  "kernelspec": {
   "display_name": "Python 3",
   "language": "python",
   "name": "python3"
  },
  "language_info": {
   "codemirror_mode": {
    "name": "ipython",
    "version": 3
   },
   "file_extension": ".py",
   "mimetype": "text/x-python",
   "name": "python",
   "nbconvert_exporter": "python",
   "pygments_lexer": "ipython3",
   "version": "3.6.3"
  }
 },
 "nbformat": 4,
 "nbformat_minor": 2
}
